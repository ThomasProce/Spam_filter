{
  "cells": [
    {
      "cell_type": "code",
      "execution_count": null,
      "metadata": {
        "colab": {
          "base_uri": "https://localhost:8080/"
        },
        "id": "geamhdEahKIK",
        "outputId": "ef89cdb2-c599-4a9b-ae26-e94087542373"
      },
      "outputs": [
        {
          "name": "stdout",
          "output_type": "stream",
          "text": [
            "Drive already mounted at /content/drive; to attempt to forcibly remount, call drive.mount(\"/content/drive\", force_remount=True).\n"
          ]
        }
      ],
      "source": [
        "from google.colab import drive\n",
        "drive.mount('/content/drive')"
      ]
    },
    {
      "cell_type": "code",
      "execution_count": null,
      "metadata": {
        "colab": {
          "base_uri": "https://localhost:8080/"
        },
        "id": "HIRX736Z8HGK",
        "outputId": "35d4e327-9d7d-41f1-b058-95d95217c8cc"
      },
      "outputs": [
        {
          "name": "stdout",
          "output_type": "stream",
          "text": [
            "--2024-02-06 10:35:30--  https://raw.githubusercontent.com/ProfAI/natural-language-processing/main/datasets/Verifica%20Finale%20-%20Spam%20Detection/spam_dataset.csv\n",
            "Resolving raw.githubusercontent.com (raw.githubusercontent.com)... 185.199.109.133, 185.199.110.133, 185.199.108.133, ...\n",
            "Connecting to raw.githubusercontent.com (raw.githubusercontent.com)|185.199.109.133|:443... connected.\n",
            "HTTP request sent, awaiting response... 200 OK\n",
            "Length: 5400995 (5.2M) [text/plain]\n",
            "Saving to: ‘spam_dataset.csv.1’\n",
            "\n",
            "spam_dataset.csv.1  100%[===================>]   5.15M  20.2MB/s    in 0.3s    \n",
            "\n",
            "2024-02-06 10:35:32 (20.2 MB/s) - ‘spam_dataset.csv.1’ saved [5400995/5400995]\n",
            "\n"
          ]
        }
      ],
      "source": [
        "!wget https://raw.githubusercontent.com/ProfAI/natural-language-processing/main/datasets/Verifica%20Finale%20-%20Spam%20Detection/spam_dataset.csv"
      ]
    },
    {
      "cell_type": "code",
      "execution_count": null,
      "metadata": {
        "colab": {
          "base_uri": "https://localhost:8080/"
        },
        "id": "ORD-90dyZpi7",
        "outputId": "4d72685a-bedd-4d36-c786-2dc4d2c55bf0"
      },
      "outputs": [
        {
          "name": "stdout",
          "output_type": "stream",
          "text": [
            "\u001b[2K     \u001b[90m━━━━━━━━━━━━━━━━━━━━━━━━━━━━━━━━━━━━━━━━\u001b[0m \u001b[32m346.6/346.6 kB\u001b[0m \u001b[31m5.2 MB/s\u001b[0m eta \u001b[36m0:00:00\u001b[0m\n",
            "\u001b[2K     \u001b[90m━━━━━━━━━━━━━━━━━━━━━━━━━━━━━━━━━━━━━━━━\u001b[0m \u001b[32m2.6/2.6 MB\u001b[0m \u001b[31m11.1 MB/s\u001b[0m eta \u001b[36m0:00:00\u001b[0m\n",
            "\u001b[?25h"
          ]
        }
      ],
      "source": [
        "!pip install funcy -q\n",
        "!pip install tzdata -q\n",
        "!pip install --no-deps pyLDAvis -q"
      ]
    },
    {
      "cell_type": "code",
      "execution_count": 636,
      "metadata": {
        "colab": {
          "base_uri": "https://localhost:8080/"
        },
        "id": "8zeUkGSIALQQ",
        "outputId": "fdbfac73-f34f-49e9-fdbb-ddd49d79cb05"
      },
      "outputs": [
        {
          "name": "stdout",
          "output_type": "stream",
          "text": [
            "\u001b[2K     \u001b[90m━━━━━━━━━━━━━━━━━━━━━━━━━━━━━━━━━━━━━━━━\u001b[0m \u001b[32m12.8/12.8 MB\u001b[0m \u001b[31m38.4 MB/s\u001b[0m eta \u001b[36m0:00:00\u001b[0m\n",
            "\u001b[?25h\u001b[38;5;2m✔ Download and installation successful\u001b[0m\n",
            "You can now load the package via spacy.load('en_core_web_sm')\n"
          ]
        },
        {
          "name": "stderr",
          "output_type": "stream",
          "text": [
            "[nltk_data] Downloading package stopwords to /root/nltk_data...\n",
            "[nltk_data]   Package stopwords is already up-to-date!\n",
            "[nltk_data] Downloading package punkt to /root/nltk_data...\n",
            "[nltk_data]   Package punkt is already up-to-date!\n",
            "[nltk_data] Downloading package wordnet to /root/nltk_data...\n",
            "[nltk_data]   Package wordnet is already up-to-date!\n"
          ]
        },
        {
          "data": {
            "text/plain": [
              "True"
            ]
          },
          "execution_count": 636,
          "metadata": {},
          "output_type": "execute_result"
        }
      ],
      "source": [
        "# Visualization and EDA\n",
        "import pandas as pd\n",
        "import numpy as np\n",
        "import matplotlib.pyplot as plt\n",
        "import seaborn as sns\n",
        "\n",
        "# utils & preprocessing\n",
        "from tqdm import tqdm\n",
        "from collections import Counter\n",
        "import re\n",
        "import string\n",
        "import warnings\n",
        "\n",
        "# Classification\n",
        "\n",
        "from sklearn.model_selection import train_test_split\n",
        "from sklearn.feature_extraction.text import CountVectorizer\n",
        "from sklearn.naive_bayes import MultinomialNB\n",
        "from sklearn.metrics import classification_report\n",
        "from sklearn.pipeline import Pipeline\n",
        "\n",
        "# Natural Language Processing\n",
        "import nltk\n",
        "from nltk.tokenize import word_tokenize\n",
        "from nltk.stem import WordNetLemmatizer\n",
        "from nltk.corpus import stopwords\n",
        "from gensim.models import CoherenceModel,LdaModel\n",
        "from gensim.corpora import Dictionary\n",
        "from pprint import pprint\n",
        "import pyLDAvis.gensim\n",
        "\n",
        "import spacy\n",
        "import os\n",
        "nlp = spacy.load('en_core_web_sm')\n",
        "!python -m spacy download en_core_web_sm -q\n",
        "\n",
        "nltk.download('stopwords')\n",
        "nltk.download('punkt')\n",
        "nltk.download('wordnet')"
      ]
    },
    {
      "cell_type": "code",
      "execution_count": null,
      "metadata": {
        "colab": {
          "base_uri": "https://localhost:8080/"
        },
        "id": "9EXLQPWqMJz-",
        "outputId": "7af92ec4-ddc4-4491-9c71-56420af6ee7b"
      },
      "outputs": [
        {
          "name": "stderr",
          "output_type": "stream",
          "text": [
            "/usr/local/lib/python3.10/dist-packages/ipykernel/ipkernel.py:283: DeprecationWarning: `should_run_async` will not call `transform_cell` automatically in the future. Please pass the result to `transformed_cell` argument and any exception that happen during thetransform in `preprocessing_exc_tuple` in IPython 7.17 and above.\n",
            "  and should_run_async(code)\n"
          ]
        }
      ],
      "source": [
        "# Ignore DeprecationWarnings\n",
        "warnings.simplefilter('ignore', category=DeprecationWarning)\n",
        "\n",
        "# Define a seed for reproducibility\n",
        "np.random.seed(42)"
      ]
    },
    {
      "cell_type": "code",
      "execution_count": null,
      "metadata": {
        "id": "X7AuhC4pARzx"
      },
      "outputs": [],
      "source": [
        "df = pd.read_csv('spam_dataset.csv')"
      ]
    },
    {
      "cell_type": "markdown",
      "metadata": {
        "id": "0gP3asvPBVAh"
      },
      "source": [
        "# FAST PRE EDA CLEANING\n",
        "\n",
        "- NaN values\n",
        "- Missing values\n",
        "- Duplicates\n",
        "- Useless columns"
      ]
    },
    {
      "cell_type": "code",
      "execution_count": null,
      "metadata": {
        "colab": {
          "base_uri": "https://localhost:8080/",
          "height": 363
        },
        "id": "cpcZ3TuYATgB",
        "outputId": "bb0041f5-2849-47d4-ca03-06bd821d6146"
      },
      "outputs": [
        {
          "data": {
            "text/html": [
              "\n",
              "  <div id=\"df-41093c1c-4309-40a7-a9a7-8bf5437302fd\" class=\"colab-df-container\">\n",
              "    <div>\n",
              "<style scoped>\n",
              "    .dataframe tbody tr th:only-of-type {\n",
              "        vertical-align: middle;\n",
              "    }\n",
              "\n",
              "    .dataframe tbody tr th {\n",
              "        vertical-align: top;\n",
              "    }\n",
              "\n",
              "    .dataframe thead th {\n",
              "        text-align: right;\n",
              "    }\n",
              "</style>\n",
              "<table border=\"1\" class=\"dataframe\">\n",
              "  <thead>\n",
              "    <tr style=\"text-align: right;\">\n",
              "      <th></th>\n",
              "      <th>Unnamed: 0</th>\n",
              "      <th>label</th>\n",
              "      <th>text</th>\n",
              "      <th>label_num</th>\n",
              "    </tr>\n",
              "  </thead>\n",
              "  <tbody>\n",
              "    <tr>\n",
              "      <th>0</th>\n",
              "      <td>605</td>\n",
              "      <td>ham</td>\n",
              "      <td>Subject: enron methanol ; meter # : 988291\\nth...</td>\n",
              "      <td>0</td>\n",
              "    </tr>\n",
              "    <tr>\n",
              "      <th>1</th>\n",
              "      <td>2349</td>\n",
              "      <td>ham</td>\n",
              "      <td>Subject: hpl nom for january 9 , 2001\\n( see a...</td>\n",
              "      <td>0</td>\n",
              "    </tr>\n",
              "    <tr>\n",
              "      <th>2</th>\n",
              "      <td>3624</td>\n",
              "      <td>ham</td>\n",
              "      <td>Subject: neon retreat\\nho ho ho , we ' re arou...</td>\n",
              "      <td>0</td>\n",
              "    </tr>\n",
              "    <tr>\n",
              "      <th>3</th>\n",
              "      <td>4685</td>\n",
              "      <td>spam</td>\n",
              "      <td>Subject: photoshop , windows , office . cheap ...</td>\n",
              "      <td>1</td>\n",
              "    </tr>\n",
              "    <tr>\n",
              "      <th>4</th>\n",
              "      <td>2030</td>\n",
              "      <td>ham</td>\n",
              "      <td>Subject: re : indian springs\\nthis deal is to ...</td>\n",
              "      <td>0</td>\n",
              "    </tr>\n",
              "    <tr>\n",
              "      <th>5</th>\n",
              "      <td>2949</td>\n",
              "      <td>ham</td>\n",
              "      <td>Subject: ehronline web address change\\nthis me...</td>\n",
              "      <td>0</td>\n",
              "    </tr>\n",
              "    <tr>\n",
              "      <th>6</th>\n",
              "      <td>2793</td>\n",
              "      <td>ham</td>\n",
              "      <td>Subject: spring savings certificate - take 30 ...</td>\n",
              "      <td>0</td>\n",
              "    </tr>\n",
              "    <tr>\n",
              "      <th>7</th>\n",
              "      <td>4185</td>\n",
              "      <td>spam</td>\n",
              "      <td>Subject: looking for medication ? we ` re the ...</td>\n",
              "      <td>1</td>\n",
              "    </tr>\n",
              "    <tr>\n",
              "      <th>8</th>\n",
              "      <td>2641</td>\n",
              "      <td>ham</td>\n",
              "      <td>Subject: noms / actual flow for 2 / 26\\nwe agr...</td>\n",
              "      <td>0</td>\n",
              "    </tr>\n",
              "    <tr>\n",
              "      <th>9</th>\n",
              "      <td>1870</td>\n",
              "      <td>ham</td>\n",
              "      <td>Subject: nominations for oct . 21 - 23 , 2000\\...</td>\n",
              "      <td>0</td>\n",
              "    </tr>\n",
              "  </tbody>\n",
              "</table>\n",
              "</div>\n",
              "    <div class=\"colab-df-buttons\">\n",
              "\n",
              "  <div class=\"colab-df-container\">\n",
              "    <button class=\"colab-df-convert\" onclick=\"convertToInteractive('df-41093c1c-4309-40a7-a9a7-8bf5437302fd')\"\n",
              "            title=\"Convert this dataframe to an interactive table.\"\n",
              "            style=\"display:none;\">\n",
              "\n",
              "  <svg xmlns=\"http://www.w3.org/2000/svg\" height=\"24px\" viewBox=\"0 -960 960 960\">\n",
              "    <path d=\"M120-120v-720h720v720H120Zm60-500h600v-160H180v160Zm220 220h160v-160H400v160Zm0 220h160v-160H400v160ZM180-400h160v-160H180v160Zm440 0h160v-160H620v160ZM180-180h160v-160H180v160Zm440 0h160v-160H620v160Z\"/>\n",
              "  </svg>\n",
              "    </button>\n",
              "\n",
              "  <style>\n",
              "    .colab-df-container {\n",
              "      display:flex;\n",
              "      gap: 12px;\n",
              "    }\n",
              "\n",
              "    .colab-df-convert {\n",
              "      background-color: #E8F0FE;\n",
              "      border: none;\n",
              "      border-radius: 50%;\n",
              "      cursor: pointer;\n",
              "      display: none;\n",
              "      fill: #1967D2;\n",
              "      height: 32px;\n",
              "      padding: 0 0 0 0;\n",
              "      width: 32px;\n",
              "    }\n",
              "\n",
              "    .colab-df-convert:hover {\n",
              "      background-color: #E2EBFA;\n",
              "      box-shadow: 0px 1px 2px rgba(60, 64, 67, 0.3), 0px 1px 3px 1px rgba(60, 64, 67, 0.15);\n",
              "      fill: #174EA6;\n",
              "    }\n",
              "\n",
              "    .colab-df-buttons div {\n",
              "      margin-bottom: 4px;\n",
              "    }\n",
              "\n",
              "    [theme=dark] .colab-df-convert {\n",
              "      background-color: #3B4455;\n",
              "      fill: #D2E3FC;\n",
              "    }\n",
              "\n",
              "    [theme=dark] .colab-df-convert:hover {\n",
              "      background-color: #434B5C;\n",
              "      box-shadow: 0px 1px 3px 1px rgba(0, 0, 0, 0.15);\n",
              "      filter: drop-shadow(0px 1px 2px rgba(0, 0, 0, 0.3));\n",
              "      fill: #FFFFFF;\n",
              "    }\n",
              "  </style>\n",
              "\n",
              "    <script>\n",
              "      const buttonEl =\n",
              "        document.querySelector('#df-41093c1c-4309-40a7-a9a7-8bf5437302fd button.colab-df-convert');\n",
              "      buttonEl.style.display =\n",
              "        google.colab.kernel.accessAllowed ? 'block' : 'none';\n",
              "\n",
              "      async function convertToInteractive(key) {\n",
              "        const element = document.querySelector('#df-41093c1c-4309-40a7-a9a7-8bf5437302fd');\n",
              "        const dataTable =\n",
              "          await google.colab.kernel.invokeFunction('convertToInteractive',\n",
              "                                                    [key], {});\n",
              "        if (!dataTable) return;\n",
              "\n",
              "        const docLinkHtml = 'Like what you see? Visit the ' +\n",
              "          '<a target=\"_blank\" href=https://colab.research.google.com/notebooks/data_table.ipynb>data table notebook</a>'\n",
              "          + ' to learn more about interactive tables.';\n",
              "        element.innerHTML = '';\n",
              "        dataTable['output_type'] = 'display_data';\n",
              "        await google.colab.output.renderOutput(dataTable, element);\n",
              "        const docLink = document.createElement('div');\n",
              "        docLink.innerHTML = docLinkHtml;\n",
              "        element.appendChild(docLink);\n",
              "      }\n",
              "    </script>\n",
              "  </div>\n",
              "\n",
              "\n",
              "<div id=\"df-5a51b8b1-0c42-4a2a-ba39-30eb5da4b413\">\n",
              "  <button class=\"colab-df-quickchart\" onclick=\"quickchart('df-5a51b8b1-0c42-4a2a-ba39-30eb5da4b413')\"\n",
              "            title=\"Suggest charts\"\n",
              "            style=\"display:none;\">\n",
              "\n",
              "<svg xmlns=\"http://www.w3.org/2000/svg\" height=\"24px\"viewBox=\"0 0 24 24\"\n",
              "     width=\"24px\">\n",
              "    <g>\n",
              "        <path d=\"M19 3H5c-1.1 0-2 .9-2 2v14c0 1.1.9 2 2 2h14c1.1 0 2-.9 2-2V5c0-1.1-.9-2-2-2zM9 17H7v-7h2v7zm4 0h-2V7h2v10zm4 0h-2v-4h2v4z\"/>\n",
              "    </g>\n",
              "</svg>\n",
              "  </button>\n",
              "\n",
              "<style>\n",
              "  .colab-df-quickchart {\n",
              "      --bg-color: #E8F0FE;\n",
              "      --fill-color: #1967D2;\n",
              "      --hover-bg-color: #E2EBFA;\n",
              "      --hover-fill-color: #174EA6;\n",
              "      --disabled-fill-color: #AAA;\n",
              "      --disabled-bg-color: #DDD;\n",
              "  }\n",
              "\n",
              "  [theme=dark] .colab-df-quickchart {\n",
              "      --bg-color: #3B4455;\n",
              "      --fill-color: #D2E3FC;\n",
              "      --hover-bg-color: #434B5C;\n",
              "      --hover-fill-color: #FFFFFF;\n",
              "      --disabled-bg-color: #3B4455;\n",
              "      --disabled-fill-color: #666;\n",
              "  }\n",
              "\n",
              "  .colab-df-quickchart {\n",
              "    background-color: var(--bg-color);\n",
              "    border: none;\n",
              "    border-radius: 50%;\n",
              "    cursor: pointer;\n",
              "    display: none;\n",
              "    fill: var(--fill-color);\n",
              "    height: 32px;\n",
              "    padding: 0;\n",
              "    width: 32px;\n",
              "  }\n",
              "\n",
              "  .colab-df-quickchart:hover {\n",
              "    background-color: var(--hover-bg-color);\n",
              "    box-shadow: 0 1px 2px rgba(60, 64, 67, 0.3), 0 1px 3px 1px rgba(60, 64, 67, 0.15);\n",
              "    fill: var(--button-hover-fill-color);\n",
              "  }\n",
              "\n",
              "  .colab-df-quickchart-complete:disabled,\n",
              "  .colab-df-quickchart-complete:disabled:hover {\n",
              "    background-color: var(--disabled-bg-color);\n",
              "    fill: var(--disabled-fill-color);\n",
              "    box-shadow: none;\n",
              "  }\n",
              "\n",
              "  .colab-df-spinner {\n",
              "    border: 2px solid var(--fill-color);\n",
              "    border-color: transparent;\n",
              "    border-bottom-color: var(--fill-color);\n",
              "    animation:\n",
              "      spin 1s steps(1) infinite;\n",
              "  }\n",
              "\n",
              "  @keyframes spin {\n",
              "    0% {\n",
              "      border-color: transparent;\n",
              "      border-bottom-color: var(--fill-color);\n",
              "      border-left-color: var(--fill-color);\n",
              "    }\n",
              "    20% {\n",
              "      border-color: transparent;\n",
              "      border-left-color: var(--fill-color);\n",
              "      border-top-color: var(--fill-color);\n",
              "    }\n",
              "    30% {\n",
              "      border-color: transparent;\n",
              "      border-left-color: var(--fill-color);\n",
              "      border-top-color: var(--fill-color);\n",
              "      border-right-color: var(--fill-color);\n",
              "    }\n",
              "    40% {\n",
              "      border-color: transparent;\n",
              "      border-right-color: var(--fill-color);\n",
              "      border-top-color: var(--fill-color);\n",
              "    }\n",
              "    60% {\n",
              "      border-color: transparent;\n",
              "      border-right-color: var(--fill-color);\n",
              "    }\n",
              "    80% {\n",
              "      border-color: transparent;\n",
              "      border-right-color: var(--fill-color);\n",
              "      border-bottom-color: var(--fill-color);\n",
              "    }\n",
              "    90% {\n",
              "      border-color: transparent;\n",
              "      border-bottom-color: var(--fill-color);\n",
              "    }\n",
              "  }\n",
              "</style>\n",
              "\n",
              "  <script>\n",
              "    async function quickchart(key) {\n",
              "      const quickchartButtonEl =\n",
              "        document.querySelector('#' + key + ' button');\n",
              "      quickchartButtonEl.disabled = true;  // To prevent multiple clicks.\n",
              "      quickchartButtonEl.classList.add('colab-df-spinner');\n",
              "      try {\n",
              "        const charts = await google.colab.kernel.invokeFunction(\n",
              "            'suggestCharts', [key], {});\n",
              "      } catch (error) {\n",
              "        console.error('Error during call to suggestCharts:', error);\n",
              "      }\n",
              "      quickchartButtonEl.classList.remove('colab-df-spinner');\n",
              "      quickchartButtonEl.classList.add('colab-df-quickchart-complete');\n",
              "    }\n",
              "    (() => {\n",
              "      let quickchartButtonEl =\n",
              "        document.querySelector('#df-5a51b8b1-0c42-4a2a-ba39-30eb5da4b413 button');\n",
              "      quickchartButtonEl.style.display =\n",
              "        google.colab.kernel.accessAllowed ? 'block' : 'none';\n",
              "    })();\n",
              "  </script>\n",
              "</div>\n",
              "    </div>\n",
              "  </div>\n"
            ],
            "text/plain": [
              "   Unnamed: 0 label                                               text  \\\n",
              "0         605   ham  Subject: enron methanol ; meter # : 988291\\nth...   \n",
              "1        2349   ham  Subject: hpl nom for january 9 , 2001\\n( see a...   \n",
              "2        3624   ham  Subject: neon retreat\\nho ho ho , we ' re arou...   \n",
              "3        4685  spam  Subject: photoshop , windows , office . cheap ...   \n",
              "4        2030   ham  Subject: re : indian springs\\nthis deal is to ...   \n",
              "5        2949   ham  Subject: ehronline web address change\\nthis me...   \n",
              "6        2793   ham  Subject: spring savings certificate - take 30 ...   \n",
              "7        4185  spam  Subject: looking for medication ? we ` re the ...   \n",
              "8        2641   ham  Subject: noms / actual flow for 2 / 26\\nwe agr...   \n",
              "9        1870   ham  Subject: nominations for oct . 21 - 23 , 2000\\...   \n",
              "\n",
              "   label_num  \n",
              "0          0  \n",
              "1          0  \n",
              "2          0  \n",
              "3          1  \n",
              "4          0  \n",
              "5          0  \n",
              "6          0  \n",
              "7          1  \n",
              "8          0  \n",
              "9          0  "
            ]
          },
          "execution_count": 357,
          "metadata": {},
          "output_type": "execute_result"
        }
      ],
      "source": [
        "df.head(10)"
      ]
    },
    {
      "cell_type": "code",
      "execution_count": null,
      "metadata": {
        "colab": {
          "base_uri": "https://localhost:8080/"
        },
        "id": "K1MVrmUEBsFO",
        "outputId": "82aa0d1a-222f-49d9-b2e0-65beb1b70e94"
      },
      "outputs": [
        {
          "data": {
            "text/plain": [
              "(5171, 4)"
            ]
          },
          "execution_count": 358,
          "metadata": {},
          "output_type": "execute_result"
        }
      ],
      "source": [
        "# check the shape of the dataset\n",
        "df.shape"
      ]
    },
    {
      "cell_type": "code",
      "execution_count": null,
      "metadata": {
        "colab": {
          "base_uri": "https://localhost:8080/",
          "height": 363
        },
        "id": "L0R9JtvGAUOH",
        "outputId": "c2b312e7-e7ba-4c8d-8c19-45f7abef7088"
      },
      "outputs": [
        {
          "data": {
            "text/html": [
              "\n",
              "  <div id=\"df-b263c78e-1798-47f1-88ff-45f1048fd48a\" class=\"colab-df-container\">\n",
              "    <div>\n",
              "<style scoped>\n",
              "    .dataframe tbody tr th:only-of-type {\n",
              "        vertical-align: middle;\n",
              "    }\n",
              "\n",
              "    .dataframe tbody tr th {\n",
              "        vertical-align: top;\n",
              "    }\n",
              "\n",
              "    .dataframe thead th {\n",
              "        text-align: right;\n",
              "    }\n",
              "</style>\n",
              "<table border=\"1\" class=\"dataframe\">\n",
              "  <thead>\n",
              "    <tr style=\"text-align: right;\">\n",
              "      <th></th>\n",
              "      <th>text</th>\n",
              "      <th>label</th>\n",
              "    </tr>\n",
              "  </thead>\n",
              "  <tbody>\n",
              "    <tr>\n",
              "      <th>0</th>\n",
              "      <td>Subject: enron methanol ; meter # : 988291\\nth...</td>\n",
              "      <td>ham</td>\n",
              "    </tr>\n",
              "    <tr>\n",
              "      <th>1</th>\n",
              "      <td>Subject: hpl nom for january 9 , 2001\\n( see a...</td>\n",
              "      <td>ham</td>\n",
              "    </tr>\n",
              "    <tr>\n",
              "      <th>2</th>\n",
              "      <td>Subject: neon retreat\\nho ho ho , we ' re arou...</td>\n",
              "      <td>ham</td>\n",
              "    </tr>\n",
              "    <tr>\n",
              "      <th>3</th>\n",
              "      <td>Subject: photoshop , windows , office . cheap ...</td>\n",
              "      <td>spam</td>\n",
              "    </tr>\n",
              "    <tr>\n",
              "      <th>4</th>\n",
              "      <td>Subject: re : indian springs\\nthis deal is to ...</td>\n",
              "      <td>ham</td>\n",
              "    </tr>\n",
              "    <tr>\n",
              "      <th>5</th>\n",
              "      <td>Subject: ehronline web address change\\nthis me...</td>\n",
              "      <td>ham</td>\n",
              "    </tr>\n",
              "    <tr>\n",
              "      <th>6</th>\n",
              "      <td>Subject: spring savings certificate - take 30 ...</td>\n",
              "      <td>ham</td>\n",
              "    </tr>\n",
              "    <tr>\n",
              "      <th>7</th>\n",
              "      <td>Subject: looking for medication ? we ` re the ...</td>\n",
              "      <td>spam</td>\n",
              "    </tr>\n",
              "    <tr>\n",
              "      <th>8</th>\n",
              "      <td>Subject: noms / actual flow for 2 / 26\\nwe agr...</td>\n",
              "      <td>ham</td>\n",
              "    </tr>\n",
              "    <tr>\n",
              "      <th>9</th>\n",
              "      <td>Subject: nominations for oct . 21 - 23 , 2000\\...</td>\n",
              "      <td>ham</td>\n",
              "    </tr>\n",
              "  </tbody>\n",
              "</table>\n",
              "</div>\n",
              "    <div class=\"colab-df-buttons\">\n",
              "\n",
              "  <div class=\"colab-df-container\">\n",
              "    <button class=\"colab-df-convert\" onclick=\"convertToInteractive('df-b263c78e-1798-47f1-88ff-45f1048fd48a')\"\n",
              "            title=\"Convert this dataframe to an interactive table.\"\n",
              "            style=\"display:none;\">\n",
              "\n",
              "  <svg xmlns=\"http://www.w3.org/2000/svg\" height=\"24px\" viewBox=\"0 -960 960 960\">\n",
              "    <path d=\"M120-120v-720h720v720H120Zm60-500h600v-160H180v160Zm220 220h160v-160H400v160Zm0 220h160v-160H400v160ZM180-400h160v-160H180v160Zm440 0h160v-160H620v160ZM180-180h160v-160H180v160Zm440 0h160v-160H620v160Z\"/>\n",
              "  </svg>\n",
              "    </button>\n",
              "\n",
              "  <style>\n",
              "    .colab-df-container {\n",
              "      display:flex;\n",
              "      gap: 12px;\n",
              "    }\n",
              "\n",
              "    .colab-df-convert {\n",
              "      background-color: #E8F0FE;\n",
              "      border: none;\n",
              "      border-radius: 50%;\n",
              "      cursor: pointer;\n",
              "      display: none;\n",
              "      fill: #1967D2;\n",
              "      height: 32px;\n",
              "      padding: 0 0 0 0;\n",
              "      width: 32px;\n",
              "    }\n",
              "\n",
              "    .colab-df-convert:hover {\n",
              "      background-color: #E2EBFA;\n",
              "      box-shadow: 0px 1px 2px rgba(60, 64, 67, 0.3), 0px 1px 3px 1px rgba(60, 64, 67, 0.15);\n",
              "      fill: #174EA6;\n",
              "    }\n",
              "\n",
              "    .colab-df-buttons div {\n",
              "      margin-bottom: 4px;\n",
              "    }\n",
              "\n",
              "    [theme=dark] .colab-df-convert {\n",
              "      background-color: #3B4455;\n",
              "      fill: #D2E3FC;\n",
              "    }\n",
              "\n",
              "    [theme=dark] .colab-df-convert:hover {\n",
              "      background-color: #434B5C;\n",
              "      box-shadow: 0px 1px 3px 1px rgba(0, 0, 0, 0.15);\n",
              "      filter: drop-shadow(0px 1px 2px rgba(0, 0, 0, 0.3));\n",
              "      fill: #FFFFFF;\n",
              "    }\n",
              "  </style>\n",
              "\n",
              "    <script>\n",
              "      const buttonEl =\n",
              "        document.querySelector('#df-b263c78e-1798-47f1-88ff-45f1048fd48a button.colab-df-convert');\n",
              "      buttonEl.style.display =\n",
              "        google.colab.kernel.accessAllowed ? 'block' : 'none';\n",
              "\n",
              "      async function convertToInteractive(key) {\n",
              "        const element = document.querySelector('#df-b263c78e-1798-47f1-88ff-45f1048fd48a');\n",
              "        const dataTable =\n",
              "          await google.colab.kernel.invokeFunction('convertToInteractive',\n",
              "                                                    [key], {});\n",
              "        if (!dataTable) return;\n",
              "\n",
              "        const docLinkHtml = 'Like what you see? Visit the ' +\n",
              "          '<a target=\"_blank\" href=https://colab.research.google.com/notebooks/data_table.ipynb>data table notebook</a>'\n",
              "          + ' to learn more about interactive tables.';\n",
              "        element.innerHTML = '';\n",
              "        dataTable['output_type'] = 'display_data';\n",
              "        await google.colab.output.renderOutput(dataTable, element);\n",
              "        const docLink = document.createElement('div');\n",
              "        docLink.innerHTML = docLinkHtml;\n",
              "        element.appendChild(docLink);\n",
              "      }\n",
              "    </script>\n",
              "  </div>\n",
              "\n",
              "\n",
              "<div id=\"df-d842aa3e-f934-4336-8bf0-713417d2d9c8\">\n",
              "  <button class=\"colab-df-quickchart\" onclick=\"quickchart('df-d842aa3e-f934-4336-8bf0-713417d2d9c8')\"\n",
              "            title=\"Suggest charts\"\n",
              "            style=\"display:none;\">\n",
              "\n",
              "<svg xmlns=\"http://www.w3.org/2000/svg\" height=\"24px\"viewBox=\"0 0 24 24\"\n",
              "     width=\"24px\">\n",
              "    <g>\n",
              "        <path d=\"M19 3H5c-1.1 0-2 .9-2 2v14c0 1.1.9 2 2 2h14c1.1 0 2-.9 2-2V5c0-1.1-.9-2-2-2zM9 17H7v-7h2v7zm4 0h-2V7h2v10zm4 0h-2v-4h2v4z\"/>\n",
              "    </g>\n",
              "</svg>\n",
              "  </button>\n",
              "\n",
              "<style>\n",
              "  .colab-df-quickchart {\n",
              "      --bg-color: #E8F0FE;\n",
              "      --fill-color: #1967D2;\n",
              "      --hover-bg-color: #E2EBFA;\n",
              "      --hover-fill-color: #174EA6;\n",
              "      --disabled-fill-color: #AAA;\n",
              "      --disabled-bg-color: #DDD;\n",
              "  }\n",
              "\n",
              "  [theme=dark] .colab-df-quickchart {\n",
              "      --bg-color: #3B4455;\n",
              "      --fill-color: #D2E3FC;\n",
              "      --hover-bg-color: #434B5C;\n",
              "      --hover-fill-color: #FFFFFF;\n",
              "      --disabled-bg-color: #3B4455;\n",
              "      --disabled-fill-color: #666;\n",
              "  }\n",
              "\n",
              "  .colab-df-quickchart {\n",
              "    background-color: var(--bg-color);\n",
              "    border: none;\n",
              "    border-radius: 50%;\n",
              "    cursor: pointer;\n",
              "    display: none;\n",
              "    fill: var(--fill-color);\n",
              "    height: 32px;\n",
              "    padding: 0;\n",
              "    width: 32px;\n",
              "  }\n",
              "\n",
              "  .colab-df-quickchart:hover {\n",
              "    background-color: var(--hover-bg-color);\n",
              "    box-shadow: 0 1px 2px rgba(60, 64, 67, 0.3), 0 1px 3px 1px rgba(60, 64, 67, 0.15);\n",
              "    fill: var(--button-hover-fill-color);\n",
              "  }\n",
              "\n",
              "  .colab-df-quickchart-complete:disabled,\n",
              "  .colab-df-quickchart-complete:disabled:hover {\n",
              "    background-color: var(--disabled-bg-color);\n",
              "    fill: var(--disabled-fill-color);\n",
              "    box-shadow: none;\n",
              "  }\n",
              "\n",
              "  .colab-df-spinner {\n",
              "    border: 2px solid var(--fill-color);\n",
              "    border-color: transparent;\n",
              "    border-bottom-color: var(--fill-color);\n",
              "    animation:\n",
              "      spin 1s steps(1) infinite;\n",
              "  }\n",
              "\n",
              "  @keyframes spin {\n",
              "    0% {\n",
              "      border-color: transparent;\n",
              "      border-bottom-color: var(--fill-color);\n",
              "      border-left-color: var(--fill-color);\n",
              "    }\n",
              "    20% {\n",
              "      border-color: transparent;\n",
              "      border-left-color: var(--fill-color);\n",
              "      border-top-color: var(--fill-color);\n",
              "    }\n",
              "    30% {\n",
              "      border-color: transparent;\n",
              "      border-left-color: var(--fill-color);\n",
              "      border-top-color: var(--fill-color);\n",
              "      border-right-color: var(--fill-color);\n",
              "    }\n",
              "    40% {\n",
              "      border-color: transparent;\n",
              "      border-right-color: var(--fill-color);\n",
              "      border-top-color: var(--fill-color);\n",
              "    }\n",
              "    60% {\n",
              "      border-color: transparent;\n",
              "      border-right-color: var(--fill-color);\n",
              "    }\n",
              "    80% {\n",
              "      border-color: transparent;\n",
              "      border-right-color: var(--fill-color);\n",
              "      border-bottom-color: var(--fill-color);\n",
              "    }\n",
              "    90% {\n",
              "      border-color: transparent;\n",
              "      border-bottom-color: var(--fill-color);\n",
              "    }\n",
              "  }\n",
              "</style>\n",
              "\n",
              "  <script>\n",
              "    async function quickchart(key) {\n",
              "      const quickchartButtonEl =\n",
              "        document.querySelector('#' + key + ' button');\n",
              "      quickchartButtonEl.disabled = true;  // To prevent multiple clicks.\n",
              "      quickchartButtonEl.classList.add('colab-df-spinner');\n",
              "      try {\n",
              "        const charts = await google.colab.kernel.invokeFunction(\n",
              "            'suggestCharts', [key], {});\n",
              "      } catch (error) {\n",
              "        console.error('Error during call to suggestCharts:', error);\n",
              "      }\n",
              "      quickchartButtonEl.classList.remove('colab-df-spinner');\n",
              "      quickchartButtonEl.classList.add('colab-df-quickchart-complete');\n",
              "    }\n",
              "    (() => {\n",
              "      let quickchartButtonEl =\n",
              "        document.querySelector('#df-d842aa3e-f934-4336-8bf0-713417d2d9c8 button');\n",
              "      quickchartButtonEl.style.display =\n",
              "        google.colab.kernel.accessAllowed ? 'block' : 'none';\n",
              "    })();\n",
              "  </script>\n",
              "</div>\n",
              "    </div>\n",
              "  </div>\n"
            ],
            "text/plain": [
              "                                                text label\n",
              "0  Subject: enron methanol ; meter # : 988291\\nth...   ham\n",
              "1  Subject: hpl nom for january 9 , 2001\\n( see a...   ham\n",
              "2  Subject: neon retreat\\nho ho ho , we ' re arou...   ham\n",
              "3  Subject: photoshop , windows , office . cheap ...  spam\n",
              "4  Subject: re : indian springs\\nthis deal is to ...   ham\n",
              "5  Subject: ehronline web address change\\nthis me...   ham\n",
              "6  Subject: spring savings certificate - take 30 ...   ham\n",
              "7  Subject: looking for medication ? we ` re the ...  spam\n",
              "8  Subject: noms / actual flow for 2 / 26\\nwe agr...   ham\n",
              "9  Subject: nominations for oct . 21 - 23 , 2000\\...   ham"
            ]
          },
          "execution_count": 359,
          "metadata": {},
          "output_type": "execute_result"
        }
      ],
      "source": [
        "# since Unnamed: 0 is just an index and label_num is the binarized label column, we can drop them\n",
        "df.drop(['Unnamed: 0', 'label_num'], axis=1, inplace=True)\n",
        "\n",
        "# switch the label column to the right\n",
        "df.insert(1, 'label', df.pop('label'))\n",
        "\n",
        "df.head(10)"
      ]
    },
    {
      "cell_type": "code",
      "execution_count": null,
      "metadata": {
        "colab": {
          "base_uri": "https://localhost:8080/"
        },
        "id": "z7iVbVHJCgAz",
        "outputId": "18fa0974-9f4b-4d94-ec45-0ae82fd5a531"
      },
      "outputs": [
        {
          "data": {
            "text/plain": [
              "True"
            ]
          },
          "execution_count": 360,
          "metadata": {},
          "output_type": "execute_result"
        }
      ],
      "source": [
        "# All email start with \"subject\"?\n",
        "df['text'].str.startswith('Subject').all()"
      ]
    },
    {
      "cell_type": "code",
      "execution_count": null,
      "metadata": {
        "id": "C3xfVcSOEqGW"
      },
      "outputs": [],
      "source": [
        "# check for any null,missing, or duplicate values\n",
        "\n",
        "def scanner(df):\n",
        "    print(f\"Duplicate observations: {df.duplicated().sum()}\")\n",
        "    print(f\"Missing values: {df.isnull().sum()}\")\n",
        "    print(f\"NaN values: {df.isna().sum()}\")"
      ]
    },
    {
      "cell_type": "code",
      "execution_count": null,
      "metadata": {
        "colab": {
          "base_uri": "https://localhost:8080/"
        },
        "id": "Ijrbk6M1FAQ3",
        "outputId": "edc12285-8c9c-4dd3-8c3d-16f90a2894ae"
      },
      "outputs": [
        {
          "name": "stdout",
          "output_type": "stream",
          "text": [
            "Duplicate observations: 178\n",
            "Missing values: 0\n",
            "NaN values: 0\n"
          ]
        }
      ],
      "source": [
        "scanner(df['text'])"
      ]
    },
    {
      "cell_type": "code",
      "execution_count": null,
      "metadata": {
        "id": "QZKZG98bFeLl"
      },
      "outputs": [],
      "source": [
        "# remove duplicates\n",
        "df.drop_duplicates(inplace=True)"
      ]
    },
    {
      "cell_type": "code",
      "execution_count": null,
      "metadata": {
        "colab": {
          "base_uri": "https://localhost:8080/"
        },
        "id": "QlY134UnHcMt",
        "outputId": "f76177e7-3207-4db4-f586-13bdc37ff5fa"
      },
      "outputs": [
        {
          "data": {
            "text/plain": [
              "ham     3531\n",
              "spam    1462\n",
              "Name: label, dtype: int64"
            ]
          },
          "execution_count": 364,
          "metadata": {},
          "output_type": "execute_result"
        }
      ],
      "source": [
        "# Check the balance of the dataset\n",
        "df['label'].value_counts()"
      ]
    },
    {
      "cell_type": "markdown",
      "metadata": {
        "id": "DtWkar3nF3vP"
      },
      "source": [
        "- ### Any missing/duplicate/NaN values are removed.\n",
        "\n",
        "*Notice the fact that the dataset is quite imbalanced.\n",
        "We would check if this imbalance make trouble during classification later.*"
      ]
    },
    {
      "cell_type": "markdown",
      "metadata": {
        "id": "TZsUe73-HEQj"
      },
      "source": [
        "# ANALIZE SPAM EMAIL"
      ]
    },
    {
      "cell_type": "code",
      "execution_count": null,
      "metadata": {
        "id": "znUvdL-UFu1W"
      },
      "outputs": [],
      "source": [
        "spam = df[df['label'] == 'spam']"
      ]
    },
    {
      "cell_type": "code",
      "execution_count": null,
      "metadata": {
        "colab": {
          "base_uri": "https://localhost:8080/"
        },
        "id": "kHMtDNWQO_iT",
        "outputId": "46bfc8c9-dee3-4580-d925-ba153b4c9c8c"
      },
      "outputs": [
        {
          "name": "stdout",
          "output_type": "stream",
          "text": [
            "[\"Subject: explore really good super viagrma ! : - ) a unshackling vesicopubic taciturnly .\\n' ello , ' ello , ' ello , what have we got here ? to speak of morals in art is to speak of legislature in sex . art is the sex of the imagination .\\nciali 6 s ( regaligs ) , at cheap prices . most zones charge $ 20 , we charge $ 4 . 95 .\\nquite a diffeerence . cialiks is knnown as a super viagraa or weekend viagrxa\\nbecause its eetcffs start soneor and last much lgnoer . shipped\\nworldwide . your easy - to - use solution is here : http : / / www . medz 4 cheap . com / cia / ? dcent\\n- - - - - if you do not wish to be misconjugate = ] fear cannot be without hope nor hope without fear . http : / / www . medz 4 cheap . com / off . htmlwriting criticism is to writing fiction and poetry as hugging the shore is to sailing in the open sea .\"\n",
            " \"Subject: re : mlle joy wilson\\ncapitale d ' investissement .\\ncher ( es ) honn?te investisseurs ,\\nje suis contact?s par une cliente fiable ( mlle joy\\nwilson ) ? la recherche d ' un partenaire d ' affaires pour\\ninvestir la somme ( us $ 10 m ) actuellement dans une banque de la\\nc?te d ' ivoire pour une entreprises profitables en europe , la\\ncliente est une fille d ' un politicien ( feu\\nmartins wilson ) de la c?te d ' ivoire , qui a ?t? tu?e pendant\\nla crise socio politique , donc un investisseur ou un\\nindividu l?galement inscrit avec la connaissance d ' un\\nprofitable de pouvoir travaille avec l ' argent de telle\\nquantit? pour la p?riode de cinq ann?es ou est moins exig?\\npour un buts d ' investissement avant l ' ?lection prochaine\\ndans le pays , ( pr?freable dans l ' europe ) les documents pour\\nprouv? la source des fonds est disponible pour votre\\nconfirmation et est conscient que le propri?taire de ces\\nfonds d?sirent la confidence et le professionalisme absolue\\npour mieux g?r? ces fonds .\\ns ' il vous pla?t , la note que n ' importe quelle application\\nhors d ' europe n ' est pas acceptable ( exceptionnel d ' ?tat uni\\nd ' am?rique ) .\\ncordialement ,\\nmr kone mohammed ,\\npour : mme marie georges ( consultant\\nemail officiellement : mariexxgeorgesl @ teenmail . co . za\\ndear investors ,\\nwe are contacted by a reliable client ( miss joy wilson ) to\\nseach for a business partner to invest the sum of us $ 10 m\\ncurrently in a bank in cote d ' ivoire for a profitable\\nventures in europe , the client is a daughter of a\\npolitician ( late martins wilson ) in ivory coast , who was\\nkilled during the political mishap resently , therefore a\\nlegally registered investor or individual with the\\nknowledge of a profitable ventures and who is capable of\\nhandling such amount for the period of five years or less\\nis required for an investment purposes before the next\\ncoming election in the country , ( prefferable in europe ) all\\nthe vital documents involved as regard the source of the\\nfund are available for your confirmation and be aware that\\nthe fund owners desire absolute confidentiality and\\nprofessionalism in the handling of this matter .\\nplease , note that any application outside europe is not\\nacceptable ( exceptional of united state of america ) .\\nbest regards ,\\nmr kone mohammed\\nfor : mme marie georges .\\nreply to : mariexxgeorgesl @ teenmail . co . za\\n\"\n",
            " 'Subject: cia _ lis r _ x direct descriptive chameleon\\nhey hershel ,\\nall discount m - e - d prices you asked about are ready .\\nt vic _ xan _ cial - val - all others can be sent right to your door .\\neverything is here _ no dr visit\\ngo here\\nfor what you need .\\nalso ashley romeo medusa and airfoil prospectus .\\nsadie thinks wharves uttermost congest .\\nall m - e - d - s ! ,\\nimitation is the sincerest form of television . - fred allen ( 1894 - 1956 ) ads 60 lkptt its kind of fun to do the impossible . - walt disney ( 1901 - 1966 )\\n'\n",
            " 'Subject: adipren 720 - find out the latest facts . northernmost\\nhey , how are you doing ?\\nwant to lose weight ?\\nthe most powerful weightloss is now\\navailable\\nwithout prescription . all natural adipren 720\\n100 % money back guarantee !\\n- lose up to 19 % total body weight .\\n- increase metabolic rate by 76 . 9 % without exercise .\\n- reduction of 40 - 70 % overall fat under skin .\\n- loss of 20 - 35 % abdominal fat .\\n- up to 300 % more weight loss while dieting .\\n- boost your confidence level and self esteem .\\n- suppresses appetite for sugar .\\n- burns calorized fat .\\nget\\nthe facts about all - natural adipren 720\\nif you wish not to be contacted again\\nplease\\nenter your email address here .\\nor you can write to :\\nmar - ket research\\n8721 santa monica boulevard\\n# 1105\\nlos angeles , ca 90069 - 4507\\nconforms to legal requirements of 2003 us can - spam act .\\nwishy crematory sailboat classroom matinee bipolar\\n'\n",
            " 'Subject: re : \" v [ iagra , it \\' s for more than just sex ! \"\\n']\n"
          ]
        }
      ],
      "source": [
        "# plot 5 random samples from spam\n",
        "print(spam['text'].sample(5).values)"
      ]
    },
    {
      "cell_type": "code",
      "execution_count": null,
      "metadata": {
        "id": "FF0hSTECZYht"
      },
      "outputs": [],
      "source": [
        "def plot_length_distribution(data, text_column, label_column):\n",
        "    \"\"\"\n",
        "    Plot the distribution of text lengths and boxplot of lengths by label.\n",
        "\n",
        "    Parameters:\n",
        "    - data: DataFrame containing the text and label columns\n",
        "    - text_column: Name of the text column in the DataFrame\n",
        "    - label_column: Name of the label column in the DataFrame\n",
        "    \"\"\"\n",
        "    # Check the length of the text\n",
        "    lengths = data[text_column].str.len()\n",
        "    max_length = lengths.max()\n",
        "\n",
        "    # Create subplots\n",
        "    plt.figure(figsize=(12, 6))\n",
        "\n",
        "    # Subplot 1: Histogram with KDE\n",
        "    plt.subplot(1, 2, 1)\n",
        "    sns.set(style=\"whitegrid\")\n",
        "    sns.histplot(lengths, bins=50, kde=True, color='skyblue', edgecolor='black')\n",
        "    plt.title('Distribution of Lengths')\n",
        "    plt.xlabel('Length')\n",
        "    plt.ylabel('Frequency')\n",
        "    plt.grid(axis='y', linestyle='--', alpha=0.7)\n",
        "    plt.legend(['Length of text', f\"Max length: {max_length}\"])\n",
        "\n",
        "    # Subplot 2: Boxplot of lengths by label\n",
        "    plt.subplot(1, 2, 2)\n",
        "    sns.boxplot(x=label_column, y=lengths, data=data, palette='Set3', hue=label_column)\n",
        "    plt.title('Distribution of Lengths by Label')\n",
        "    plt.xlabel('Label')\n",
        "    plt.ylabel('Length')\n",
        "\n",
        "    plt.show()\n",
        "\n",
        "#\n"
      ]
    },
    {
      "cell_type": "code",
      "execution_count": null,
      "metadata": {
        "colab": {
          "base_uri": "https://localhost:8080/",
          "height": 573
        },
        "id": "mMZ7xpMKZat-",
        "outputId": "3066f262-5244-4c7b-9129-2a361dd52d51"
      },
      "outputs": [
        {
          "data": {
            "image/png": "[encoded data removed]",
            "text/plain": [
              "<Figure size 1200x600 with 2 Axes>"
            ]
          },
          "metadata": {},
          "output_type": "display_data"
        }
      ],
      "source": [
        "plot_length_distribution(spam, 'text', 'label')"
      ]
    },
    {
      "cell_type": "code",
      "execution_count": null,
      "metadata": {
        "id": "cIk-bTCuTH5J"
      },
      "outputs": [],
      "source": [
        "# Usually spam email may contain a lot of symbols, with this function we can try to estimate the frequency of each symbol contained\n",
        "# in the corpus of spam emails.\n",
        "def calculate_freq_symbols(df,symbols_list):\n",
        "    \"\"\"\n",
        "    Calculate the frequency of each symbol in the text\n",
        "\n",
        "    Parameters:\n",
        "    df (pandas.DataFrame): The DataFrame containing the text data\n",
        "    symbols_list (list): A list of symbols to calculate the frequency of\n",
        "\n",
        "    Returns:\n",
        "    dict: A dictionary containing the frequency of each symbol\n",
        "    \"\"\"\n",
        "    symbol_frequency = {}\n",
        "    # Assuming 'spam' is your DataFrame and 'text' is the column containing text data\n",
        "    splitted_spam = df.str.split()\n",
        "\n",
        "    # Count the frequency of each symbol in the text\n",
        "    symbol_counts = Counter(char for word_list in splitted_spam for word in word_list for char in word if char in spam_symbols)\n",
        "\n",
        "    # Display the counts\n",
        "    for symbol, count in symbol_counts.items():\n",
        "        symbol_frequency[symbol] = count\n",
        "\n",
        "    # sort the dict\n",
        "    symbol_frequency = dict(sorted(symbol_frequency.items(), key=lambda item: item[1], reverse=True))\n",
        "    return symbol_frequency"
      ]
    },
    {
      "cell_type": "code",
      "execution_count": null,
      "metadata": {
        "id": "Cxo1aJAJXAqY"
      },
      "outputs": [],
      "source": [
        "# Here a list of symbols that can potentially appear in spam email\n",
        "symbols = ['$', '#', '!', '%', '&', '*', '@', '<', '>', '[', ']', '(', ')', '{', '}', '|', '/', '\\\\', '+', '=', '?','_', '-', '^', '~']\n"
      ]
    },
    {
      "cell_type": "code",
      "execution_count": null,
      "metadata": {
        "id": "fIcGHWJaRH_s"
      },
      "outputs": [],
      "source": [
        "# sort the dict\n",
        "symbol_frequency = calculate_freq_symbols(spam['text'],symbols)"
      ]
    },
    {
      "cell_type": "code",
      "execution_count": null,
      "metadata": {
        "id": "JUA3gMgOitwm"
      },
      "outputs": [],
      "source": [
        "def plot_symbol_freq(symbol_frequency):\n",
        "    \"\"\"\n",
        "    Plot the frequency of the symbols\n",
        "    \"\"\"\n",
        "    # plot the frequency of the symbols\n",
        "    plt.figure(figsize=(12, 6))\n",
        "    sns.barplot(y=list(symbol_frequency.keys()), x=list(symbol_frequency.values()))\n",
        "    plt.show()"
      ]
    },
    {
      "cell_type": "code",
      "execution_count": null,
      "metadata": {
        "colab": {
          "base_uri": "https://localhost:8080/",
          "height": 527
        },
        "id": "xNbbRMVCQ0-q",
        "outputId": "66130701-2013-496c-c2c1-dab2fc6fde7b"
      },
      "outputs": [
        {
          "data": {
            "image/png": "[encoded data removed]",
            "text/plain": [
              "<Figure size 1200x600 with 1 Axes>"
            ]
          },
          "metadata": {},
          "output_type": "display_data"
        }
      ],
      "source": [
        "# plot the frequency of the symbols\n",
        "plot_symbol_freq(symbol_frequency)"
      ]
    },
    {
      "cell_type": "code",
      "execution_count": null,
      "metadata": {
        "id": "ypjK-fLDrvz5"
      },
      "outputs": [],
      "source": [
        "def calculate_text_stats(text,symbols = None,symbol_frequency = None,to_dict = False):\n",
        "    \"\"\"\n",
        "    Calculate the statistics of the symbols\n",
        "    \"\"\"\n",
        "    if to_dict == False:\n",
        "        print(f\"Max length: {text.str.len().max()}\")\n",
        "        print(f\"Min length: {text.str.len().min()}\")\n",
        "        print(f\"Mean length: {text.str.len().mean()}\")\n",
        "        print(f\"Median length: {text.str.len().median()}\")\n",
        "\n",
        "        # Calculate the total number of symbols\n",
        "        if symbol_frequency:\n",
        "            symbol_frequency = calculate_freq_symbols(text,symbols)\n",
        "            total_symbols = sum(symbol_frequency.values())\n",
        "            print(f\"Total number of symbols: {total_symbols}\")\n",
        "\n",
        "    if to_dict:\n",
        "        stats_dict = {}\n",
        "        stats_dict['Max length'] = text.str.len().max()\n",
        "        stats_dict['Min length'] = text.str.len().min()\n",
        "        stats_dict['Mean length'] = text.str.len().mean()\n",
        "        stats_dict['Median length'] = text.str.len().median()\n",
        "        stats_dict['Total number of symbols'] = total_symbols\n",
        "        return stats_dict\n",
        "\n"
      ]
    },
    {
      "cell_type": "code",
      "execution_count": null,
      "metadata": {
        "colab": {
          "base_uri": "https://localhost:8080/"
        },
        "id": "gs1tez0Ns16-",
        "outputId": "0a6f2389-e3bf-4ac6-8600-222f3d5a3b91"
      },
      "outputs": [
        {
          "name": "stdout",
          "output_type": "stream",
          "text": [
            "Max length: 21749\n",
            "Min length: 10\n",
            "Mean length: 1227.7462380300958\n",
            "Median length: 577.5\n",
            "Total number of symbols: 34879\n"
          ]
        }
      ],
      "source": [
        "calculate_text_stats(spam['text'],symbols, symbol_frequency = True,to_dict=False)"
      ]
    },
    {
      "cell_type": "markdown",
      "metadata": {
        "id": "5aCcWr9fYDTM"
      },
      "source": [
        "### Report on spam emails:\n"
      ]
    },
    {
      "cell_type": "markdown",
      "metadata": {
        "id": "JoQBUqliYeAO"
      },
      "source": [
        "# PERFORM TOPIC MODELING ON SPAM EMAILS"
      ]
    },
    {
      "cell_type": "code",
      "execution_count": null,
      "metadata": {
        "id": "UbG3B_0sZ7mQ"
      },
      "outputs": [],
      "source": [
        "def preprocess(text):\n",
        "    \"\"\"\n",
        "    Preprocess the text data\n",
        "    \"\"\"\n",
        "    # Tokenize the text\n",
        "    tokens = word_tokenize(text)\n",
        "\n",
        "    # Remove stop words\n",
        "    stop_words = set(stopwords.words('english'))\n",
        "\n",
        "    # Remove 'Subject' from the start of the text\n",
        "    if tokens and tokens[0] == 'Subject':\n",
        "        tokens = tokens[1:]\n",
        "\n",
        "    # Lemmatize the tokens\n",
        "    lemmatizer = WordNetLemmatizer()\n",
        "    tokens = [lemmatizer.lemmatize(token) for token in tokens]\n",
        "\n",
        "    # Convert to lowercase and remove non-alphabetic tokens and stopwords\n",
        "    tokens = [token.lower() for token in tokens if token.isalpha() and token not in stop_words]\n",
        "\n",
        "    # Keep only tokens with length >= 3\n",
        "    threshold = 3\n",
        "    tokens = [token for token in tokens if len(token) >= threshold]\n",
        "\n",
        "    return tokens"
      ]
    },
    {
      "cell_type": "code",
      "execution_count": null,
      "metadata": {
        "colab": {
          "base_uri": "https://localhost:8080/"
        },
        "id": "Tas9uNRsaex7",
        "outputId": "747d7514-9291-4482-d5e5-77d76aebc490"
      },
      "outputs": [
        {
          "name": "stderr",
          "output_type": "stream",
          "text": [
            "100%|██████████| 1462/1462 [00:06<00:00, 215.42it/s]\n"
          ]
        }
      ],
      "source": [
        "\n",
        "# Initialize an empty list to store preprocessed spam emails\n",
        "spam_emails = []\n",
        "\n",
        "# Iterate through each line of text in the 'spam' dataset\n",
        "for line in tqdm(spam['text'], total=len(spam['text'])):\n",
        "    # Call the 'preprocess' function to clean and preprocess each line of text\n",
        "    # Append the preprocessed text to the 'spam_emails' list\n",
        "    spam_emails.append(preprocess(line))"
      ]
    },
    {
      "cell_type": "code",
      "execution_count": null,
      "metadata": {
        "id": "DdhaY6jXax0D"
      },
      "outputs": [],
      "source": [
        "# Step 1: Create a dictionary object to represent the collection of spam emails.\n",
        "spam_dictionary = Dictionary(spam_emails)\n",
        "\n",
        "# Step 2: Convert each email in the spam_emails collection into a Bag-of-Words representation.\n",
        "spam_corpus = [spam_dictionary.doc2bow(email) for email in spam_emails]\n",
        "\n",
        "# Step 3: Extract the first document (email) from the dictionary to get its Bag-of-Words representation.\n",
        "spam_temp = dictionary[0]\n",
        "\n",
        "# Step 4: Extract a mapping of numerical IDs to tokens (words) from the dictionary.\n",
        "spam_id2word = spam_dictionary.id2token\n",
        "\n",
        "# Step 5: Create a Gensim dictionary object from the corpus and the ID-to-word mapping.\n",
        "gensim_dict = Dictionary.from_corpus(spam_corpus, id2word=id2word)"
      ]
    },
    {
      "cell_type": "code",
      "execution_count": null,
      "metadata": {
        "id": "BGPrJ8-Qkq1v"
      },
      "outputs": [],
      "source": [
        "\n",
        "def compute_coherence_values(dictionary, corpus, texts, limit, start=2, step=2):\n",
        "    \"\"\"\n",
        "    Compute c_v coherence for various number of topics\n",
        "    Parameters:\n",
        "    dictionary : Gensim dictionary\n",
        "    corpus : Gensim corpus\n",
        "    texts : List of input texts\n",
        "    limit : Max num of topics\n",
        "    Returns:\n",
        "    model_list : List of LDA topic models\n",
        "    coherence_values : Coherence values corresponding to the LDA model with respective number of topics\n",
        "    \"\"\"\n",
        "    coherence_values = []\n",
        "    model_list = []\n",
        "    for num_topics in range(start, limit, step):\n",
        "        print(f\"Processing: {num_topics} topics\")\n",
        "        model = LdaModel(corpus=corpus, id2word=dictionary, num_topics=num_topics, passes=10, random_state=42)\n",
        "        model_list.append(model)\n",
        "        coherence_model = CoherenceModel(model=model, texts=texts, dictionary=dictionary, coherence='c_v')\n",
        "        coherence_score = coherence_model.get_coherence()\n",
        "        print(f\"END PROCESSING: {num_topics} topics\\nRESULTS:\\nCoherence Score: {coherence_score:.2f} for {num_topics} topics\\n\")\n",
        "        coherence_values.append(round(coherence_score, 2))\n",
        "    return model_list, coherence_values"
      ]
    },
    {
      "cell_type": "code",
      "execution_count": null,
      "metadata": {
        "colab": {
          "base_uri": "https://localhost:8080/"
        },
        "id": "9BXTSuYfk6_R",
        "outputId": "53fcb345-1b73-4fe8-8dc5-edef72951d58"
      },
      "outputs": [
        {
          "name": "stdout",
          "output_type": "stream",
          "text": [
            "Processing: 2 topics\n",
            "END PROCESSING: 2 topics\n",
            "RESULTS:\n",
            "Coherence Score: 0.52 for 2 topics\n",
            "\n",
            "Processing: 4 topics\n",
            "END PROCESSING: 4 topics\n",
            "RESULTS:\n",
            "Coherence Score: 0.66 for 4 topics\n",
            "\n",
            "Processing: 6 topics\n",
            "END PROCESSING: 6 topics\n",
            "RESULTS:\n",
            "Coherence Score: 0.62 for 6 topics\n",
            "\n",
            "Processing: 8 topics\n",
            "END PROCESSING: 8 topics\n",
            "RESULTS:\n",
            "Coherence Score: 0.57 for 8 topics\n",
            "\n",
            "Processing: 10 topics\n",
            "END PROCESSING: 10 topics\n",
            "RESULTS:\n",
            "Coherence Score: 0.55 for 10 topics\n",
            "\n",
            "Processing: 12 topics\n",
            "END PROCESSING: 12 topics\n",
            "RESULTS:\n",
            "Coherence Score: 0.57 for 12 topics\n",
            "\n",
            "Processing: 14 topics\n",
            "END PROCESSING: 14 topics\n",
            "RESULTS:\n",
            "Coherence Score: 0.52 for 14 topics\n",
            "\n",
            "Processing: 16 topics\n",
            "END PROCESSING: 16 topics\n",
            "RESULTS:\n",
            "Coherence Score: 0.57 for 16 topics\n",
            "\n",
            "Processing: 18 topics\n",
            "END PROCESSING: 18 topics\n",
            "RESULTS:\n",
            "Coherence Score: 0.51 for 18 topics\n",
            "\n"
          ]
        }
      ],
      "source": [
        "model_list, coherence_values = compute_coherence_values(dictionary=spam_dictionary,\n",
        "                                                        corpus=spam_corpus,\n",
        "                                                        texts=spam_emails,\n",
        "                                                        start=2,\n",
        "                                                        limit=20,\n",
        "                                                        step=2)"
      ]
    },
    {
      "cell_type": "code",
      "execution_count": null,
      "metadata": {
        "colab": {
          "base_uri": "https://localhost:8080/"
        },
        "id": "DEJ9KPvMl0D_",
        "outputId": "b8cbd75c-7601-4092-d228-d3f4d72418fc"
      },
      "outputs": [
        {
          "data": {
            "text/plain": [
              "[0.52, 0.66, 0.62, 0.57, 0.55, 0.57, 0.52, 0.57, 0.51]"
            ]
          },
          "execution_count": 51,
          "metadata": {},
          "output_type": "execute_result"
        }
      ],
      "source": [
        "coherence_values"
      ]
    },
    {
      "cell_type": "code",
      "execution_count": null,
      "metadata": {
        "id": "6CXcpT0PoCTI"
      },
      "outputs": [],
      "source": [
        "\n",
        "def plot_coherence_scores(num_topics_list, coherence_values):\n",
        "    \"\"\"\n",
        "    Plot coherence scores against the number of topics.\n",
        "    Parameters:\n",
        "    - num_topics_list: List of numbers representing different numbers of topics\n",
        "    - coherence_values: List of coherence scores corresponding to each number of topics\n",
        "    \"\"\"\n",
        "    plt.figure(figsize=(10, 6))\n",
        "    # Plotting the results\n",
        "    plt.plot(num_topics_list, coherence_values, marker='o', linestyle='-', color='b', label='Coherence Score')\n",
        "    # Customize the plot\n",
        "    plt.title('Coherence Score vs. Number of Topics', fontsize=16)\n",
        "    plt.xlabel('Number of Topics', fontsize=14)\n",
        "    plt.ylabel('Coherence Score', fontsize=14)\n",
        "    plt.xticks(fontsize=12)\n",
        "    plt.yticks(fontsize=12)\n",
        "    plt.grid(True, linestyle='--', alpha=0.7)\n",
        "    plt.legend(fontsize=12)\n",
        "    plt.tight_layout()\n",
        "    # Show the plot\n",
        "    plt.show()\n",
        "\n",
        "def generate_num_topics_list(start, end, step):\n",
        "    \"\"\"\n",
        "    Generate a list of numbers representing different numbers of topics.\n",
        "    Parameters:\n",
        "    - start: Starting value for the range\n",
        "    - end: Ending value for the range\n",
        "    - step: Step size for the range\n",
        "    Returns:\n",
        "    - num_topics_list: List of numbers representing different numbers of topics\n",
        "    \"\"\"\n",
        "    return list(range(start, end + step-2, step))"
      ]
    },
    {
      "cell_type": "code",
      "execution_count": null,
      "metadata": {
        "id": "LOZaKECuosJ-"
      },
      "outputs": [],
      "source": [
        "num_topics = generate_num_topics_list(2, 20, 2)"
      ]
    },
    {
      "cell_type": "code",
      "execution_count": null,
      "metadata": {
        "colab": {
          "base_uri": "https://localhost:8080/",
          "height": 601
        },
        "id": "EQskj02MdERr",
        "outputId": "97306ef7-5337-456a-9d58-5a71da60e75c"
      },
      "outputs": [
        {
          "data": {
            "image/png": "[encoded data removed]",
            "text/plain": [
              "<Figure size 1000x600 with 1 Axes>"
            ]
          },
          "metadata": {},
          "output_type": "display_data"
        }
      ],
      "source": [
        "plot_coherence_scores(num_topics, coherence_values)"
      ]
    },
    {
      "cell_type": "code",
      "execution_count": null,
      "metadata": {
        "id": "oxd9wJjh3P5f"
      },
      "outputs": [],
      "source": [
        "best_spam_coherence = coherence_values.index(max(coherence_values))"
      ]
    },
    {
      "cell_type": "code",
      "execution_count": null,
      "metadata": {
        "id": "d_TJ9aiAazXs"
      },
      "outputs": [],
      "source": [
        "lda_spam_model = model_list[best_spam_coherence]"
      ]
    },
    {
      "cell_type": "code",
      "execution_count": null,
      "metadata": {
        "colab": {
          "base_uri": "https://localhost:8080/"
        },
        "id": "_89fP7ouds-d",
        "outputId": "6eb20502-268c-4c68-a75f-43b1424867cc"
      },
      "outputs": [
        {
          "name": "stdout",
          "output_type": "stream",
          "text": [
            "[(0,\n",
            "  [('price', 0.0027117862),\n",
            "   ('get', 0.0024236005),\n",
            "   ('http', 0.0023757508),\n",
            "   ('money', 0.0022956082),\n",
            "   ('please', 0.0022929483),\n",
            "   ('rate', 0.0022183922),\n",
            "   ('number', 0.0021765654),\n",
            "   ('com', 0.0021714186),\n",
            "   ('email', 0.0020692067),\n",
            "   ('claim', 0.0020305451)]),\n",
            " (1,\n",
            "  [('font', 0.015210809),\n",
            "   ('http', 0.013107031),\n",
            "   ('height', 0.0107915215),\n",
            "   ('width', 0.00916818),\n",
            "   ('size', 0.007842749),\n",
            "   ('align', 0.0069601173),\n",
            "   ('com', 0.0066110347),\n",
            "   ('border', 0.005830319),\n",
            "   ('color', 0.0057317098),\n",
            "   ('href', 0.0055605294)]),\n",
            " (2,\n",
            "  [('company', 0.011932009),\n",
            "   ('statement', 0.0068003633),\n",
            "   ('stock', 0.0063061146),\n",
            "   ('price', 0.005809849),\n",
            "   ('information', 0.0050964863),\n",
            "   ('security', 0.004776845),\n",
            "   ('may', 0.0045750155),\n",
            "   ('pill', 0.0043885238),\n",
            "   ('investment', 0.0041993717),\n",
            "   ('within', 0.0039037354)]),\n",
            " (3,\n",
            "  [('com', 0.010223058),\n",
            "   ('http', 0.006958601),\n",
            "   ('www', 0.0058482364),\n",
            "   ('nbsp', 0.0053570447),\n",
            "   ('email', 0.0046409518),\n",
            "   ('please', 0.0043003764),\n",
            "   ('computron', 0.004182225),\n",
            "   ('message', 0.004020298),\n",
            "   ('free', 0.0039924798),\n",
            "   ('get', 0.0036390522)])]\n"
          ]
        }
      ],
      "source": [
        "model_topic = lda_spam_model.show_topics(formatted=False)\n",
        "pprint(model_topic)"
      ]
    },
    {
      "cell_type": "code",
      "execution_count": null,
      "metadata": {
        "id": "LZaguj2_6qHc"
      },
      "outputs": [],
      "source": [
        "# show topics\n",
        "pyLDAvis.enable_notebook()\n",
        "spam_topics_vis = pyLDAvis.gensim.prepare(lda_spam_model, spam_corpus, spam_dictionary)"
      ]
    },
    {
      "cell_type": "code",
      "execution_count": null,
      "metadata": {
        "colab": {
          "base_uri": "https://localhost:8080/",
          "height": 861
        },
        "id": "PYDcNIaZ8I2W",
        "outputId": "0bd4e65a-5319-4e0e-d388-0bd86295a499"
      },
      "outputs": [
        {
          "data": {
            "text/html": [
              "\n",
              "<link rel=\"stylesheet\" type=\"text/css\" href=\"https://cdn.jsdelivr.net/gh/bmabey/pyLDAvis@3.4.0/pyLDAvis/js/ldavis.v1.0.0.css\">\n",
              "\n",
              "\n",
              "<div id=\"ldavis_el1761394355993520325828092664\" style=\"background-color:white;\"></div>\n",
              "<script type=\"text/javascript\">\n",
              "\n",
              "var ldavis_el1761394355993520325828092664_data = {\"mdsDat\": {\"x\": [-0.16757078104963022, -0.003100163064128389, 0.017742354635383824, 0.1529285894783746], \"y\": [0.07300125067673358, -0.09800631640505937, -0.05995471069296637, 0.08495977642129222], \"topics\": [1, 2, 3, 4], \"cluster\": [1, 1, 1, 1], \"Freq\": [38.370854181284585, 30.17806691789352, 17.015469863015866, 14.43560903780603]}, \"tinfo\": {\"Term\": [\"font\", \"height\", \"http\", \"company\", \"width\", \"statement\", \"size\", \"align\", \"stock\", \"com\", \"border\", \"nbsp\", \"color\", \"href\", \"computron\", \"www\", \"face\", \"src\", \"investment\", \"center\", \"style\", \"report\", \"security\", \"bgcolor\", \"pill\", \"within\", \"contact\", \"gif\", \"share\", \"valign\", \"voip\", \"statement\", \"uncertainty\", \"yap\", \"meaning\", \"estimate\", \"ooking\", \"speculative\", \"conflict\", \"materia\", \"citibank\", \"anticipated\", \"objective\", \"internationa\", \"advisor\", \"prediction\", \"leth\", \"assurance\", \"stock\", \"materially\", \"aerofoam\", \"investing\", \"resuits\", \"acceptance\", \"expectation\", \"advice\", \"construed\", \"eogi\", \"pubiisher\", \"advises\", \"revenue\", \"featured\", \"subscriber\", \"company\", \"investment\", \"share\", \"trade\", \"report\", \"provided\", \"investor\", \"gas\", \"involve\", \"risk\", \"registered\", \"belief\", \"projection\", \"pill\", \"within\", \"newsletter\", \"oil\", \"security\", \"based\", \"inc\", \"forward\", \"term\", \"adobe\", \"may\", \"news\", \"future\", \"information\", \"market\", \"looking\", \"business\", \"price\", \"service\", \"act\", \"professional\", \"technology\", \"window\", \"product\", \"time\", \"new\", \"one\", \"computron\", \"epson\", \"intel\", \"jebel\", \"format\", \"paragraph\", \"viewsonic\", \"hewlett\", \"sony\", \"customerservice\", \"compaq\", \"legislation\", \"iomega\", \"packard\", \"cisco\", \"apc\", \"targus\", \"aopen\", \"intellinet\", \"gotten\", \"notebook\", \"toshiba\", \"zonedubai\", \"aeor\", \"uae\", \"lls\", \"artprice\", \"duty\", \"distributorjebel\", \"error\", \"removed\", \"canon\", \"dell\", \"ali\", \"remove\", \"spam\", \"contact\", \"nbsp\", \"instruction\", \"link\", \"free\", \"unsubscribe\", \"message\", \"reply\", \"com\", \"www\", \"visit\", \"plain\", \"click\", \"list\", \"special\", \"email\", \"http\", \"please\", \"mail\", \"dealer\", \"net\", \"like\", \"sale\", \"get\", \"one\", \"subject\", \"address\", \"offer\", \"price\", \"would\", \"product\", \"day\", \"new\", \"time\", \"kin\", \"adipren\", \"congratulation\", \"lotto\", \"weightloss\", \"plc\", \"hdtv\", \"unclaimed\", \"rfid\", \"consequently\", \"spe\", \"metabolic\", \"lottery\", \"citce\", \"tras\", \"thr\", \"expe\", \"ppin\", \"reas\", \"kno\", \"tim\", \"hou\", \"saf\", \"hin\", \"rien\", \"powerline\", \"batch\", \"allixon\", \"suppresses\", \"calorized\", \"sum\", \"winner\", \"prize\", \"amsterdam\", \"claim\", \"inform\", \"rolex\", \"promotion\", \"claiming\", \"rnd\", \"category\", \"winning\", \"vuitton\", \"participant\", \"fat\", \"correspondence\", \"netherlands\", \"avoid\", \"rate\", \"agent\", \"replica\", \"spain\", \"alt\", \"credit\", \"number\", \"regard\", \"award\", \"money\", \"low\", \"weight\", \"account\", \"save\", \"international\", \"best\", \"get\", \"part\", \"please\", \"price\", \"program\", \"new\", \"email\", \"time\", \"http\", \"address\", \"want\", \"com\", \"take\", \"name\", \"year\", \"know\", \"one\", \"online\", \"like\", \"width\", \"src\", \"align\", \"bgcolor\", \"jpg\", \"moopid\", \"height\", \"valign\", \"hotlist\", \"htmlimg\", \"border\", \"colspan\", \"knle\", \"div\", \"ftar\", \"font\", \"cellpadding\", \"darial\", \"itoy\", \"fontfont\", \"gif\", \"hottlist\", \"cellspacing\", \"href\", \"spacer\", \"img\", \"ffffffstrongfont\", \"extender\", \"roxanne\", \"dcenterfont\", \"style\", \"verdana\", \"color\", \"table\", \"face\", \"size\", \"penis\", \"center\", \"http\", \"index\", \"image\", \"family\", \"www\", \"com\", \"nbsp\", \"get\", \"line\"], \"Freq\": [372.0, 262.0, 780.0, 806.0, 221.0, 439.0, 235.0, 168.0, 411.0, 821.0, 142.0, 349.0, 149.0, 138.0, 211.0, 481.0, 147.0, 118.0, 281.0, 115.0, 92.0, 259.0, 354.0, 76.0, 310.0, 274.0, 209.0, 67.0, 167.0, 57.0, 98.62441115591294, 433.44559035609177, 69.44322149372871, 43.328482541132594, 64.10435762206193, 70.1025017181562, 44.98743489787036, 50.132050403131124, 42.33905392429583, 36.21786521006347, 29.294183688718622, 42.21682552253014, 39.628377091135704, 31.001712049836968, 40.467792558875665, 33.55747843566594, 32.69431107148938, 31.82581233037132, 401.9428735666574, 37.83721252236813, 29.237451085725755, 99.77597373497652, 30.93056209764812, 33.51492017199455, 79.79720072302746, 138.21288639666193, 34.34532757904284, 28.311681780823935, 27.447512696553975, 28.30597754140324, 74.72046102927992, 62.649748744226905, 65.13218179907089, 760.5294612944789, 267.662042762654, 160.48153960105887, 88.43432075404165, 245.47916647884662, 82.03716557422916, 101.58962877487791, 144.61362550836412, 56.848309083804665, 143.26597807605663, 83.25537593017296, 74.68284829481033, 64.2676899383264, 279.7183302783622, 248.81860446425563, 114.85272187776295, 120.62310450521566, 304.4693942771566, 122.87978695175373, 203.0316707893297, 162.40613328626603, 112.4631074647576, 128.16180506315783, 291.6050525527804, 166.19457931827665, 168.53695706376703, 324.84286726634787, 161.69063801422726, 177.49745460137405, 191.24258283334726, 370.31161011872007, 190.40208773395108, 141.92713094027332, 130.94758122272685, 128.3217537915513, 135.95601844640288, 167.72676585223311, 146.48325073096507, 143.63388389583787, 128.56317575420715, 209.65239460813413, 60.84134312860302, 53.94544731933148, 47.8981890271044, 56.324930777675206, 37.48116401601868, 37.463866618503786, 35.76189665988696, 40.01052031993555, 34.895124303848725, 35.740552114876586, 35.73506935341733, 34.88841893618859, 34.88495537160523, 34.880864455391354, 34.87398984868671, 34.87095813545831, 34.84810502862014, 34.83399982963448, 36.53060374337448, 33.97038465715075, 39.018085055433, 32.241394809703294, 32.238689902905676, 33.87904809557666, 21.156618182052984, 21.89723887893801, 75.01290716302981, 22.68529611283377, 49.38608326607248, 70.29063010402662, 40.85265964125369, 39.07395728343827, 75.29143961532094, 124.67005885594756, 70.23851614997533, 173.36865227241066, 268.5453878263718, 45.790211682790016, 143.26791253218525, 200.1405767236781, 58.27115061041136, 201.53508310713602, 117.05971750235634, 512.4756685997048, 293.1685249802811, 105.3092989103687, 44.9427617569717, 151.16856304123394, 99.52589887810778, 117.4859781330186, 232.6480824233883, 348.83042970402255, 215.5752476130725, 132.393720339412, 70.50650909487378, 116.11384631841092, 119.06027474003892, 116.77632964023647, 182.42346637839452, 159.56341490357258, 91.69190520928011, 92.3044688488039, 112.47877838883669, 159.77505708247784, 96.42843919882613, 116.22824024084242, 101.73389649772844, 115.39754498043074, 114.22103015796182, 20.17477943620955, 15.061257969881368, 16.452905444623006, 14.226540288946605, 9.858272499725768, 9.092268431867138, 7.637922283877845, 9.71015542906159, 8.302526246033889, 7.603637455900363, 6.895321530860604, 6.887333555859996, 26.875241430468638, 6.85394249595194, 6.166784565969402, 6.1650180064396345, 6.164904485966942, 6.164155086324745, 6.163595298776429, 6.16354388551887, 6.16336496738256, 6.163021938128119, 6.162386881570735, 6.1623013299101554, 6.161575374713406, 6.143139814470511, 15.748963348230406, 6.813210856782473, 6.130065628725991, 6.128547086750694, 26.10285306993922, 25.245349033253788, 35.855023413078975, 11.971948843563611, 57.3928250674449, 18.11239378072585, 36.5544378523578, 26.735606313383705, 8.049082742013773, 30.215138774134648, 27.25155028087574, 17.23425369637395, 6.78494055732741, 12.025887520335134, 26.05820003878912, 12.016531130071305, 17.798164176639318, 19.30983240505365, 62.7022729982955, 23.14084892762528, 22.114535012372862, 18.83452876678566, 22.680334210067958, 31.625405251622155, 61.520047762532776, 35.73418498295804, 17.863242666752917, 64.88476166866398, 44.27519882204083, 30.28709101113101, 52.60306398923673, 50.55704337928746, 48.2682501897512, 52.075368184984626, 68.5024320924397, 33.38843413016633, 64.80958150170497, 76.64792415241818, 33.81220769995298, 57.19620102784393, 58.48558300893173, 53.153852160948496, 67.14997221391648, 38.03812739731395, 41.54230367198469, 61.37457703506174, 38.114176242672706, 34.5871116083483, 36.31755846600539, 33.69469591324922, 38.70086320734329, 35.45306222629178, 34.50035893407158, 219.84633768659174, 117.13269581622956, 166.89859254303437, 75.42939191355018, 52.60741545069577, 52.5845079465566, 258.7729037014822, 56.8491113980947, 52.56366619346094, 48.99903969145826, 139.8068482510331, 48.23516962045839, 46.100140545000826, 53.150434402701485, 33.21476158805007, 364.74423496744816, 30.265156628141035, 35.88304475449961, 27.433344142599083, 30.92398325857879, 66.0825384150119, 21.723940453457875, 21.704307443878207, 133.33748546009735, 16.69240040724249, 56.11499930834313, 15.89912688253828, 13.786434438127452, 11.672975013852836, 13.032486951025056, 86.87184934972522, 23.315378308039566, 137.4422667781995, 51.7368632960763, 128.32320420553935, 188.06347376678926, 37.05655604898153, 86.13774842619551, 314.297142876271, 58.7610924004078, 54.13612705399704, 58.175926544003694, 125.84219253740518, 158.5278454943276, 76.6940391192716, 62.58954880933133, 52.02568879062355], \"Total\": [372.0, 262.0, 780.0, 806.0, 221.0, 439.0, 235.0, 168.0, 411.0, 821.0, 142.0, 349.0, 149.0, 138.0, 211.0, 481.0, 147.0, 118.0, 281.0, 115.0, 92.0, 259.0, 354.0, 76.0, 310.0, 274.0, 209.0, 67.0, 167.0, 57.0, 99.71365403049701, 439.3504624422501, 70.55279369566387, 44.08121134084673, 65.22946888545921, 71.41819756648849, 45.834340249944034, 51.12439284064088, 43.189072676603836, 37.00586701605679, 29.949272444687622, 43.16445584015184, 40.528325561388925, 31.713587039080807, 41.40301907072641, 34.35158550798852, 33.46932243835181, 32.58907021474276, 411.6283399024146, 38.75743939110843, 29.948709483210273, 102.21215713372392, 31.703360706556573, 34.35272709105625, 81.83634849777442, 141.75577474925504, 35.22933857229174, 29.052301625826022, 28.175502435478908, 29.057873725475766, 76.7057556651526, 64.35294344767185, 66.97823458846439, 806.4523502914576, 281.46176659663155, 167.6640692320598, 91.70969855132833, 259.96332159892546, 85.20769849829716, 106.22422881088772, 153.99887955352466, 58.908150170019304, 152.9112952695299, 87.59293497683983, 78.31937480108088, 67.00395023098046, 310.6167108677898, 274.8520537627181, 123.66493346470105, 130.49921731428267, 354.0544188968223, 134.6741916684723, 234.2031021464691, 184.8326093406365, 123.88337323882605, 144.5256114678023, 369.3368005267486, 197.91588805902612, 201.3235316318984, 451.05224456594783, 197.5668343344931, 222.83330790535425, 253.52976040860963, 615.2035167101096, 259.2620361507361, 175.93661567411618, 163.57871034475536, 161.63713437717203, 188.46314849943425, 329.80827115774946, 344.4814546187387, 357.2781146037131, 345.68347585466506, 211.92984168922112, 61.89778708598224, 54.90726332475382, 48.797563647683695, 57.48761372685336, 38.323230132763705, 38.320158899746424, 36.58130957034423, 40.92776293664867, 35.7098820852739, 36.577403884108215, 36.57391818808405, 35.70810685802535, 35.70626181230241, 35.70484966374739, 35.70591879256836, 35.70716644537562, 35.69816830135479, 35.7006022482408, 37.44396658667623, 34.83114118911199, 40.03499615281933, 33.081729915018435, 33.081785420657994, 34.82636198435809, 21.764061220070808, 22.622600920753122, 77.5742862133283, 23.480206687227472, 51.250447131177296, 73.17010320184805, 42.530872590010844, 40.796197357476316, 80.61845723488192, 138.29892875997368, 77.34487309341134, 209.14664336957028, 349.53287627485645, 48.62357957861216, 178.13161913832647, 263.5165733901288, 64.40473541129843, 269.6505789627146, 145.20655086424898, 821.7916860262851, 481.05259969937856, 136.81202209228834, 48.479212216631545, 216.81510578154266, 133.48367218981247, 169.15100434280484, 430.42631698008313, 780.1264015067909, 407.62186029012577, 211.1536290424397, 91.76104820263471, 187.823161753155, 204.21960721855316, 200.02327950584367, 406.12517482822005, 345.68347585466506, 138.07219410653786, 145.8098012751786, 231.1541307824102, 615.2035167101096, 174.37232267417326, 329.80827115774946, 220.64812593823885, 357.2781146037131, 344.4814546187387, 21.07706205399577, 15.814154468462144, 17.320200054365834, 15.074089339606447, 10.559266431223445, 9.80554763462308, 8.298479344044196, 10.58140778564255, 9.066880454439177, 8.31009761800409, 7.54917977437314, 7.556169532672313, 29.593257706335372, 7.555616295565801, 6.800373492945322, 6.8005256713223785, 6.800406868630415, 6.800295866664686, 6.800343764792702, 6.800476253446459, 6.800753057936104, 6.800446321086026, 6.800339829528057, 6.800290671061482, 6.800222199147226, 6.799395541524706, 17.449581577851124, 7.566577421480761, 6.8079145327522985, 6.808159119541424, 29.59280580528786, 28.976955759621557, 42.64377112735233, 13.67410620504653, 71.65633679792262, 21.369799973820214, 47.7579727270033, 33.992340618703764, 9.107702961247801, 39.07766420707668, 35.38079739939496, 21.579061746606655, 7.571725107787329, 14.40590704853253, 35.08756552094309, 14.568342457329262, 23.21919597908044, 26.333654039270485, 114.31779558282464, 33.46166546311947, 32.112237011172276, 27.07863609501765, 34.992995262468185, 60.13257045275574, 183.80527670346416, 80.16571797878993, 27.56286582865021, 240.65363876391265, 126.72360963043396, 68.68859884925551, 185.11400728045066, 181.7572111217899, 167.43269177932976, 205.86671674193198, 406.12517482822005, 88.64905231281263, 407.62186029012577, 615.2035167101096, 93.25966672461179, 357.2781146037131, 430.42631698008313, 344.4814546187387, 780.1264015067909, 145.8098012751786, 196.80245231154274, 821.7916860262851, 158.3775415980214, 119.37541200587854, 177.22961005900424, 131.27863449220166, 345.68347585466506, 218.95168978739326, 204.21960721855316, 221.1832031449601, 118.20809036409105, 168.68758983607805, 76.44513751346585, 53.37244922973298, 53.37156229825503, 262.66067266187207, 57.70489437370126, 53.37426699053136, 49.7746105089349, 142.15381964155338, 49.06464806474723, 46.90186778515113, 54.11625316444538, 33.92943087196975, 372.74386773869753, 31.060242624258176, 36.843634401665376, 28.175735774999676, 31.792607316849857, 67.96107824012212, 22.40547569008474, 22.40976323375033, 138.32670167707192, 17.366552709431232, 58.74960774328612, 16.65979562815579, 14.49234453056699, 12.324745524876885, 13.774756856321519, 92.34824087530606, 24.687568380819016, 149.59241789899198, 56.16244888023409, 147.8302452933986, 235.96215966492596, 40.815014907250514, 115.4435306533863, 780.1264015067909, 82.31334822590196, 77.19050269088964, 96.74073757319314, 481.05259969937856, 821.7916860262851, 349.53287627485645, 406.12517482822005, 170.061214261237], \"Category\": [\"Default\", \"Default\", \"Default\", \"Default\", \"Default\", \"Default\", \"Default\", \"Default\", \"Default\", \"Default\", \"Default\", \"Default\", \"Default\", \"Default\", \"Default\", \"Default\", \"Default\", \"Default\", \"Default\", \"Default\", \"Default\", \"Default\", \"Default\", \"Default\", \"Default\", \"Default\", \"Default\", \"Default\", \"Default\", \"Default\", \"Topic1\", \"Topic1\", \"Topic1\", \"Topic1\", \"Topic1\", \"Topic1\", \"Topic1\", \"Topic1\", \"Topic1\", \"Topic1\", \"Topic1\", \"Topic1\", \"Topic1\", \"Topic1\", \"Topic1\", \"Topic1\", \"Topic1\", \"Topic1\", \"Topic1\", \"Topic1\", \"Topic1\", \"Topic1\", \"Topic1\", \"Topic1\", \"Topic1\", \"Topic1\", \"Topic1\", \"Topic1\", \"Topic1\", \"Topic1\", \"Topic1\", \"Topic1\", \"Topic1\", \"Topic1\", \"Topic1\", \"Topic1\", \"Topic1\", \"Topic1\", \"Topic1\", \"Topic1\", \"Topic1\", \"Topic1\", \"Topic1\", \"Topic1\", \"Topic1\", \"Topic1\", \"Topic1\", \"Topic1\", \"Topic1\", \"Topic1\", \"Topic1\", \"Topic1\", \"Topic1\", \"Topic1\", \"Topic1\", \"Topic1\", \"Topic1\", \"Topic1\", \"Topic1\", \"Topic1\", \"Topic1\", \"Topic1\", \"Topic1\", \"Topic1\", \"Topic1\", \"Topic1\", \"Topic1\", \"Topic1\", \"Topic1\", \"Topic1\", \"Topic1\", \"Topic1\", \"Topic1\", \"Topic2\", \"Topic2\", \"Topic2\", \"Topic2\", \"Topic2\", \"Topic2\", \"Topic2\", \"Topic2\", \"Topic2\", \"Topic2\", \"Topic2\", \"Topic2\", \"Topic2\", \"Topic2\", \"Topic2\", \"Topic2\", \"Topic2\", \"Topic2\", \"Topic2\", \"Topic2\", \"Topic2\", \"Topic2\", \"Topic2\", \"Topic2\", \"Topic2\", \"Topic2\", \"Topic2\", \"Topic2\", \"Topic2\", \"Topic2\", \"Topic2\", \"Topic2\", \"Topic2\", \"Topic2\", \"Topic2\", \"Topic2\", \"Topic2\", \"Topic2\", \"Topic2\", \"Topic2\", \"Topic2\", \"Topic2\", \"Topic2\", \"Topic2\", \"Topic2\", \"Topic2\", \"Topic2\", \"Topic2\", \"Topic2\", \"Topic2\", \"Topic2\", \"Topic2\", \"Topic2\", \"Topic2\", \"Topic2\", \"Topic2\", \"Topic2\", \"Topic2\", \"Topic2\", \"Topic2\", \"Topic2\", \"Topic2\", \"Topic2\", \"Topic2\", \"Topic2\", \"Topic2\", \"Topic2\", \"Topic2\", \"Topic2\", \"Topic2\", \"Topic3\", \"Topic3\", \"Topic3\", \"Topic3\", \"Topic3\", \"Topic3\", \"Topic3\", \"Topic3\", \"Topic3\", \"Topic3\", \"Topic3\", \"Topic3\", \"Topic3\", \"Topic3\", \"Topic3\", \"Topic3\", \"Topic3\", \"Topic3\", \"Topic3\", \"Topic3\", \"Topic3\", \"Topic3\", \"Topic3\", \"Topic3\", \"Topic3\", \"Topic3\", \"Topic3\", \"Topic3\", \"Topic3\", \"Topic3\", \"Topic3\", \"Topic3\", \"Topic3\", \"Topic3\", \"Topic3\", \"Topic3\", \"Topic3\", \"Topic3\", \"Topic3\", \"Topic3\", \"Topic3\", \"Topic3\", \"Topic3\", \"Topic3\", \"Topic3\", \"Topic3\", \"Topic3\", \"Topic3\", \"Topic3\", \"Topic3\", \"Topic3\", \"Topic3\", \"Topic3\", \"Topic3\", \"Topic3\", \"Topic3\", \"Topic3\", \"Topic3\", \"Topic3\", \"Topic3\", \"Topic3\", \"Topic3\", \"Topic3\", \"Topic3\", \"Topic3\", \"Topic3\", \"Topic3\", \"Topic3\", \"Topic3\", \"Topic3\", \"Topic3\", \"Topic3\", \"Topic3\", \"Topic3\", \"Topic3\", \"Topic3\", \"Topic3\", \"Topic3\", \"Topic3\", \"Topic3\", \"Topic3\", \"Topic3\", \"Topic3\", \"Topic4\", \"Topic4\", \"Topic4\", \"Topic4\", \"Topic4\", \"Topic4\", \"Topic4\", \"Topic4\", \"Topic4\", \"Topic4\", \"Topic4\", \"Topic4\", \"Topic4\", \"Topic4\", \"Topic4\", \"Topic4\", \"Topic4\", \"Topic4\", \"Topic4\", \"Topic4\", \"Topic4\", \"Topic4\", \"Topic4\", \"Topic4\", \"Topic4\", \"Topic4\", \"Topic4\", \"Topic4\", \"Topic4\", \"Topic4\", \"Topic4\", \"Topic4\", \"Topic4\", \"Topic4\", \"Topic4\", \"Topic4\", \"Topic4\", \"Topic4\", \"Topic4\", \"Topic4\", \"Topic4\", \"Topic4\", \"Topic4\", \"Topic4\", \"Topic4\", \"Topic4\", \"Topic4\"], \"logprob\": [30.0, 29.0, 28.0, 27.0, 26.0, 25.0, 24.0, 23.0, 22.0, 21.0, 20.0, 19.0, 18.0, 17.0, 16.0, 15.0, 14.0, 13.0, 12.0, 11.0, 10.0, 9.0, 8.0, 7.0, 6.0, 5.0, 4.0, 3.0, 2.0, 1.0, -6.4712, -4.9908, -6.822, -7.2937, -6.902, -6.8126, -7.2562, -7.1479, -7.3168, -7.473, -7.6852, -7.3197, -7.383, -7.6285, -7.362, -7.5493, -7.5753, -7.6023, -5.0662, -7.4293, -7.6871, -6.4596, -7.6308, -7.5506, -6.6831, -6.1338, -7.5261, -7.7193, -7.7503, -7.7195, -6.7488, -6.925, -6.8861, -4.4285, -5.4728, -5.9844, -6.5803, -5.5593, -6.6554, -6.4416, -6.0885, -7.0222, -6.0978, -6.6406, -6.7493, -6.8995, -5.4288, -5.5458, -6.3189, -6.2699, -5.344, -6.2513, -5.7492, -5.9724, -6.3399, -6.2093, -5.3871, -5.9494, -5.9354, -5.2792, -5.9769, -5.8836, -5.809, -5.1482, -5.8134, -6.1072, -6.1877, -6.208, -6.1502, -5.9402, -6.0756, -6.0953, -6.2061, -5.4769, -6.7141, -6.8344, -6.9533, -6.7912, -7.1985, -7.199, -7.2455, -7.1332, -7.27, -7.2461, -7.2462, -7.2702, -7.2703, -7.2704, -7.2706, -7.2707, -7.2714, -7.2718, -7.2242, -7.2969, -7.1583, -7.3491, -7.3492, -7.2996, -7.7704, -7.736, -6.5047, -7.7006, -6.9227, -6.5697, -7.1124, -7.1569, -6.501, -5.9967, -6.5705, -5.6669, -5.2293, -6.9983, -5.8576, -5.5233, -6.7573, -5.5164, -6.0597, -4.5831, -5.1416, -6.1655, -7.017, -5.804, -6.2219, -6.056, -5.3728, -4.9678, -5.4491, -5.9366, -6.5667, -6.0678, -6.0427, -6.0621, -5.616, -5.7499, -6.3039, -6.2973, -6.0996, -5.7486, -6.2536, -6.0668, -6.2, -6.074, -6.0842, -7.2449, -7.5372, -7.4489, -7.5943, -7.9611, -8.0419, -8.2162, -7.9762, -8.1328, -8.2207, -8.3185, -8.3197, -6.9582, -8.3245, -8.4302, -8.4305, -8.4305, -8.4306, -8.4307, -8.4307, -8.4307, -8.4308, -8.4309, -8.4309, -8.431, -8.434, -7.4926, -8.3305, -8.4362, -8.4364, -6.9873, -7.0207, -6.6699, -7.7668, -6.1995, -7.3528, -6.6506, -6.9634, -8.1638, -6.841, -6.9443, -7.4025, -8.3347, -7.7623, -6.989, -7.7631, -7.3703, -7.2888, -6.111, -7.1078, -7.1531, -7.3137, -7.1279, -6.7954, -6.13, -6.6733, -7.3666, -6.0768, -6.4589, -6.8386, -6.2866, -6.3263, -6.3726, -6.2967, -6.0225, -6.7412, -6.0779, -5.9101, -6.7285, -6.2029, -6.1806, -6.2762, -6.0424, -6.6108, -6.5227, -6.1324, -6.6088, -6.7059, -6.6571, -6.732, -6.5935, -6.6812, -6.7084, -4.692, -5.3216, -4.9676, -5.7617, -6.1221, -6.1225, -4.529, -6.0445, -6.1229, -6.1931, -5.1447, -6.2089, -6.2541, -6.1118, -6.582, -4.1857, -6.6749, -6.5047, -6.7732, -6.6534, -5.894, -7.0065, -7.0074, -5.1921, -7.27, -6.0575, -7.3187, -7.4613, -7.6277, -7.5175, -5.6205, -6.9358, -5.1617, -6.1388, -5.2304, -4.8482, -6.4725, -5.629, -4.3346, -6.0115, -6.0934, -6.0215, -5.2499, -5.019, -5.7451, -5.9483, -6.1332], \"loglift\": [30.0, 29.0, 28.0, 27.0, 26.0, 25.0, 24.0, 23.0, 22.0, 21.0, 20.0, 19.0, 18.0, 17.0, 16.0, 15.0, 14.0, 13.0, 12.0, 11.0, 10.0, 9.0, 8.0, 7.0, 6.0, 5.0, 4.0, 3.0, 2.0, 1.0, 0.9469, 0.9443, 0.942, 0.9406, 0.9405, 0.9393, 0.9392, 0.9383, 0.938, 0.9363, 0.9358, 0.9357, 0.9354, 0.9352, 0.935, 0.9345, 0.9344, 0.9342, 0.9341, 0.9338, 0.9338, 0.9337, 0.9332, 0.9332, 0.9326, 0.9326, 0.9325, 0.932, 0.9317, 0.9317, 0.9316, 0.931, 0.9299, 0.8992, 0.9076, 0.9141, 0.9215, 0.9005, 0.92, 0.9133, 0.895, 0.9223, 0.8927, 0.9071, 0.9103, 0.9162, 0.8531, 0.8584, 0.8839, 0.8792, 0.807, 0.8662, 0.815, 0.8285, 0.8612, 0.8377, 0.7216, 0.7832, 0.7801, 0.6296, 0.7575, 0.7304, 0.6759, 0.4503, 0.6492, 0.7431, 0.7354, 0.7271, 0.6313, 0.2817, 0.1027, 0.0466, -0.0312, 1.1873, 1.1808, 1.1804, 1.1795, 1.1776, 1.1758, 1.1755, 1.1754, 1.1754, 1.175, 1.1749, 1.1749, 1.1748, 1.1748, 1.1747, 1.1745, 1.1744, 1.174, 1.1735, 1.1734, 1.173, 1.1723, 1.1723, 1.1722, 1.1705, 1.1697, 1.1655, 1.1645, 1.1636, 1.161, 1.1579, 1.1578, 1.1549, 1.1297, 1.0943, 1.1017, 1.0104, 0.9345, 1.138, 0.9802, 0.923, 1.098, 0.9069, 0.9826, 0.7258, 0.7028, 0.9363, 1.1223, 0.8374, 0.9045, 0.8336, 0.5828, 0.3932, 0.561, 0.7312, 0.9346, 0.7171, 0.6585, 0.6599, 0.3977, 0.425, 0.7887, 0.7408, 0.4777, -0.1501, 0.6057, 0.1551, 0.4238, 0.0679, 0.0942, 1.7273, 1.7223, 1.7197, 1.7132, 1.7024, 1.6955, 1.6881, 1.6851, 1.683, 1.6822, 1.6805, 1.6784, 1.6747, 1.6736, 1.6732, 1.6729, 1.6729, 1.6728, 1.6727, 1.6727, 1.6726, 1.6726, 1.6725, 1.6725, 1.6724, 1.6695, 1.6685, 1.6662, 1.6662, 1.6659, 1.6456, 1.6332, 1.5976, 1.6381, 1.5491, 1.6057, 1.5037, 1.5309, 1.6475, 1.5138, 1.51, 1.5462, 1.6613, 1.5905, 1.4735, 1.5785, 1.5052, 1.4608, 1.1705, 1.4022, 1.398, 1.408, 1.3374, 1.1285, 0.6765, 0.9631, 1.3373, 0.4603, 0.7195, 0.9522, 0.5128, 0.4915, 0.5272, 0.3965, -0.0087, 0.7946, -0.0678, -0.3117, 0.7565, -0.061, -0.2249, -0.0978, -0.6815, 0.4273, 0.2156, -0.8234, 0.3467, 0.5323, 0.1859, 0.4111, -0.4186, -0.0496, -0.0072, 1.9294, 1.9263, 1.9248, 1.9221, 1.921, 1.9206, 1.9206, 1.9205, 1.9202, 1.9198, 1.9188, 1.9184, 1.9182, 1.9175, 1.9142, 1.9138, 1.9095, 1.9091, 1.9088, 1.9078, 1.9074, 1.9046, 1.9035, 1.8987, 1.8959, 1.8896, 1.8887, 1.8855, 1.8811, 1.8801, 1.8743, 1.8783, 1.8508, 1.8534, 1.794, 1.7086, 1.8389, 1.6426, 1.0264, 1.5984, 1.5807, 1.4269, 0.5945, 0.2899, 0.4187, 0.0654, 0.7511]}, \"token.table\": {\"Topic\": [1, 1, 2, 3, 4, 1, 2, 3, 4, 1, 2, 3, 4, 3, 1, 2, 3, 4, 1, 2, 3, 1, 1, 2, 1, 1, 3, 4, 1, 2, 3, 4, 1, 2, 4, 3, 1, 3, 4, 1, 3, 1, 2, 2, 2, 1, 1, 2, 3, 4, 1, 2, 3, 1, 2, 3, 4, 1, 3, 1, 2, 3, 1, 2, 3, 4, 4, 2, 4, 1, 2, 3, 4, 3, 2, 4, 1, 2, 3, 4, 4, 4, 1, 2, 3, 4, 2, 3, 1, 1, 2, 3, 4, 1, 3, 1, 2, 3, 4, 1, 2, 3, 4, 4, 1, 2, 3, 4, 1, 2, 3, 4, 2, 1, 2, 4, 1, 3, 3, 1, 1, 2, 3, 4, 1, 2, 3, 1, 2, 3, 4, 2, 4, 1, 2, 3, 4, 4, 1, 2, 4, 2, 3, 2, 4, 1, 2, 4, 1, 2, 3, 4, 1, 2, 2, 4, 1, 2, 3, 1, 3, 4, 4, 1, 2, 3, 4, 1, 2, 3, 4, 1, 2, 3, 4, 1, 2, 4, 1, 2, 3, 4, 4, 2, 1, 2, 3, 4, 1, 2, 3, 4, 4, 1, 2, 3, 4, 1, 2, 3, 4, 1, 2, 3, 4, 2, 4, 2, 3, 1, 2, 4, 2, 3, 4, 4, 3, 1, 2, 4, 4, 1, 2, 3, 4, 1, 2, 3, 4, 1, 4, 1, 2, 3, 4, 1, 2, 3, 4, 1, 2, 3, 1, 2, 3, 4, 1, 2, 3, 2, 2, 1, 1, 2, 3, 4, 1, 2, 3, 1, 2, 3, 4, 1, 2, 3, 1, 2, 3, 2, 4, 2, 4, 3, 4, 3, 1, 2, 3, 4, 2, 1, 1, 2, 3, 4, 1, 2, 3, 4, 1, 2, 3, 4, 1, 2, 3, 4, 2, 1, 2, 3, 4, 1, 3, 3, 1, 2, 3, 4, 1, 2, 3, 4, 1, 2, 3, 4, 1, 1, 1, 2, 3, 4, 1, 1, 2, 3, 4, 3, 1, 2, 3, 4, 4, 1, 2, 3, 4, 1, 2, 3, 4, 1, 2, 3, 4, 1, 2, 3, 1, 2, 3, 4, 1, 2, 3, 4, 1, 2, 3, 4, 2, 1, 2, 3, 4, 1, 1, 2, 3, 4, 1, 3, 4, 1, 2, 3, 4, 1, 2, 3, 4, 1, 2, 2, 1, 2, 3, 4, 2, 3, 4, 1, 2, 3, 4, 1, 2, 3, 4, 1, 2, 3, 4, 3, 1, 2, 3, 4, 3, 3, 1, 1, 2, 3, 4, 1, 2, 3, 4, 1, 2, 3, 4, 1, 2, 3, 4, 1, 2, 3, 4, 1, 2, 1, 2, 3, 1, 2, 3, 1, 1, 2, 3, 4, 3, 1, 2, 3, 4, 1, 2, 3, 4, 1, 2, 3, 4, 1, 2, 4, 2, 3, 1, 2, 3, 4, 1, 2, 3, 4, 1, 1, 2, 3, 3, 1, 2, 3, 4, 1, 3, 4, 2, 3, 4, 4, 3, 1, 2, 3, 4, 1, 2, 3, 4, 1, 2, 3, 4, 1, 2, 3, 4, 1, 2, 3, 1, 2, 3, 4, 2, 4, 2, 3, 4, 1, 2, 3, 4, 3, 1, 2, 3, 4, 1, 4, 1, 2, 3, 4, 1, 2, 3, 4, 1, 2, 4, 1, 2, 3, 4, 1, 2, 3, 1, 2, 3, 4, 3, 1, 2, 4, 1, 2, 3, 4, 2, 1, 2, 3, 4, 1, 2, 3, 3, 3, 1, 2, 3, 4, 2, 1, 2, 3, 3, 2, 1, 3, 1, 2, 4, 4, 1, 4, 2, 1, 2, 3, 4, 1, 3, 1, 2, 3, 4, 1, 2, 3, 4, 3, 2, 4, 1, 2, 3, 4, 1, 2, 3, 1, 2, 3, 1, 2, 3, 4, 1, 2, 3, 4, 1, 2, 3, 4, 1, 1, 2, 3, 4, 2], \"Freq\": [0.9897321953473649, 0.5726200926513806, 0.1296498322984258, 0.2863100463256903, 0.010804152691535483, 0.8071088525598543, 0.07389024706533878, 0.0852579773830832, 0.0397870561121055, 0.07544074474966414, 0.6309589560881, 0.2606134818624761, 0.027432998090786958, 0.9485173570243166, 0.8856561733247957, 0.006919188854099967, 0.06919188854099967, 0.041515133124599805, 0.9735053139394254, 0.007054386332894387, 0.014108772665788773, 0.9635942486545979, 0.9661131216462812, 0.9672996663601333, 0.9683221915207353, 0.23907955235573614, 0.6873537130227414, 0.059769888088934034, 0.024808214751282066, 0.9303080531730775, 0.024808214751282066, 0.012404107375641033, 0.005928118369417387, 0.005928118369417387, 0.9899957676927037, 0.9251210435153542, 0.028577147869149465, 0.6572744009904377, 0.3143486265606441, 0.07313092241677505, 0.8775710690013006, 0.973022807365762, 0.9804424614881908, 0.9802296421310607, 0.9724788090045839, 0.9819243012807319, 0.037974221067411836, 0.037974221067411836, 0.7215102002808249, 0.18987110533705917, 0.10884209278708788, 0.21768418557417576, 0.6530525567225273, 0.9133153017379106, 0.03712663828202889, 0.04455196593843467, 0.007425327656405778, 0.057307964408115496, 0.9169274305298479, 0.9576174502220992, 0.02553646533925598, 0.01276823266962799, 0.27687817099377654, 0.3254532887119829, 0.2525906121346733, 0.1408678413827986, 0.9810957562446494, 0.014069266693241737, 0.9848486685269215, 0.7533632331453654, 0.16171671496837686, 0.07099758218123862, 0.015777240484719693, 0.881295500685087, 0.9640056152910815, 0.023512332080270284, 0.028263919230296964, 0.14131959615148482, 0.763125819218018, 0.028263919230296964, 0.9658649600042042, 0.9817149681825641, 0.23388058081025095, 0.008662243733712998, 0.008662243733712998, 0.7449529610993179, 0.9802589936553339, 0.9264631402878574, 0.9683039898067373, 0.16746599862955722, 0.013955499885796434, 0.7954634934903968, 0.013955499885796434, 0.10979716886407931, 0.8783773509126345, 0.15681564196111653, 0.6964459392978999, 0.04151002287206026, 0.10608116956193177, 0.013369661565002867, 0.06684830782501433, 0.0066848307825014336, 0.9158218172026964, 0.9783011168582665, 0.10829995181668621, 0.6230289362937453, 0.074228056863122, 0.19347968920059672, 0.9436391371727905, 0.021079980725279154, 0.029759972788629397, 0.006199994330964458, 0.9842141917469687, 0.004718542665012809, 0.9908939596526898, 0.004718542665012809, 0.9724682054299356, 0.9237768587994423, 0.9626842388310514, 0.9651046933575237, 0.03346933944156458, 0.8271708176272389, 0.12431468935438272, 0.014344002617813392, 0.0686419888143764, 0.0686419888143764, 0.8237038657725168, 0.04988976818074, 0.34922837726518, 0.5321575272612267, 0.08314961363456667, 0.9801208504811435, 0.977102302328045, 0.38976084493947655, 0.46227449050961167, 0.13596308544400343, 0.01812841139253379, 0.9437553152913936, 0.21795740558493037, 0.7737487898265029, 0.010897870279246519, 0.9559714514140337, 0.024512088497795737, 0.9795484471825927, 0.9793730515478709, 0.025781738996605463, 0.9668152123727048, 0.012890869498302732, 0.26950024992400173, 0.5413237778645897, 0.13475012496200087, 0.053435394381483106, 0.9637790616599348, 0.9854956513269995, 0.9560892195649103, 0.019512024889079802, 0.9801423500618567, 0.014002033572312238, 0.8823001499627013, 0.9775607229368944, 0.012219509036711181, 0.012219509036711181, 0.9660272684293044, 0.0405870935821814, 0.07440967156733255, 0.013529031194060466, 0.8658579964198698, 0.07235834846415001, 0.21707504539245004, 0.11370597615795003, 0.5995406015601001, 0.057000249812322795, 0.08550037471848419, 0.7410032475601963, 0.11400049962464559, 0.9789761994527572, 0.015539304753218368, 0.9603959350473239, 0.002682807382094946, 0.016096844292569676, 0.002682807382094946, 0.9792246944646553, 0.9750694458950594, 0.9741228826452667, 0.8764687171701545, 0.04869270650945303, 0.0649236086792707, 0.005410300723272559, 0.07589655459882809, 0.7589655459882808, 0.07210172686888668, 0.0910758655185937, 0.9726069418766, 0.8394448409985227, 0.11921110168026358, 0.029802775420065895, 0.009934258473355299, 0.9415652920357972, 0.006493553738177911, 0.04545487616724538, 0.006493553738177911, 0.22899343789593068, 0.4481376956673052, 0.16989835714859372, 0.1551245869617595, 0.014714304509218791, 0.9711440976084402, 0.9881431742641761, 0.9640320435022334, 0.0038071934784364102, 0.0076143869568728205, 0.9860631109150302, 0.9841091098932256, 0.8823152259553985, 0.9929878757754602, 0.9819028305538643, 0.8822950313416789, 0.0072292622311961995, 0.021687786693588597, 0.9614918767490945, 0.9844376379641213, 0.06409217775917658, 0.4473634007590525, 0.08588351819729662, 0.40249887632762893, 0.10363969298186983, 0.15545953947280475, 0.03886488486820119, 0.6995679276276213, 0.034042780485263054, 0.9531978535873655, 0.8667690484861517, 0.07685636883128438, 0.04696778095245157, 0.008539596536809376, 0.09718958312866441, 0.15793307258407968, 0.03644609367324916, 0.7167731755739001, 0.04679500983748483, 0.09359001967496966, 0.842310177074727, 0.7205373743628098, 0.21283565519639921, 0.062077066098949765, 0.0066511142248874755, 0.020566153472581145, 0.9460430597387326, 0.020566153472581145, 0.9834764424628536, 0.9803756182215295, 0.9774990120732338, 0.6629529682667588, 0.03583529558198696, 0.2866823646558957, 0.01791764779099348, 0.9783572013764492, 0.009783572013764492, 0.009783572013764492, 0.9521719530172499, 0.024870162951943095, 0.021317282530236938, 0.003552880421706156, 0.9602329067654785, 0.009414048105543906, 0.028242144316631718, 0.967608044650663, 0.016975579730713387, 0.016975579730713387, 0.9801695771539843, 0.9582713372815305, 0.9836556666344641, 0.9930216949923015, 0.9488988526372164, 0.9807711754831935, 0.8822911479117687, 0.1904346438146801, 0.4418083736500578, 0.25899111558796495, 0.11426078628880805, 0.9843079927851144, 0.9859775339277851, 0.1860741998163423, 0.5827060467932824, 0.17138413140978895, 0.06365696309506447, 0.22344895139715318, 0.4057362538527255, 0.06468259119391276, 0.3057722492803149, 0.07859357068510352, 0.8027771862835573, 0.08420739716261091, 0.02806913238753697, 0.20227193002007215, 0.7491552963706376, 0.029966211854825505, 0.022474658891119128, 0.9648934446404612, 0.7943157226530003, 0.1570680807505933, 0.03590127560013561, 0.013462978350050853, 0.0675829616275006, 0.9123699819712582, 0.9287459882047847, 0.291974006326869, 0.3235387637676116, 0.3472123318481685, 0.031564757440742594, 0.2320585264018906, 0.6251372547969297, 0.12786898393573562, 0.014207664881748404, 0.8199756833969601, 0.15690892706978868, 0.02024631317029531, 0.005061578292573828, 0.9728187150534713, 0.9804569289662053, 0.7906062964306542, 0.17057601601072334, 0.029783113906634233, 0.010830223238776084, 0.9811516342771682, 0.15575712895393956, 0.7491176202070428, 0.03708503070331895, 0.05933604912531031, 0.9263953077988156, 0.33242796747603737, 0.27425307316773084, 0.27009772357428036, 0.124660487803514, 0.9930381970799611, 0.2680619020475019, 0.3685851153153151, 0.29319270536445524, 0.07539240995085991, 0.01144384483265198, 0.7695985649958457, 0.002860961208162995, 0.22029401302855062, 0.21296627969967655, 0.617602211129062, 0.1171314538348221, 0.05324156992491914, 0.08613562682368156, 0.17227125364736312, 0.775220641413134, 0.40304735754587817, 0.321878098040111, 0.1595395790285768, 0.11475653930125698, 0.8387401417237025, 0.14652689222883958, 0.010105302912333764, 0.005052651456166882, 0.929932170568188, 0.0404318335029647, 0.008086366700592939, 0.024259100101778817, 0.9761379857008016, 0.4678864586610596, 0.17409728694365006, 0.337313493453322, 0.021762160867956258, 0.9869640417147592, 0.2898498926807775, 0.48452519373503106, 0.11680518063255213, 0.10815294503014086, 0.9272086261528634, 0.015325762415749808, 0.05364016845512433, 0.37317375289941596, 0.4628511663868725, 0.11281997180680017, 0.05496357600844111, 0.43845288471268723, 0.3653774039272394, 0.15985261421816724, 0.036537740392723936, 0.9817966126403433, 0.980220225348287, 0.9654718527592894, 0.36097396605079074, 0.23688916522083145, 0.37225440248987796, 0.02256087287817442, 0.06941596920145794, 0.8329916304174954, 0.06941596920145794, 0.04900157465444692, 0.02450078732722346, 0.02450078732722346, 0.906529131107268, 0.9014325057326957, 0.05151042889901118, 0.02575521444950559, 0.019316410837129195, 0.02062739789440998, 0.928232905248449, 0.02062739789440998, 0.02062739789440998, 0.9178477669336166, 0.27721771329823186, 0.5299028855966201, 0.1594615164989829, 0.036798811499765285, 0.8824313813422526, 0.8823145518435798, 0.9897650864497431, 0.6014269911502276, 0.2600765367136119, 0.12516183329342576, 0.013003826835680597, 0.04690016729587902, 0.07035025094381854, 0.8442030113258224, 0.04690016729587902, 0.5093868610700928, 0.3517194993103021, 0.03335271114149417, 0.10612226272293598, 0.8008377112394817, 0.07947244462681878, 0.048906119770350025, 0.07335917965552503, 0.3645734666884371, 0.26806872550620375, 0.3645734666884371, 0.010722749020248149, 0.9551675651864547, 0.02984898641207671, 0.11767356784484154, 0.11767356784484154, 0.7942965829526804, 0.9623543581762009, 0.011736028758246352, 0.023472057516492704, 0.9582792733449643, 0.12246562250981151, 0.30616405627452875, 0.5510953012941517, 0.017495088929973073, 0.882308337273138, 0.27443152203565013, 0.23700904175806145, 0.4490697633310638, 0.03742248027758865, 0.947565006492199, 0.011416445861351796, 0.011416445861351796, 0.022832891722703592, 0.04338428398395891, 0.9038392496658105, 0.01446142799465297, 0.036153569986632425, 0.027333568117059677, 0.9566748840970887, 0.013666784058529838, 0.31140776634529904, 0.6850970859596579, 0.055093933106909604, 0.805748771688553, 0.1239613494905466, 0.013773483276727401, 0.9424406431380691, 0.02308017901562618, 0.026926875518230545, 0.0038466965026043637, 0.9778143171297574, 0.9777623510731214, 0.013036831347641619, 0.8823321361961016, 0.8823241100492898, 0.9351827132713794, 0.03923843552187606, 0.01961921776093803, 0.00653973925364601, 0.15354039505036343, 0.767701975251817, 0.05118013168345447, 0.18845021021822442, 0.774739753119367, 0.04187782449293876, 0.9736509346808498, 0.8823088478530343, 0.38995461024685996, 0.5849319153702899, 0.014998254240263844, 0.009998836160175896, 0.3191070089710828, 0.3521180788646431, 0.2805940940952624, 0.049516604840340435, 0.8586250694094315, 0.042366368556386425, 0.09320601082405013, 0.005648849140851523, 0.7328492934057386, 0.19285507721203646, 0.057856523163610944, 0.011571304632722188, 0.9542891373973982, 0.0059643071087337384, 0.03578584265240243, 0.11018715897888397, 0.06780748244854398, 0.025427805918203993, 0.7967379187703918, 0.9773316968707834, 0.9788931795754624, 0.22157689105707853, 0.701660155014082, 0.07385896368569284, 0.012929105188294446, 0.9050373631806112, 0.03878731556488334, 0.05171642075317778, 0.92725305386985, 0.21873946385216284, 0.6916896559649474, 0.07094252881691768, 0.011823754802819613, 0.978006724810489, 0.9897799688636367, 0.9855457931990118, 0.004552174564429616, 0.006828261846644423, 0.002276087282214808, 0.9766091423523044, 0.00971750390400303, 0.012146879880003786, 0.0024293759760007573, 0.02165715319580928, 0.032485729793713926, 0.9420861640177037, 0.2897035153155863, 0.6663180852258486, 0.007242587882889658, 0.03621293941444829, 0.9704645158144389, 0.014930223320222138, 0.014930223320222138, 0.06758399366249433, 0.033791996831247166, 0.8785919176124263, 0.033791996831247166, 0.8813271628388561, 0.03561098278077193, 0.03561098278077193, 0.9258855523000702, 0.30938730015374954, 0.37252756549124943, 0.23993300828249964, 0.08208234493874988, 0.9801953916881802, 0.7918972363202041, 0.15466742896878988, 0.043306880111261166, 0.006186697158751595, 0.9040761247603669, 0.06457686605431193, 0.02421632477036697, 0.8822847365023306, 0.8822552368665012, 0.42382542816880586, 0.3309321836386566, 0.15385443625305967, 0.08999033063858207, 0.9741477144429188, 0.959549550266463, 0.0218079443242378, 0.0109039721621189, 0.8823044802207369, 0.9762719406428602, 0.9779910388472781, 0.9450538342892864, 0.07763404302601726, 0.9005548991018002, 0.015526808605203453, 0.9877844959019194, 0.040506216917537696, 0.9316429891033671, 0.9655492321104348, 0.06578369256123509, 0.7674764132144094, 0.11694878677552906, 0.043855795040823396, 0.9928429658161083, 0.9244920939880233, 0.1727620748656995, 0.4877987996207986, 0.21341197483409938, 0.13211217489729962, 0.14558456814566959, 0.18925993858937046, 0.4367537044370087, 0.21837685221850436, 0.9470354844376584, 0.004521138973399419, 0.9946505741478722, 0.7216264881641211, 0.1167336966147843, 0.031836462713122994, 0.12734585085249198, 0.06902036282178871, 0.06902036282178871, 0.8627545352723589, 0.13902365335563097, 0.04634121778521032, 0.7878007023485755, 0.9059419298171357, 0.054574815049225046, 0.010914963009845008, 0.029106568026253356, 0.30394731908821426, 0.5505460874050674, 0.10896224646558625, 0.03440913046281671, 0.0644420173997036, 0.6090810031649404, 0.0644420173997036, 0.2619256191084727, 0.9754722860838252, 0.49088862730689015, 0.29340469678112974, 0.2031263285407821, 0.005642398015021726, 0.9673012893280605], \"Term\": [\"acceptance\", \"account\", \"account\", \"account\", \"account\", \"act\", \"act\", \"act\", \"act\", \"address\", \"address\", \"address\", \"address\", \"adipren\", \"adobe\", \"adobe\", \"adobe\", \"adobe\", \"advice\", \"advice\", \"advice\", \"advises\", \"advisor\", \"aeor\", \"aerofoam\", \"agent\", \"agent\", \"agent\", \"ali\", \"ali\", \"ali\", \"ali\", \"align\", \"align\", \"align\", \"allixon\", \"alt\", \"alt\", \"alt\", \"amsterdam\", \"amsterdam\", \"anticipated\", \"aopen\", \"apc\", \"artprice\", \"assurance\", \"avoid\", \"avoid\", \"avoid\", \"avoid\", \"award\", \"award\", \"award\", \"based\", \"based\", \"based\", \"based\", \"batch\", \"batch\", \"belief\", \"belief\", \"belief\", \"best\", \"best\", \"best\", \"best\", \"bgcolor\", \"border\", \"border\", \"business\", \"business\", \"business\", \"business\", \"calorized\", \"canon\", \"canon\", \"category\", \"category\", \"category\", \"category\", \"cellpadding\", \"cellspacing\", \"center\", \"center\", \"center\", \"center\", \"cisco\", \"citce\", \"citibank\", \"claim\", \"claim\", \"claim\", \"claim\", \"claiming\", \"claiming\", \"click\", \"click\", \"click\", \"click\", \"color\", \"color\", \"color\", \"color\", \"colspan\", \"com\", \"com\", \"com\", \"com\", \"company\", \"company\", \"company\", \"company\", \"compaq\", \"computron\", \"computron\", \"computron\", \"conflict\", \"congratulation\", \"consequently\", \"construed\", \"contact\", \"contact\", \"contact\", \"contact\", \"correspondence\", \"correspondence\", \"correspondence\", \"credit\", \"credit\", \"credit\", \"credit\", \"customerservice\", \"darial\", \"day\", \"day\", \"day\", \"day\", \"dcenterfont\", \"dealer\", \"dealer\", \"dealer\", \"dell\", \"dell\", \"distributorjebel\", \"div\", \"duty\", \"duty\", \"duty\", \"email\", \"email\", \"email\", \"email\", \"eogi\", \"epson\", \"error\", \"error\", \"estimate\", \"estimate\", \"expe\", \"expectation\", \"expectation\", \"expectation\", \"extender\", \"face\", \"face\", \"face\", \"face\", \"family\", \"family\", \"family\", \"family\", \"fat\", \"fat\", \"fat\", \"fat\", \"featured\", \"featured\", \"ffffffstrongfont\", \"font\", \"font\", \"font\", \"font\", \"fontfont\", \"format\", \"forward\", \"forward\", \"forward\", \"forward\", \"free\", \"free\", \"free\", \"free\", \"ftar\", \"future\", \"future\", \"future\", \"future\", \"gas\", \"gas\", \"gas\", \"gas\", \"get\", \"get\", \"get\", \"get\", \"gif\", \"gif\", \"gotten\", \"hdtv\", \"height\", \"height\", \"height\", \"hewlett\", \"hin\", \"hotlist\", \"hottlist\", \"hou\", \"href\", \"href\", \"href\", \"htmlimg\", \"http\", \"http\", \"http\", \"http\", \"image\", \"image\", \"image\", \"image\", \"img\", \"img\", \"inc\", \"inc\", \"inc\", \"inc\", \"index\", \"index\", \"index\", \"index\", \"inform\", \"inform\", \"inform\", \"information\", \"information\", \"information\", \"information\", \"instruction\", \"instruction\", \"instruction\", \"intel\", \"intellinet\", \"internationa\", \"international\", \"international\", \"international\", \"international\", \"investing\", \"investing\", \"investing\", \"investment\", \"investment\", \"investment\", \"investment\", \"investor\", \"investor\", \"investor\", \"involve\", \"involve\", \"involve\", \"iomega\", \"itoy\", \"jebel\", \"jpg\", \"kin\", \"knle\", \"kno\", \"know\", \"know\", \"know\", \"know\", \"legislation\", \"leth\", \"like\", \"like\", \"like\", \"like\", \"line\", \"line\", \"line\", \"line\", \"link\", \"link\", \"link\", \"link\", \"list\", \"list\", \"list\", \"list\", \"lls\", \"looking\", \"looking\", \"looking\", \"looking\", \"lottery\", \"lottery\", \"lotto\", \"low\", \"low\", \"low\", \"low\", \"mail\", \"mail\", \"mail\", \"mail\", \"market\", \"market\", \"market\", \"market\", \"materia\", \"materially\", \"may\", \"may\", \"may\", \"may\", \"meaning\", \"message\", \"message\", \"message\", \"message\", \"metabolic\", \"money\", \"money\", \"money\", \"money\", \"moopid\", \"name\", \"name\", \"name\", \"name\", \"nbsp\", \"nbsp\", \"nbsp\", \"nbsp\", \"net\", \"net\", \"net\", \"net\", \"netherlands\", \"netherlands\", \"netherlands\", \"new\", \"new\", \"new\", \"new\", \"news\", \"news\", \"news\", \"news\", \"newsletter\", \"newsletter\", \"newsletter\", \"newsletter\", \"notebook\", \"number\", \"number\", \"number\", \"number\", \"objective\", \"offer\", \"offer\", \"offer\", \"offer\", \"oil\", \"oil\", \"oil\", \"one\", \"one\", \"one\", \"one\", \"online\", \"online\", \"online\", \"online\", \"ooking\", \"packard\", \"paragraph\", \"part\", \"part\", \"part\", \"part\", \"participant\", \"participant\", \"participant\", \"penis\", \"penis\", \"penis\", \"penis\", \"pill\", \"pill\", \"pill\", \"pill\", \"plain\", \"plain\", \"plain\", \"plain\", \"plc\", \"please\", \"please\", \"please\", \"please\", \"powerline\", \"ppin\", \"prediction\", \"price\", \"price\", \"price\", \"price\", \"prize\", \"prize\", \"prize\", \"prize\", \"product\", \"product\", \"product\", \"product\", \"professional\", \"professional\", \"professional\", \"professional\", \"program\", \"program\", \"program\", \"program\", \"projection\", \"projection\", \"promotion\", \"promotion\", \"promotion\", \"provided\", \"provided\", \"provided\", \"pubiisher\", \"rate\", \"rate\", \"rate\", \"rate\", \"reas\", \"regard\", \"regard\", \"regard\", \"regard\", \"registered\", \"registered\", \"registered\", \"registered\", \"remove\", \"remove\", \"remove\", \"remove\", \"removed\", \"removed\", \"removed\", \"replica\", \"replica\", \"reply\", \"reply\", \"reply\", \"reply\", \"report\", \"report\", \"report\", \"report\", \"resuits\", \"revenue\", \"revenue\", \"rfid\", \"rien\", \"risk\", \"risk\", \"risk\", \"risk\", \"rnd\", \"rnd\", \"rnd\", \"rolex\", \"rolex\", \"rolex\", \"roxanne\", \"saf\", \"sale\", \"sale\", \"sale\", \"sale\", \"save\", \"save\", \"save\", \"save\", \"security\", \"security\", \"security\", \"security\", \"service\", \"service\", \"service\", \"service\", \"share\", \"share\", \"share\", \"size\", \"size\", \"size\", \"size\", \"sony\", \"spacer\", \"spain\", \"spain\", \"spain\", \"spam\", \"spam\", \"spam\", \"spam\", \"spe\", \"special\", \"special\", \"special\", \"special\", \"speculative\", \"src\", \"statement\", \"statement\", \"statement\", \"statement\", \"stock\", \"stock\", \"stock\", \"stock\", \"style\", \"style\", \"style\", \"subject\", \"subject\", \"subject\", \"subject\", \"subscriber\", \"subscriber\", \"subscriber\", \"sum\", \"sum\", \"sum\", \"sum\", \"suppresses\", \"table\", \"table\", \"table\", \"take\", \"take\", \"take\", \"take\", \"targus\", \"technology\", \"technology\", \"technology\", \"technology\", \"term\", \"term\", \"term\", \"thr\", \"tim\", \"time\", \"time\", \"time\", \"time\", \"toshiba\", \"trade\", \"trade\", \"trade\", \"tras\", \"uae\", \"uncertainty\", \"unclaimed\", \"unsubscribe\", \"unsubscribe\", \"unsubscribe\", \"valign\", \"verdana\", \"verdana\", \"viewsonic\", \"visit\", \"visit\", \"visit\", \"visit\", \"voip\", \"vuitton\", \"want\", \"want\", \"want\", \"want\", \"weight\", \"weight\", \"weight\", \"weight\", \"weightloss\", \"width\", \"width\", \"window\", \"window\", \"window\", \"window\", \"winner\", \"winner\", \"winner\", \"winning\", \"winning\", \"winning\", \"within\", \"within\", \"within\", \"within\", \"would\", \"would\", \"would\", \"would\", \"www\", \"www\", \"www\", \"www\", \"yap\", \"year\", \"year\", \"year\", \"year\", \"zonedubai\"]}, \"R\": 30, \"lambda.step\": 0.01, \"plot.opts\": {\"xlab\": \"PC1\", \"ylab\": \"PC2\"}, \"topic.order\": [3, 4, 1, 2]};\n",
              "\n",
              "function LDAvis_load_lib(url, callback){\n",
              "  var s = document.createElement('script');\n",
              "  s.src = url;\n",
              "  s.async = true;\n",
              "  s.onreadystatechange = s.onload = callback;\n",
              "  s.onerror = function(){console.warn(\"failed to load library \" + url);};\n",
              "  document.getElementsByTagName(\"head\")[0].appendChild(s);\n",
              "}\n",
              "\n",
              "if(typeof(LDAvis) !== \"undefined\"){\n",
              "   // already loaded: just create the visualization\n",
              "   !function(LDAvis){\n",
              "       new LDAvis(\"#\" + \"ldavis_el1761394355993520325828092664\", ldavis_el1761394355993520325828092664_data);\n",
              "   }(LDAvis);\n",
              "}else if(typeof define === \"function\" && define.amd){\n",
              "   // require.js is available: use it to load d3/LDAvis\n",
              "   require.config({paths: {d3: \"https://d3js.org/d3.v5\"}});\n",
              "   require([\"d3\"], function(d3){\n",
              "      window.d3 = d3;\n",
              "      LDAvis_load_lib(\"https://cdn.jsdelivr.net/gh/bmabey/pyLDAvis@3.4.0/pyLDAvis/js/ldavis.v3.0.0.js\", function(){\n",
              "        new LDAvis(\"#\" + \"ldavis_el1761394355993520325828092664\", ldavis_el1761394355993520325828092664_data);\n",
              "      });\n",
              "    });\n",
              "}else{\n",
              "    // require.js not available: dynamically load d3 & LDAvis\n",
              "    LDAvis_load_lib(\"https://d3js.org/d3.v5.js\", function(){\n",
              "         LDAvis_load_lib(\"https://cdn.jsdelivr.net/gh/bmabey/pyLDAvis@3.4.0/pyLDAvis/js/ldavis.v3.0.0.js\", function(){\n",
              "                 new LDAvis(\"#\" + \"ldavis_el1761394355993520325828092664\", ldavis_el1761394355993520325828092664_data);\n",
              "            })\n",
              "         });\n",
              "}\n",
              "</script>"
            ],
            "text/plain": [
              "PreparedData(topic_coordinates=              x         y  topics  cluster       Freq\n",
              "topic                                                \n",
              "2     -0.167571  0.073001       1        1  38.370854\n",
              "3     -0.003100 -0.098006       2        1  30.178067\n",
              "0      0.017742 -0.059955       3        1  17.015470\n",
              "1      0.152929  0.084960       4        1  14.435609, topic_info=          Term        Freq       Total Category  logprob  loglift\n",
              "5225      font  372.000000  372.000000  Default  30.0000  30.0000\n",
              "10780   height  262.000000  262.000000  Default  29.0000  29.0000\n",
              "66        http  780.000000  780.000000  Default  28.0000  28.0000\n",
              "167    company  806.000000  806.000000  Default  27.0000  27.0000\n",
              "2266     width  221.000000  221.000000  Default  26.0000  26.0000\n",
              "...        ...         ...         ...      ...      ...      ...\n",
              "1277       www  125.842193  481.052600   Topic4  -5.2499   0.5945\n",
              "50         com  158.527845  821.791686   Topic4  -5.0190   0.2899\n",
              "2528      nbsp   76.694039  349.532876   Topic4  -5.7451   0.4187\n",
              "224        get   62.589549  406.125175   Topic4  -5.9483   0.0654\n",
              "968       line   52.025689  170.061214   Topic4  -6.1332   0.7511\n",
              "\n",
              "[303 rows x 6 columns], token_table=      Topic      Freq        Term\n",
              "term                             \n",
              "520       1  0.989732  acceptance\n",
              "816       1  0.572620     account\n",
              "816       2  0.129650     account\n",
              "816       3  0.286310     account\n",
              "816       4  0.010804     account\n",
              "...     ...       ...         ...\n",
              "813       1  0.490889        year\n",
              "813       2  0.293405        year\n",
              "813       3  0.203126        year\n",
              "813       4  0.005642        year\n",
              "1280      2  0.967301   zonedubai\n",
              "\n",
              "[632 rows x 3 columns], R=30, lambda_step=0.01, plot_opts={'xlab': 'PC1', 'ylab': 'PC2'}, topic_order=[3, 4, 1, 2])"
            ]
          },
          "execution_count": 61,
          "metadata": {},
          "output_type": "execute_result"
        }
      ],
      "source": [
        "spam_topics_vis"
      ]
    },
    {
      "cell_type": "markdown",
      "metadata": {
        "id": "NMvc0Su3WIRW"
      },
      "source": [
        "# Report on Topic modeling for spam emails:\n",
        "\n",
        "- Using Latent Dirichlet Allocation (LDA) model, we can find the topics in the spam emails are principally related to:\n",
        "- **Topic1**: Stock investing\n",
        "- **Topic2**: Selling stuff\n",
        "- **Topic3**: Selling,maybe luxury watches (rolex word appear in the text)\n",
        "- **Topic4**: Seeming to be related to font style or something like that\n",
        "\n",
        "**Notice how topic 2 and 3 are related to selling something and in fact the semantic distance between them is very low.**"
      ]
    },
    {
      "cell_type": "markdown",
      "metadata": {
        "id": "hoMeDY0cWLSH"
      },
      "source": [
        "# Explore NON SPAM EMAIL"
      ]
    },
    {
      "cell_type": "code",
      "execution_count": null,
      "metadata": {
        "id": "Mov0zs49J1Wz"
      },
      "outputs": [],
      "source": [
        "ham = df[df['label']=='ham']"
      ]
    },
    {
      "cell_type": "code",
      "execution_count": null,
      "metadata": {
        "colab": {
          "base_uri": "https://localhost:8080/",
          "height": 424
        },
        "id": "-mDj72XiWTcw",
        "outputId": "e1d06a8f-753d-4bae-fd89-6ddacce300c2"
      },
      "outputs": [
        {
          "data": {
            "text/html": [
              "\n",
              "  <div id=\"df-806d7995-2458-4a02-b034-05510b466f2a\" class=\"colab-df-container\">\n",
              "    <div>\n",
              "<style scoped>\n",
              "    .dataframe tbody tr th:only-of-type {\n",
              "        vertical-align: middle;\n",
              "    }\n",
              "\n",
              "    .dataframe tbody tr th {\n",
              "        vertical-align: top;\n",
              "    }\n",
              "\n",
              "    .dataframe thead th {\n",
              "        text-align: right;\n",
              "    }\n",
              "</style>\n",
              "<table border=\"1\" class=\"dataframe\">\n",
              "  <thead>\n",
              "    <tr style=\"text-align: right;\">\n",
              "      <th></th>\n",
              "      <th>text</th>\n",
              "      <th>label</th>\n",
              "    </tr>\n",
              "  </thead>\n",
              "  <tbody>\n",
              "    <tr>\n",
              "      <th>0</th>\n",
              "      <td>Subject: enron methanol ; meter # : 988291\\nth...</td>\n",
              "      <td>ham</td>\n",
              "    </tr>\n",
              "    <tr>\n",
              "      <th>1</th>\n",
              "      <td>Subject: hpl nom for january 9 , 2001\\n( see a...</td>\n",
              "      <td>ham</td>\n",
              "    </tr>\n",
              "    <tr>\n",
              "      <th>2</th>\n",
              "      <td>Subject: neon retreat\\nho ho ho , we ' re arou...</td>\n",
              "      <td>ham</td>\n",
              "    </tr>\n",
              "    <tr>\n",
              "      <th>4</th>\n",
              "      <td>Subject: re : indian springs\\nthis deal is to ...</td>\n",
              "      <td>ham</td>\n",
              "    </tr>\n",
              "    <tr>\n",
              "      <th>5</th>\n",
              "      <td>Subject: ehronline web address change\\nthis me...</td>\n",
              "      <td>ham</td>\n",
              "    </tr>\n",
              "    <tr>\n",
              "      <th>...</th>\n",
              "      <td>...</td>\n",
              "      <td>...</td>\n",
              "    </tr>\n",
              "    <tr>\n",
              "      <th>5163</th>\n",
              "      <td>Subject: re : meter # : 1266 ; august 2000 / a...</td>\n",
              "      <td>ham</td>\n",
              "    </tr>\n",
              "    <tr>\n",
              "      <th>5165</th>\n",
              "      <td>Subject: fw : crosstex energy , driscoll ranch...</td>\n",
              "      <td>ham</td>\n",
              "    </tr>\n",
              "    <tr>\n",
              "      <th>5166</th>\n",
              "      <td>Subject: put the 10 on the ft\\nthe transport v...</td>\n",
              "      <td>ham</td>\n",
              "    </tr>\n",
              "    <tr>\n",
              "      <th>5167</th>\n",
              "      <td>Subject: 3 / 4 / 2000 and following noms\\nhpl ...</td>\n",
              "      <td>ham</td>\n",
              "    </tr>\n",
              "    <tr>\n",
              "      <th>5169</th>\n",
              "      <td>Subject: industrial worksheets for august 2000...</td>\n",
              "      <td>ham</td>\n",
              "    </tr>\n",
              "  </tbody>\n",
              "</table>\n",
              "<p>3531 rows × 2 columns</p>\n",
              "</div>\n",
              "    <div class=\"colab-df-buttons\">\n",
              "\n",
              "  <div class=\"colab-df-container\">\n",
              "    <button class=\"colab-df-convert\" onclick=\"convertToInteractive('df-806d7995-2458-4a02-b034-05510b466f2a')\"\n",
              "            title=\"Convert this dataframe to an interactive table.\"\n",
              "            style=\"display:none;\">\n",
              "\n",
              "  <svg xmlns=\"http://www.w3.org/2000/svg\" height=\"24px\" viewBox=\"0 -960 960 960\">\n",
              "    <path d=\"M120-120v-720h720v720H120Zm60-500h600v-160H180v160Zm220 220h160v-160H400v160Zm0 220h160v-160H400v160ZM180-400h160v-160H180v160Zm440 0h160v-160H620v160ZM180-180h160v-160H180v160Zm440 0h160v-160H620v160Z\"/>\n",
              "  </svg>\n",
              "    </button>\n",
              "\n",
              "  <style>\n",
              "    .colab-df-container {\n",
              "      display:flex;\n",
              "      gap: 12px;\n",
              "    }\n",
              "\n",
              "    .colab-df-convert {\n",
              "      background-color: #E8F0FE;\n",
              "      border: none;\n",
              "      border-radius: 50%;\n",
              "      cursor: pointer;\n",
              "      display: none;\n",
              "      fill: #1967D2;\n",
              "      height: 32px;\n",
              "      padding: 0 0 0 0;\n",
              "      width: 32px;\n",
              "    }\n",
              "\n",
              "    .colab-df-convert:hover {\n",
              "      background-color: #E2EBFA;\n",
              "      box-shadow: 0px 1px 2px rgba(60, 64, 67, 0.3), 0px 1px 3px 1px rgba(60, 64, 67, 0.15);\n",
              "      fill: #174EA6;\n",
              "    }\n",
              "\n",
              "    .colab-df-buttons div {\n",
              "      margin-bottom: 4px;\n",
              "    }\n",
              "\n",
              "    [theme=dark] .colab-df-convert {\n",
              "      background-color: #3B4455;\n",
              "      fill: #D2E3FC;\n",
              "    }\n",
              "\n",
              "    [theme=dark] .colab-df-convert:hover {\n",
              "      background-color: #434B5C;\n",
              "      box-shadow: 0px 1px 3px 1px rgba(0, 0, 0, 0.15);\n",
              "      filter: drop-shadow(0px 1px 2px rgba(0, 0, 0, 0.3));\n",
              "      fill: #FFFFFF;\n",
              "    }\n",
              "  </style>\n",
              "\n",
              "    <script>\n",
              "      const buttonEl =\n",
              "        document.querySelector('#df-806d7995-2458-4a02-b034-05510b466f2a button.colab-df-convert');\n",
              "      buttonEl.style.display =\n",
              "        google.colab.kernel.accessAllowed ? 'block' : 'none';\n",
              "\n",
              "      async function convertToInteractive(key) {\n",
              "        const element = document.querySelector('#df-806d7995-2458-4a02-b034-05510b466f2a');\n",
              "        const dataTable =\n",
              "          await google.colab.kernel.invokeFunction('convertToInteractive',\n",
              "                                                    [key], {});\n",
              "        if (!dataTable) return;\n",
              "\n",
              "        const docLinkHtml = 'Like what you see? Visit the ' +\n",
              "          '<a target=\"_blank\" href=https://colab.research.google.com/notebooks/data_table.ipynb>data table notebook</a>'\n",
              "          + ' to learn more about interactive tables.';\n",
              "        element.innerHTML = '';\n",
              "        dataTable['output_type'] = 'display_data';\n",
              "        await google.colab.output.renderOutput(dataTable, element);\n",
              "        const docLink = document.createElement('div');\n",
              "        docLink.innerHTML = docLinkHtml;\n",
              "        element.appendChild(docLink);\n",
              "      }\n",
              "    </script>\n",
              "  </div>\n",
              "\n",
              "\n",
              "<div id=\"df-4f39315c-3eff-41d6-ba58-2bcdb634b975\">\n",
              "  <button class=\"colab-df-quickchart\" onclick=\"quickchart('df-4f39315c-3eff-41d6-ba58-2bcdb634b975')\"\n",
              "            title=\"Suggest charts\"\n",
              "            style=\"display:none;\">\n",
              "\n",
              "<svg xmlns=\"http://www.w3.org/2000/svg\" height=\"24px\"viewBox=\"0 0 24 24\"\n",
              "     width=\"24px\">\n",
              "    <g>\n",
              "        <path d=\"M19 3H5c-1.1 0-2 .9-2 2v14c0 1.1.9 2 2 2h14c1.1 0 2-.9 2-2V5c0-1.1-.9-2-2-2zM9 17H7v-7h2v7zm4 0h-2V7h2v10zm4 0h-2v-4h2v4z\"/>\n",
              "    </g>\n",
              "</svg>\n",
              "  </button>\n",
              "\n",
              "<style>\n",
              "  .colab-df-quickchart {\n",
              "      --bg-color: #E8F0FE;\n",
              "      --fill-color: #1967D2;\n",
              "      --hover-bg-color: #E2EBFA;\n",
              "      --hover-fill-color: #174EA6;\n",
              "      --disabled-fill-color: #AAA;\n",
              "      --disabled-bg-color: #DDD;\n",
              "  }\n",
              "\n",
              "  [theme=dark] .colab-df-quickchart {\n",
              "      --bg-color: #3B4455;\n",
              "      --fill-color: #D2E3FC;\n",
              "      --hover-bg-color: #434B5C;\n",
              "      --hover-fill-color: #FFFFFF;\n",
              "      --disabled-bg-color: #3B4455;\n",
              "      --disabled-fill-color: #666;\n",
              "  }\n",
              "\n",
              "  .colab-df-quickchart {\n",
              "    background-color: var(--bg-color);\n",
              "    border: none;\n",
              "    border-radius: 50%;\n",
              "    cursor: pointer;\n",
              "    display: none;\n",
              "    fill: var(--fill-color);\n",
              "    height: 32px;\n",
              "    padding: 0;\n",
              "    width: 32px;\n",
              "  }\n",
              "\n",
              "  .colab-df-quickchart:hover {\n",
              "    background-color: var(--hover-bg-color);\n",
              "    box-shadow: 0 1px 2px rgba(60, 64, 67, 0.3), 0 1px 3px 1px rgba(60, 64, 67, 0.15);\n",
              "    fill: var(--button-hover-fill-color);\n",
              "  }\n",
              "\n",
              "  .colab-df-quickchart-complete:disabled,\n",
              "  .colab-df-quickchart-complete:disabled:hover {\n",
              "    background-color: var(--disabled-bg-color);\n",
              "    fill: var(--disabled-fill-color);\n",
              "    box-shadow: none;\n",
              "  }\n",
              "\n",
              "  .colab-df-spinner {\n",
              "    border: 2px solid var(--fill-color);\n",
              "    border-color: transparent;\n",
              "    border-bottom-color: var(--fill-color);\n",
              "    animation:\n",
              "      spin 1s steps(1) infinite;\n",
              "  }\n",
              "\n",
              "  @keyframes spin {\n",
              "    0% {\n",
              "      border-color: transparent;\n",
              "      border-bottom-color: var(--fill-color);\n",
              "      border-left-color: var(--fill-color);\n",
              "    }\n",
              "    20% {\n",
              "      border-color: transparent;\n",
              "      border-left-color: var(--fill-color);\n",
              "      border-top-color: var(--fill-color);\n",
              "    }\n",
              "    30% {\n",
              "      border-color: transparent;\n",
              "      border-left-color: var(--fill-color);\n",
              "      border-top-color: var(--fill-color);\n",
              "      border-right-color: var(--fill-color);\n",
              "    }\n",
              "    40% {\n",
              "      border-color: transparent;\n",
              "      border-right-color: var(--fill-color);\n",
              "      border-top-color: var(--fill-color);\n",
              "    }\n",
              "    60% {\n",
              "      border-color: transparent;\n",
              "      border-right-color: var(--fill-color);\n",
              "    }\n",
              "    80% {\n",
              "      border-color: transparent;\n",
              "      border-right-color: var(--fill-color);\n",
              "      border-bottom-color: var(--fill-color);\n",
              "    }\n",
              "    90% {\n",
              "      border-color: transparent;\n",
              "      border-bottom-color: var(--fill-color);\n",
              "    }\n",
              "  }\n",
              "</style>\n",
              "\n",
              "  <script>\n",
              "    async function quickchart(key) {\n",
              "      const quickchartButtonEl =\n",
              "        document.querySelector('#' + key + ' button');\n",
              "      quickchartButtonEl.disabled = true;  // To prevent multiple clicks.\n",
              "      quickchartButtonEl.classList.add('colab-df-spinner');\n",
              "      try {\n",
              "        const charts = await google.colab.kernel.invokeFunction(\n",
              "            'suggestCharts', [key], {});\n",
              "      } catch (error) {\n",
              "        console.error('Error during call to suggestCharts:', error);\n",
              "      }\n",
              "      quickchartButtonEl.classList.remove('colab-df-spinner');\n",
              "      quickchartButtonEl.classList.add('colab-df-quickchart-complete');\n",
              "    }\n",
              "    (() => {\n",
              "      let quickchartButtonEl =\n",
              "        document.querySelector('#df-4f39315c-3eff-41d6-ba58-2bcdb634b975 button');\n",
              "      quickchartButtonEl.style.display =\n",
              "        google.colab.kernel.accessAllowed ? 'block' : 'none';\n",
              "    })();\n",
              "  </script>\n",
              "</div>\n",
              "    </div>\n",
              "  </div>\n"
            ],
            "text/plain": [
              "                                                   text label\n",
              "0     Subject: enron methanol ; meter # : 988291\\nth...   ham\n",
              "1     Subject: hpl nom for january 9 , 2001\\n( see a...   ham\n",
              "2     Subject: neon retreat\\nho ho ho , we ' re arou...   ham\n",
              "4     Subject: re : indian springs\\nthis deal is to ...   ham\n",
              "5     Subject: ehronline web address change\\nthis me...   ham\n",
              "...                                                 ...   ...\n",
              "5163  Subject: re : meter # : 1266 ; august 2000 / a...   ham\n",
              "5165  Subject: fw : crosstex energy , driscoll ranch...   ham\n",
              "5166  Subject: put the 10 on the ft\\nthe transport v...   ham\n",
              "5167  Subject: 3 / 4 / 2000 and following noms\\nhpl ...   ham\n",
              "5169  Subject: industrial worksheets for august 2000...   ham\n",
              "\n",
              "[3531 rows x 2 columns]"
            ]
          },
          "execution_count": 63,
          "metadata": {},
          "output_type": "execute_result"
        }
      ],
      "source": [
        "ham"
      ]
    },
    {
      "cell_type": "code",
      "execution_count": null,
      "metadata": {
        "colab": {
          "base_uri": "https://localhost:8080/",
          "height": 573
        },
        "id": "3UJ4s5FSWUCf",
        "outputId": "83d318c6-708f-4d4d-aa41-9c5135ce9ea5"
      },
      "outputs": [
        {
          "data": {
            "image/png": "[encoded data removed]",
            "text/plain": [
              "<Figure size 1200x600 with 2 Axes>"
            ]
          },
          "metadata": {},
          "output_type": "display_data"
        }
      ],
      "source": [
        "# Check the lenght of the text\n",
        "plot_length_distribution(ham, 'text', 'label')"
      ]
    },
    {
      "cell_type": "code",
      "execution_count": null,
      "metadata": {
        "id": "CrmJ0BWXZosX"
      },
      "outputs": [],
      "source": [
        "symbol_ham_freq = calculate_freq_symbols(ham['text'],spam_symbols)"
      ]
    },
    {
      "cell_type": "code",
      "execution_count": null,
      "metadata": {
        "colab": {
          "base_uri": "https://localhost:8080/",
          "height": 527
        },
        "id": "Xp_5RkeYZ7hK",
        "outputId": "c69bd53b-f96a-4a55-9cbb-8de890cbf587"
      },
      "outputs": [
        {
          "data": {
            "image/png": "[encoded data removed]",
            "text/plain": [
              "<Figure size 1200x600 with 1 Axes>"
            ]
          },
          "metadata": {},
          "output_type": "display_data"
        }
      ],
      "source": [
        "# plot the frequency of the symbols\n",
        "plot_symbol_freq(symbol_ham_freq)"
      ]
    },
    {
      "cell_type": "code",
      "execution_count": null,
      "metadata": {
        "colab": {
          "base_uri": "https://localhost:8080/"
        },
        "id": "jSZ_PSdavAD2",
        "outputId": "20ee9ca8-5758-4218-e6cd-4ccfd5e835d3"
      },
      "outputs": [
        {
          "name": "stdout",
          "output_type": "stream",
          "text": [
            "Max length: 31860\n",
            "Min length: 17\n",
            "Mean length: 977.0897762673463\n",
            "Median length: 528.0\n",
            "Total number of symbols: 153307\n"
          ]
        }
      ],
      "source": [
        "calculate_text_stats(ham['text'],symbols=symbols, symbol_frequency = True,to_dict=False)"
      ]
    },
    {
      "cell_type": "markdown",
      "metadata": {
        "id": "V-isnbfEw0f0"
      },
      "source": [
        "### Report on HAM emails:\n",
        "\n",
        "- The statistics of ham emails are quite similar to the statistics of spam emails.\n",
        "The only difference is that the number of symbols are more frequent in ham emails than spam (but that's probably is due to the fact that the number of ham emails is more than double the spam emails)."
      ]
    },
    {
      "cell_type": "markdown",
      "metadata": {
        "id": "0hOvEYiRcASx"
      },
      "source": [
        "#### Make topic modeling on HAM email"
      ]
    },
    {
      "cell_type": "code",
      "execution_count": null,
      "metadata": {
        "colab": {
          "base_uri": "https://localhost:8080/"
        },
        "id": "cMT-coBScLwp",
        "outputId": "5037391c-9950-43ed-e42a-429bc87ff409"
      },
      "outputs": [
        {
          "name": "stderr",
          "output_type": "stream",
          "text": [
            "100%|██████████| 3531/3531 [00:11<00:00, 317.58it/s]\n"
          ]
        }
      ],
      "source": [
        "ham_emails = []\n",
        "\n",
        "for line in tqdm(ham['text'], total=len(ham['text'])):\n",
        "    ham_emails.append(preprocess(line))"
      ]
    },
    {
      "cell_type": "code",
      "execution_count": null,
      "metadata": {
        "id": "MlFQglC8cLwq"
      },
      "outputs": [],
      "source": [
        "dictionary = Dictionary(ham_emails)\n",
        "\n",
        "corpus = [dictionary.doc2bow(email) for email in ham_emails]\n",
        "temp = dictionary[0]\n",
        "\n",
        "id2word = dictionary.id2token\n",
        "\n",
        "gensim_dict = Dictionary.from_corpus(corpus, id2word=id2word)"
      ]
    },
    {
      "cell_type": "code",
      "execution_count": null,
      "metadata": {
        "colab": {
          "base_uri": "https://localhost:8080/"
        },
        "id": "Tu2cdSzqcJkT",
        "outputId": "cf3d698b-4940-4868-d759-6541d3f95146"
      },
      "outputs": [
        {
          "name": "stdout",
          "output_type": "stream",
          "text": [
            "Processing: 2 topics\n",
            "END PROCESSING: 2 topics\n",
            "RESULTS:\n",
            "Coherence Score: 0.53 for 2 topics\n",
            "\n",
            "Processing: 4 topics\n",
            "END PROCESSING: 4 topics\n",
            "RESULTS:\n",
            "Coherence Score: 0.55 for 4 topics\n",
            "\n",
            "Processing: 6 topics\n",
            "END PROCESSING: 6 topics\n",
            "RESULTS:\n",
            "Coherence Score: 0.50 for 6 topics\n",
            "\n",
            "Processing: 8 topics\n",
            "END PROCESSING: 8 topics\n",
            "RESULTS:\n",
            "Coherence Score: 0.52 for 8 topics\n",
            "\n",
            "Processing: 10 topics\n",
            "END PROCESSING: 10 topics\n",
            "RESULTS:\n",
            "Coherence Score: 0.49 for 10 topics\n",
            "\n",
            "Processing: 12 topics\n",
            "END PROCESSING: 12 topics\n",
            "RESULTS:\n",
            "Coherence Score: 0.51 for 12 topics\n",
            "\n",
            "Processing: 14 topics\n",
            "END PROCESSING: 14 topics\n",
            "RESULTS:\n",
            "Coherence Score: 0.52 for 14 topics\n",
            "\n",
            "Processing: 16 topics\n",
            "END PROCESSING: 16 topics\n",
            "RESULTS:\n",
            "Coherence Score: 0.48 for 16 topics\n",
            "\n",
            "Processing: 18 topics\n",
            "END PROCESSING: 18 topics\n",
            "RESULTS:\n",
            "Coherence Score: 0.50 for 18 topics\n",
            "\n"
          ]
        }
      ],
      "source": [
        "model_list, coherence_values = compute_coherence_values(dictionary=dictionary,\n",
        "                                                        corpus=corpus,\n",
        "                                                        texts=ham_emails,\n",
        "                                                        start=2,\n",
        "                                                        limit=20,\n",
        "                                                        step=2)"
      ]
    },
    {
      "cell_type": "code",
      "execution_count": null,
      "metadata": {
        "colab": {
          "base_uri": "https://localhost:8080/"
        },
        "id": "7l_lOcBxcKe1",
        "outputId": "ff841c12-48d4-43ea-813d-2efcb4db7c07"
      },
      "outputs": [
        {
          "data": {
            "text/plain": [
              "[0.53, 0.55, 0.5, 0.52, 0.49, 0.51, 0.52, 0.48, 0.5]"
            ]
          },
          "execution_count": 125,
          "metadata": {},
          "output_type": "execute_result"
        }
      ],
      "source": [
        "coherence_values"
      ]
    },
    {
      "cell_type": "code",
      "execution_count": null,
      "metadata": {
        "id": "NxaCPoYte8BU"
      },
      "outputs": [],
      "source": [
        "num_topics_list = list(range(2, 2 + len(coherence_values) * 2, 2))"
      ]
    },
    {
      "cell_type": "code",
      "execution_count": null,
      "metadata": {
        "colab": {
          "base_uri": "https://localhost:8080/",
          "height": 601
        },
        "id": "q9PIoDsfcKuV",
        "outputId": "62ca41b8-4ee8-4bc1-dad1-e31f134b84e0"
      },
      "outputs": [
        {
          "data": {
            "image/png": "[encoded data removed]",
            "text/plain": [
              "<Figure size 1000x600 with 1 Axes>"
            ]
          },
          "metadata": {},
          "output_type": "display_data"
        }
      ],
      "source": [
        "plot_coherence_scores(num_topics_list, coherence_values)"
      ]
    },
    {
      "cell_type": "code",
      "execution_count": null,
      "metadata": {
        "id": "uCrEOOsmfL8M"
      },
      "outputs": [],
      "source": [
        "best_coherence = coherence_values.index(max(coherence_values))"
      ]
    },
    {
      "cell_type": "code",
      "execution_count": null,
      "metadata": {
        "id": "bTdIlmLSfL8a"
      },
      "outputs": [],
      "source": [
        "lda_model = model_list[best_coherence]"
      ]
    },
    {
      "cell_type": "code",
      "execution_count": null,
      "metadata": {
        "colab": {
          "base_uri": "https://localhost:8080/"
        },
        "id": "8kedzpqZfL8a",
        "outputId": "f34674ff-e74d-466e-9e34-99b782d13de8"
      },
      "outputs": [
        {
          "name": "stdout",
          "output_type": "stream",
          "text": [
            "[(0,\n",
            "  [('ect', 0.13602115),\n",
            "   ('hou', 0.07121842),\n",
            "   ('enron', 0.04692798),\n",
            "   ('subject', 0.014528322),\n",
            "   ('corp', 0.013862614),\n",
            "   ('gas', 0.012297508),\n",
            "   ('hpl', 0.011846199),\n",
            "   ('forwarded', 0.010843903),\n",
            "   ('mmbtu', 0.01070182),\n",
            "   ('meter', 0.008513346)]),\n",
            " (1,\n",
            "  [('deal', 0.03238504),\n",
            "   ('meter', 0.021617562),\n",
            "   ('gas', 0.015323388),\n",
            "   ('daren', 0.014211322),\n",
            "   ('volume', 0.013840092),\n",
            "   ('hpl', 0.012275125),\n",
            "   ('thanks', 0.011367153),\n",
            "   ('please', 0.010894077),\n",
            "   ('subject', 0.010891332),\n",
            "   ('need', 0.010042268)]),\n",
            " (2,\n",
            "  [('com', 0.030227074),\n",
            "   ('enron', 0.013724239),\n",
            "   ('mail', 0.007549935),\n",
            "   ('new', 0.005888247),\n",
            "   ('net', 0.0056486637),\n",
            "   ('order', 0.0056363214),\n",
            "   ('please', 0.005344578),\n",
            "   ('message', 0.0051381635),\n",
            "   ('service', 0.004753956),\n",
            "   ('http', 0.004722925)]),\n",
            " (3,\n",
            "  [('please', 0.012372398),\n",
            "   ('need', 0.0076104924),\n",
            "   ('would', 0.007460028),\n",
            "   ('time', 0.0066198055),\n",
            "   ('know', 0.006458549),\n",
            "   ('get', 0.0051605515),\n",
            "   ('report', 0.004868245),\n",
            "   ('let', 0.0047845473),\n",
            "   ('call', 0.0042596026),\n",
            "   ('new', 0.004215445)])]\n"
          ]
        }
      ],
      "source": [
        "model_topic = lda_model.show_topics(formatted=False)\n",
        "pprint(model_topic)"
      ]
    },
    {
      "cell_type": "code",
      "execution_count": null,
      "metadata": {
        "id": "H_-JaeZYfL8a"
      },
      "outputs": [],
      "source": [
        "# show topics\n",
        "pyLDAvis.enable_notebook()\n",
        "vis = pyLDAvis.gensim.prepare(lda_model, corpus, dictionary)"
      ]
    },
    {
      "cell_type": "code",
      "execution_count": null,
      "metadata": {
        "colab": {
          "base_uri": "https://localhost:8080/",
          "height": 861
        },
        "id": "p0HKjN_sfL8a",
        "outputId": "e62c4705-337c-4786-8831-8b7eab2aae8e"
      },
      "outputs": [
        {
          "data": {
            "text/html": [
              "\n",
              "<link rel=\"stylesheet\" type=\"text/css\" href=\"https://cdn.jsdelivr.net/gh/bmabey/pyLDAvis@3.4.0/pyLDAvis/js/ldavis.v1.0.0.css\">\n",
              "\n",
              "\n",
              "<div id=\"ldavis_el1761394357192441765693541018\" style=\"background-color:white;\"></div>\n",
              "<script type=\"text/javascript\">\n",
              "\n",
              "var ldavis_el1761394357192441765693541018_data = {\"mdsDat\": {\"x\": [-0.22989042779729268, -0.08705024992674439, 0.13147692522126678, 0.18546375250277058], \"y\": [-0.10168594426241302, 0.14153643589016573, 0.06788732692151622, -0.10773781854926931], \"topics\": [1, 2, 3, 4], \"cluster\": [1, 1, 1, 1], \"Freq\": [31.573051026125775, 29.37752343696819, 21.065535029953406, 17.983890506952623]}, \"tinfo\": {\"Term\": [\"ect\", \"hou\", \"deal\", \"com\", \"enron\", \"meter\", \"hpl\", \"volume\", \"pec\", \"mmbtu\", \"corp\", \"forwarded\", \"daren\", \"gas\", \"robert\", \"nom\", \"flow\", \"need\", \"know\", \"mail\", \"sale\", \"vance\", \"let\", \"net\", \"http\", \"order\", \"would\", \"ena\", \"time\", \"aimee\", \"pec\", \"chokshi\", \"taylor\", \"eastrans\", \"tap\", \"pefs\", \"weissman\", \"cec\", \"iferc\", \"gco\", \"donald\", \"vlt\", \"reinhardt\", \"cotton\", \"lsk\", \"cotten\", \"hesse\", \"riley\", \"redeliveries\", \"graf\", \"vance\", \"gpgfin\", \"easttexas\", \"hesco\", \"reliantenergy\", \"tisdale\", \"mckay\", \"goliad\", \"svcs\", \"reveffo\", \"ect\", \"hou\", \"holmes\", \"albrecht\", \"lloyd\", \"coastal\", \"ami\", \"hank\", \"teco\", \"corp\", \"robert\", \"forwarded\", \"enron\", \"susan\", \"mmbtu\", \"clynes\", \"george\", \"gary\", \"nomination\", \"oil\", \"steve\", \"subject\", \"hpl\", \"bob\", \"gas\", \"effective\", \"melissa\", \"production\", \"daily\", \"meter\", \"please\", \"deal\", \"com\", \"volume\", \"thanks\", \"daren\", \"change\", \"farmer\", \"ticket\", \"tenaska\", \"hplno\", \"actual\", \"hplnl\", \"dow\", \"enserch\", \"oasis\", \"lsp\", \"avila\", \"ponton\", \"invoice\", \"unaccounted\", \"mmbtus\", \"dth\", \"brazos\", \"stranger\", \"pgev\", \"cornhusker\", \"hplnol\", \"gdp\", \"cowboy\", \"discrepancy\", \"midcon\", \"eileen\", \"booked\", \"lindley\", \"centana\", \"agency\", \"intercompany\", \"connor\", \"aimee\", \"txu\", \"megan\", \"equistar\", \"extend\", \"deal\", \"lannou\", \"sherlyn\", \"sale\", \"thu\", \"flow\", \"entex\", \"transport\", \"volume\", \"meter\", \"nom\", \"daren\", \"jackie\", \"ena\", \"contract\", \"duke\", \"utility\", \"thanks\", \"know\", \"let\", \"need\", \"day\", \"gas\", \"hpl\", \"farmer\", \"file\", \"texas\", \"see\", \"attached\", \"please\", \"subject\", \"ticket\", \"month\", \"enron\", \"may\", \"sitara\", \"question\", \"survey\", \"enw\", \"pena\", \"jaquet\", \"pep\", \"superty\", \"ferc\", \"pinion\", \"budget\", \"opm\", \"netco\", \"shari\", \"driver\", \"prc\", \"killing\", \"rus\", \"impacted\", \"heal\", \"tammy\", \"eel\", \"hector\", \"mcloughlin\", \"bussell\", \"severson\", \"edi\", \"training\", \"backout\", \"reviewer\", \"rewrite\", \"agenda\", \"greif\", \"class\", \"holiday\", \"fri\", \"london\", \"meeting\", \"server\", \"richard\", \"group\", \"performance\", \"impact\", \"operation\", \"report\", \"data\", \"cost\", \"team\", \"process\", \"unify\", \"sat\", \"matt\", \"position\", \"path\", \"time\", \"staff\", \"would\", \"plan\", \"project\", \"desk\", \"manager\", \"list\", \"name\", \"system\", \"please\", \"like\", \"get\", \"need\", \"call\", \"week\", \"know\", \"work\", \"let\", \"one\", \"information\", \"new\", \"question\", \"thanks\", \"change\", \"may\", \"day\", \"month\", \"hotmail\", \"stack\", \"yahoo\", \"aol\", \"expedia\", \"fare\", \"web\", \"unsubscribe\", \"stock\", \"clickathome\", \"delta\", \"california\", \"chairman\", \"fwd\", \"officer\", \"topica\", \"amazon\", \"wholesale\", \"ceo\", \"chief\", \"http\", \"card\", \"juno\", \"cdnow\", \"msn\", \"certificate\", \"download\", \"listbot\", \"family\", \"dell\", \"internet\", \"www\", \"travel\", \"enrononline\", \"god\", \"product\", \"net\", \"click\", \"com\", \"visit\", \"friend\", \"order\", \"hplo\", \"hotel\", \"president\", \"mail\", \"site\", \"address\", \"email\", \"doc\", \"service\", \"offer\", \"home\", \"message\", \"new\", \"free\", \"enron\", \"business\", \"customer\", \"market\", \"please\", \"company\", \"time\", \"price\", \"information\", \"sent\", \"subject\", \"see\", \"may\", \"one\"], \"Freq\": [12838.0, 6742.0, 3406.0, 2385.0, 5999.0, 2647.0, 2156.0, 1607.0, 721.0, 1313.0, 1555.0, 1211.0, 1742.0, 2633.0, 855.0, 792.0, 681.0, 1495.0, 1342.0, 606.0, 697.0, 404.0, 1027.0, 359.0, 253.0, 376.0, 827.0, 639.0, 668.0, 339.0, 720.8893609113048, 291.4562331083827, 292.90584777134285, 267.63829623237916, 318.6093752638041, 189.7546045938033, 198.70858184319053, 185.84690368083224, 166.6979463216366, 139.43801696970425, 136.46419807880162, 127.30257786232762, 120.54825538849165, 141.90055986279535, 110.29481144156117, 302.21265336275076, 100.97350561288512, 103.13795936700586, 136.11132667742757, 256.4687430115092, 401.0816007821388, 90.24640877820421, 85.54740074479676, 81.01427348806637, 75.72995966345971, 70.96401586514244, 67.72456920533789, 64.17819547427108, 64.21737410347488, 62.58762063543257, 12577.774927376038, 6585.514737609387, 72.26722872643427, 130.21997823539616, 255.58367953139415, 159.93588392902126, 349.65120762765633, 201.0496973596038, 386.8794634177701, 1281.8655839970388, 732.4204835229422, 1002.7276415403811, 4339.395561075571, 288.3655403674277, 989.5893716212533, 235.82137397707683, 346.42931303679444, 421.52648320705794, 518.1283771979356, 236.2896875050017, 255.25220862867573, 1343.423149544513, 1095.4091966980554, 432.58283338775556, 1137.1414608571415, 326.8537774279878, 329.670246676612, 394.75346902373303, 329.7648480761018, 787.2228115853198, 563.7116115718461, 547.7014550162272, 464.6815575815927, 401.761723269595, 404.63903538461847, 400.10191437285727, 360.193622895468, 346.24861446011766, 334.0582100880853, 290.49162226061725, 163.87903327693382, 222.40869248972103, 111.64408065186646, 101.45107075214497, 98.40089533666809, 101.70661591924312, 102.32552141350074, 83.11536195551062, 73.54160811959359, 232.34299208015008, 64.32458884640081, 59.65300423612399, 64.06629421242819, 53.27874841009059, 93.79616433897294, 49.06919442999852, 66.23409609479083, 46.3507429441473, 48.1237233865901, 44.380687326882274, 44.61271929366047, 130.73402480411002, 77.5743448365342, 52.70519159078445, 56.89272980333521, 44.5374570200911, 37.24421567991276, 34.26404649887088, 42.708715987155784, 331.09793261030455, 195.90108736105873, 269.9209424564464, 157.87257498689556, 111.57738229151266, 2786.380605737507, 195.4388363728731, 150.03636402037256, 597.3415808133477, 135.54143508124037, 573.9918460649504, 139.61240891946807, 313.79742563665957, 1190.7894758164393, 1859.956146036524, 606.4198496680391, 1222.7297670659693, 296.6607848854786, 474.6348273787865, 703.0617372627739, 233.16683051521545, 216.9657296729947, 978.0199634563478, 806.1349534057672, 647.3113233033957, 864.0279683052269, 741.1686069387914, 1318.4109739070993, 1056.1410415337186, 592.7114585641889, 412.6100598979505, 450.5737770035856, 524.6498434217403, 531.1589783768508, 937.3168758791882, 937.0807322324391, 423.2773102643594, 424.383186907991, 769.2735471506588, 400.0580274524763, 359.0203562998161, 332.46357127186906, 161.1133217254336, 54.24464758637029, 52.54075498296742, 45.915188687115624, 40.075308397424166, 82.44783190156862, 40.89527551470234, 67.63589245875416, 36.168134379267215, 36.01157104369161, 32.71001203287014, 32.77766928548486, 32.60548085935052, 56.97878346255043, 28.114294392409256, 49.96825673630899, 28.909335342468815, 28.088542260854044, 78.97395518323837, 25.989335943659807, 28.91919304726857, 26.969200778628917, 23.064782967551675, 36.8994072913926, 25.518198703769325, 100.28792179519556, 19.781337713746588, 22.230447661966092, 19.461483024401453, 19.759289852683523, 38.68810847641699, 63.020288829102505, 42.13664245421103, 43.59601370248986, 71.47506088281528, 253.99026773711233, 54.42217964264746, 119.20914872933096, 260.010298030913, 76.08988164192182, 78.2224784652101, 128.93208487855088, 300.34870120758666, 152.37624224377237, 145.2742130336337, 217.6245519150845, 186.84163677855864, 192.00862547012457, 66.06368011749973, 62.401210603080585, 126.4852337632345, 184.65600586256258, 408.4120429807976, 66.42354200550487, 460.24996695401273, 137.84149643231805, 93.84794250347733, 201.2560503596194, 144.99877188312684, 228.72587171380582, 188.84671907287432, 220.72239220900957, 763.3209604274226, 212.2228169767606, 318.3826772513553, 469.5329442214739, 262.79820777655453, 185.93109369389995, 398.4632379058635, 169.18827946568865, 295.18491582118696, 212.1694237691239, 219.430023767291, 260.0738757379348, 227.0495088608565, 258.817002215794, 219.04911774444923, 190.25949156797222, 195.92259035158804, 181.98763829447088, 113.20400171379505, 102.77191749357875, 94.2140951423967, 213.4020221017382, 84.21002191273912, 79.31658533027641, 128.022536373225, 69.4317474126698, 68.41218309672651, 58.4269584400014, 57.611490935583795, 55.4932951768384, 46.97621738230443, 44.89456602651202, 43.341943956353894, 42.66198506020154, 45.37319653361073, 42.59305348671204, 41.15691363516093, 40.058720602562026, 248.75711321338298, 39.602642161580945, 38.25800127866505, 88.8171980931443, 39.96662073602591, 37.25530809103136, 36.940351748400005, 41.647513047387875, 61.4768096044322, 33.50086428231673, 119.61929807285631, 159.71466424995668, 63.86225163879936, 85.73633937070458, 55.78856904740951, 243.2939947628064, 297.51590648194383, 149.83934872459602, 1592.0642235272694, 83.11519206890192, 67.27226138387651, 296.8658330589446, 149.0125132129511, 58.79700117795652, 72.44120352229282, 397.6561303023979, 92.6112735710681, 136.50343766148004, 228.46959828303702, 117.55343561599074, 250.39153097739896, 99.39610374435208, 109.25753730187957, 270.62778563783104, 310.13478692738835, 121.07806970147108, 722.8575614061775, 150.70698397739014, 137.3895413273101, 114.99047117318486, 281.4996719370085, 155.15126164214902, 156.4512245398104, 149.2389290893675, 143.57209398716174, 131.67535792315755, 139.52917933053982, 129.44557297156965, 127.10762639781889, 120.02452399607051], \"Total\": [12838.0, 6742.0, 3406.0, 2385.0, 5999.0, 2647.0, 2156.0, 1607.0, 721.0, 1313.0, 1555.0, 1211.0, 1742.0, 2633.0, 855.0, 792.0, 681.0, 1495.0, 1342.0, 606.0, 697.0, 404.0, 1027.0, 359.0, 253.0, 376.0, 827.0, 639.0, 668.0, 339.0, 721.6113085623535, 292.23193650596687, 293.8432493266925, 268.6293334784567, 319.78961898419317, 190.47324139879277, 199.46867317870854, 186.56529239322137, 167.42653645435365, 140.15840749367166, 137.21937169880556, 128.0273765369304, 121.27089067944078, 142.80382668646646, 111.01238541414251, 304.2986476154717, 101.69247472667287, 103.88670873016278, 137.10183251647615, 258.4475174329245, 404.28829126668165, 90.98356863018135, 86.26507342455228, 81.74212359794767, 76.45164218894091, 71.6894160831595, 68.46886456208276, 64.89526371503644, 64.93503978891239, 63.30627421055864, 12838.921611982558, 6742.025339711159, 73.1125879173061, 132.790822438583, 264.74673066465806, 165.29602686883936, 380.42103088658376, 212.53782089990645, 426.89996925022984, 1555.7192614874816, 855.9542577068994, 1211.589326388246, 5999.287682724465, 317.4673014531367, 1313.844121423253, 261.78239556039784, 409.7702436964469, 535.1074885205359, 699.5654957026198, 270.7061409409757, 299.46899868958553, 2569.3438121301397, 2156.539781017833, 632.7435555128081, 2633.1373156743234, 434.1351832373201, 446.1439190693862, 602.4468602232496, 479.36272247526347, 2647.9903838316395, 2545.849119815465, 3406.598633751383, 2385.751911327532, 1607.5079878261465, 1682.6388715522346, 1742.8396906005923, 1017.849541130248, 1025.7167120684378, 803.1182392644894, 291.2499521895702, 164.59279569623928, 223.5914158915386, 112.35881884771065, 102.228011910888, 99.17200722195285, 102.51817137772554, 103.21926858025223, 83.84148880056051, 74.25714599246972, 234.8821303559007, 65.04122722674082, 60.37122898621531, 64.86863056360215, 54.00479990685344, 95.10884822888256, 49.790663299399604, 67.25031286432002, 47.064373293699845, 48.88080000486529, 45.11760391150858, 45.36346766380051, 132.94725144557924, 78.97403486368661, 53.659446968713645, 57.925367266094305, 45.361123496911674, 37.969415708239524, 34.99253670196654, 43.625692259717766, 339.03584917367044, 200.31474312473455, 278.4615195967756, 165.22912289357615, 116.12214550654156, 3406.598633751383, 212.35804512089507, 161.1030255323152, 697.4378539455928, 145.61275195816035, 681.9291108104991, 152.01836019156303, 367.9684557559365, 1607.5079878261465, 2647.9903838316395, 792.032273571321, 1742.8396906005923, 357.6423095783348, 639.89639825642, 1055.8286883003032, 282.5411671033067, 259.4581660590919, 1682.6388715522346, 1342.584479448058, 1027.105276890304, 1495.336189454875, 1240.3376256980325, 2633.1373156743234, 2156.539781017833, 1025.7167120684378, 636.9642243275244, 732.4992059370289, 933.2183385009196, 981.512979766383, 2545.849119815465, 2569.3438121301397, 803.1182392644894, 877.8134782740719, 5999.287682724465, 913.7321348831496, 810.579683477962, 802.8719280068508, 161.89492846750926, 54.97718346220369, 53.26674535318151, 46.64181277907724, 40.81145978039248, 84.00695488344542, 41.681185801109734, 68.9935117040314, 36.90252814688262, 36.743178709644695, 33.433141937253254, 33.51040728331993, 33.42598839307103, 58.419515423887994, 28.84161671537127, 51.27713593514001, 29.674431612850928, 28.839414742146946, 81.10163270716629, 26.724146794949636, 29.75944850071297, 27.803812009149777, 23.81253523629268, 38.10530432574232, 26.36216597981866, 103.89856854299136, 20.503173150442127, 23.049470848436965, 20.1829027308075, 20.497035823627527, 40.59326994682267, 67.17562821901589, 44.39459172969215, 46.02712251403743, 77.05906040093711, 288.786673839609, 58.02563345483769, 132.88460267031365, 310.82004406796955, 83.52461145271386, 87.09866177035734, 150.49012038996787, 379.9133553281021, 182.1915630725265, 175.2324961354733, 280.5747928291348, 237.72068267823974, 255.96891161778703, 74.52382791504213, 69.78590588513765, 160.38835557981523, 255.5581449406543, 668.5135760450484, 75.36365840769382, 827.1730766122383, 191.14340723145352, 118.91132234049743, 333.3658767009447, 215.29022166128559, 399.9538432842976, 308.6923588958394, 414.25698440356393, 2545.849119815465, 394.98292492805155, 785.2006313026802, 1495.336189454875, 608.0013100091752, 349.83229230660675, 1342.584479448058, 324.16242409826185, 1027.105276890304, 547.9239352515515, 602.5514499257076, 944.8424145500348, 802.8719280068508, 1682.6388715522346, 1017.849541130248, 913.7321348831496, 1240.3376256980325, 877.8134782740719, 113.95515803529395, 103.49435355048804, 94.94090972782868, 215.1854992364233, 84.96598940479534, 80.07990320497925, 129.26114458680004, 70.18114894377912, 69.15903856801448, 59.14673468642684, 58.33223774960691, 56.21281225171432, 47.69953135331958, 45.62217514753301, 44.07337275384762, 43.384862372565905, 46.15527941337964, 43.3360380251389, 41.87670570683278, 40.77802071592322, 253.2450650359129, 40.32965971930423, 38.9827494708991, 90.51863304306923, 40.73366527644694, 37.997824542245645, 37.715547788020324, 42.52534421200138, 62.794925177748446, 34.22028218871843, 122.66402401273346, 165.3343549809601, 65.83453641180908, 89.13125302953415, 57.41275535605338, 273.4971965350305, 359.4730318341003, 170.71839973648443, 2385.751911327532, 90.84348409987135, 71.92402030913549, 376.33027236554426, 180.56366536797816, 62.37848937203746, 79.53478104054354, 606.646223948581, 107.15611043687454, 173.66658629855252, 355.8819873195134, 161.00569957560427, 491.62993518612586, 130.85141186330333, 154.92027068742865, 693.4546550593133, 944.8424145500348, 185.86753643996505, 5999.287682724465, 308.5185301714142, 280.68517159641, 187.4771947454505, 2545.849119815465, 491.9614759536952, 668.5135760450484, 711.4380997599225, 602.5514499257076, 608.8723120126951, 2569.3438121301397, 933.2183385009196, 913.7321348831496, 547.9239352515515], \"Category\": [\"Default\", \"Default\", \"Default\", \"Default\", \"Default\", \"Default\", \"Default\", \"Default\", \"Default\", \"Default\", \"Default\", \"Default\", \"Default\", \"Default\", \"Default\", \"Default\", \"Default\", \"Default\", \"Default\", \"Default\", \"Default\", \"Default\", \"Default\", \"Default\", \"Default\", \"Default\", \"Default\", \"Default\", \"Default\", \"Default\", \"Topic1\", \"Topic1\", \"Topic1\", \"Topic1\", \"Topic1\", \"Topic1\", \"Topic1\", \"Topic1\", \"Topic1\", \"Topic1\", \"Topic1\", \"Topic1\", \"Topic1\", \"Topic1\", \"Topic1\", \"Topic1\", \"Topic1\", \"Topic1\", \"Topic1\", \"Topic1\", \"Topic1\", \"Topic1\", \"Topic1\", \"Topic1\", \"Topic1\", \"Topic1\", \"Topic1\", \"Topic1\", \"Topic1\", \"Topic1\", \"Topic1\", \"Topic1\", \"Topic1\", \"Topic1\", \"Topic1\", \"Topic1\", \"Topic1\", \"Topic1\", \"Topic1\", \"Topic1\", \"Topic1\", \"Topic1\", \"Topic1\", \"Topic1\", \"Topic1\", \"Topic1\", \"Topic1\", \"Topic1\", \"Topic1\", \"Topic1\", \"Topic1\", \"Topic1\", \"Topic1\", \"Topic1\", \"Topic1\", \"Topic1\", \"Topic1\", \"Topic1\", \"Topic1\", \"Topic1\", \"Topic1\", \"Topic1\", \"Topic1\", \"Topic1\", \"Topic1\", \"Topic1\", \"Topic1\", \"Topic1\", \"Topic1\", \"Topic2\", \"Topic2\", \"Topic2\", \"Topic2\", \"Topic2\", \"Topic2\", \"Topic2\", \"Topic2\", \"Topic2\", \"Topic2\", \"Topic2\", \"Topic2\", \"Topic2\", \"Topic2\", \"Topic2\", \"Topic2\", \"Topic2\", \"Topic2\", \"Topic2\", \"Topic2\", \"Topic2\", \"Topic2\", \"Topic2\", \"Topic2\", \"Topic2\", \"Topic2\", \"Topic2\", \"Topic2\", \"Topic2\", \"Topic2\", \"Topic2\", \"Topic2\", \"Topic2\", \"Topic2\", \"Topic2\", \"Topic2\", \"Topic2\", \"Topic2\", \"Topic2\", \"Topic2\", \"Topic2\", \"Topic2\", \"Topic2\", \"Topic2\", \"Topic2\", \"Topic2\", \"Topic2\", \"Topic2\", \"Topic2\", \"Topic2\", \"Topic2\", \"Topic2\", \"Topic2\", \"Topic2\", \"Topic2\", \"Topic2\", \"Topic2\", \"Topic2\", \"Topic2\", \"Topic2\", \"Topic2\", \"Topic2\", \"Topic2\", \"Topic2\", \"Topic2\", \"Topic2\", \"Topic2\", \"Topic2\", \"Topic2\", \"Topic2\", \"Topic2\", \"Topic2\", \"Topic3\", \"Topic3\", \"Topic3\", \"Topic3\", \"Topic3\", \"Topic3\", \"Topic3\", \"Topic3\", \"Topic3\", \"Topic3\", \"Topic3\", \"Topic3\", \"Topic3\", \"Topic3\", \"Topic3\", \"Topic3\", \"Topic3\", \"Topic3\", \"Topic3\", \"Topic3\", \"Topic3\", \"Topic3\", \"Topic3\", \"Topic3\", \"Topic3\", \"Topic3\", \"Topic3\", \"Topic3\", \"Topic3\", \"Topic3\", \"Topic3\", \"Topic3\", \"Topic3\", \"Topic3\", \"Topic3\", \"Topic3\", \"Topic3\", \"Topic3\", \"Topic3\", \"Topic3\", \"Topic3\", \"Topic3\", \"Topic3\", \"Topic3\", \"Topic3\", \"Topic3\", \"Topic3\", \"Topic3\", \"Topic3\", \"Topic3\", \"Topic3\", \"Topic3\", \"Topic3\", \"Topic3\", \"Topic3\", \"Topic3\", \"Topic3\", \"Topic3\", \"Topic3\", \"Topic3\", \"Topic3\", \"Topic3\", \"Topic3\", \"Topic3\", \"Topic3\", \"Topic3\", \"Topic3\", \"Topic3\", \"Topic3\", \"Topic3\", \"Topic3\", \"Topic3\", \"Topic3\", \"Topic3\", \"Topic3\", \"Topic3\", \"Topic3\", \"Topic3\", \"Topic3\", \"Topic3\", \"Topic4\", \"Topic4\", \"Topic4\", \"Topic4\", \"Topic4\", \"Topic4\", \"Topic4\", \"Topic4\", \"Topic4\", \"Topic4\", \"Topic4\", \"Topic4\", \"Topic4\", \"Topic4\", \"Topic4\", \"Topic4\", \"Topic4\", \"Topic4\", \"Topic4\", \"Topic4\", \"Topic4\", \"Topic4\", \"Topic4\", \"Topic4\", \"Topic4\", \"Topic4\", \"Topic4\", \"Topic4\", \"Topic4\", \"Topic4\", \"Topic4\", \"Topic4\", \"Topic4\", \"Topic4\", \"Topic4\", \"Topic4\", \"Topic4\", \"Topic4\", \"Topic4\", \"Topic4\", \"Topic4\", \"Topic4\", \"Topic4\", \"Topic4\", \"Topic4\", \"Topic4\", \"Topic4\", \"Topic4\", \"Topic4\", \"Topic4\", \"Topic4\", \"Topic4\", \"Topic4\", \"Topic4\", \"Topic4\", \"Topic4\", \"Topic4\", \"Topic4\", \"Topic4\", \"Topic4\", \"Topic4\", \"Topic4\", \"Topic4\", \"Topic4\", \"Topic4\", \"Topic4\", \"Topic4\", \"Topic4\", \"Topic4\", \"Topic4\"], \"logprob\": [30.0, 29.0, 28.0, 27.0, 26.0, 25.0, 24.0, 23.0, 22.0, 21.0, 20.0, 19.0, 18.0, 17.0, 16.0, 15.0, 14.0, 13.0, 12.0, 11.0, 10.0, 9.0, 8.0, 7.0, 6.0, 5.0, 4.0, 3.0, 2.0, 1.0, -4.8541, -5.7597, -5.7548, -5.845, -5.6707, -6.1889, -6.1428, -6.2097, -6.3184, -6.497, -6.5186, -6.5881, -6.6426, -6.4795, -6.7315, -5.7235, -6.8198, -6.7986, -6.5212, -5.8876, -5.4405, -6.9321, -6.9856, -7.04, -7.1075, -7.1725, -7.2192, -7.273, -7.2724, -7.2981, -1.9949, -2.642, -7.1543, -6.5654, -5.8911, -6.3599, -5.5777, -6.1311, -5.4765, -4.2786, -4.8383, -4.5242, -3.0591, -5.7704, -4.5373, -5.9716, -5.587, -5.3907, -5.1844, -5.9696, -5.8924, -4.2317, -4.4357, -5.3649, -4.3984, -5.6451, -5.6365, -5.4564, -5.6363, -4.7661, -5.1001, -5.1289, -5.2933, -5.4388, -5.4316, -5.4429, -5.548, -5.5875, -5.6233, -5.691, -6.2634, -5.958, -6.6472, -6.743, -6.7735, -6.7405, -6.7344, -6.9423, -7.0647, -5.9143, -7.1986, -7.274, -7.2026, -7.387, -6.8214, -7.4693, -7.1694, -7.5263, -7.4888, -7.5698, -7.5645, -6.4894, -7.0113, -7.3978, -7.3214, -7.5662, -7.7451, -7.8285, -7.6082, -5.5601, -6.0849, -5.7644, -6.3008, -6.6478, -3.4301, -6.0873, -6.3517, -4.9701, -6.4533, -5.0099, -6.4237, -5.6138, -4.2802, -3.8342, -4.955, -4.2537, -5.67, -5.2, -4.8071, -5.9108, -5.9828, -4.477, -4.6703, -4.8897, -4.601, -4.7543, -4.1784, -4.4002, -4.9778, -5.3401, -5.252, -5.0998, -5.0875, -4.5195, -4.5198, -5.3145, -5.3119, -4.7171, -5.3709, -5.4792, -5.556, -5.9479, -7.0365, -7.0684, -7.2032, -7.3392, -6.6178, -7.319, -6.8158, -7.4418, -7.4461, -7.5423, -7.5402, -7.5455, -6.9873, -7.6937, -7.1186, -7.6658, -7.6946, -6.6608, -7.7723, -7.6655, -7.7353, -7.8917, -7.4218, -7.7906, -6.4219, -8.0452, -7.9285, -8.0615, -8.0463, -7.3744, -6.8865, -7.289, -7.255, -6.7606, -5.4927, -7.0332, -6.2491, -5.4692, -6.6981, -6.6704, -6.1707, -5.325, -6.0036, -6.0513, -5.6472, -5.7997, -5.7724, -6.8393, -6.8964, -6.1898, -5.8115, -5.0177, -6.8339, -4.8982, -6.1039, -6.4883, -5.7254, -6.0532, -5.5974, -5.789, -5.6331, -4.3923, -5.6723, -5.2667, -4.8782, -5.4586, -5.8046, -5.0424, -5.899, -5.3424, -5.6726, -5.6389, -5.469, -5.6048, -5.4738, -5.6407, -5.7816, -5.7522, -5.826, -6.1426, -6.2393, -6.3262, -5.5086, -6.4385, -6.4984, -6.0196, -6.6315, -6.6463, -6.804, -6.8181, -6.8555, -7.0222, -7.0675, -7.1027, -7.1185, -7.0569, -7.1201, -7.1544, -7.1815, -5.3553, -7.1929, -7.2275, -6.3852, -7.1838, -7.254, -7.2625, -7.1426, -6.7531, -7.3602, -6.0875, -5.7984, -6.7151, -6.4205, -6.8502, -5.3775, -5.1763, -5.8622, -3.499, -6.4516, -6.6631, -5.1785, -5.8678, -6.7977, -6.589, -4.8862, -6.3434, -5.9555, -5.4404, -6.1049, -5.3488, -6.2727, -6.1781, -5.2711, -5.1348, -6.0754, -4.2886, -5.8565, -5.949, -6.127, -5.2317, -5.8274, -5.8191, -5.8663, -5.905, -5.9915, -5.9335, -6.0085, -6.0268, -6.0841], \"loglift\": [30.0, 29.0, 28.0, 27.0, 26.0, 25.0, 24.0, 23.0, 22.0, 21.0, 20.0, 19.0, 18.0, 17.0, 16.0, 15.0, 14.0, 13.0, 12.0, 11.0, 10.0, 9.0, 8.0, 7.0, 6.0, 5.0, 4.0, 3.0, 2.0, 1.0, 1.1519, 1.1502, 1.1497, 1.1492, 1.1492, 1.1491, 1.149, 1.149, 1.1485, 1.1477, 1.1473, 1.1472, 1.1469, 1.1465, 1.1464, 1.146, 1.1458, 1.1456, 1.1456, 1.1452, 1.1449, 1.1447, 1.1445, 1.1439, 1.1434, 1.1427, 1.1419, 1.1418, 1.1418, 1.1414, 1.1323, 1.1294, 1.1412, 1.1333, 1.1176, 1.1199, 1.0685, 1.0973, 1.0544, 0.9592, 0.997, 0.9637, 0.829, 1.0567, 0.8694, 1.0484, 0.9849, 0.9143, 0.8526, 1.0169, 0.9931, 0.5044, 0.4755, 0.7726, 0.3132, 0.869, 0.8503, 0.7301, 0.7788, -0.0602, -0.3548, -0.6749, -0.4831, -0.2337, -0.2723, -0.3187, 0.1141, 0.0669, 0.2757, 1.2223, 1.2206, 1.2196, 1.2186, 1.2173, 1.2171, 1.217, 1.2162, 1.2162, 1.2153, 1.2141, 1.2139, 1.213, 1.2125, 1.2114, 1.211, 1.2103, 1.2097, 1.2097, 1.2093, 1.2085, 1.2083, 1.2082, 1.2071, 1.207, 1.207, 1.2066, 1.2057, 1.2039, 1.2037, 1.2012, 1.2027, 1.1938, 1.1794, 1.185, 1.024, 1.1419, 1.1538, 1.07, 1.1533, 1.0526, 1.1398, 1.0657, 0.9249, 0.8717, 0.9579, 0.8705, 1.038, 0.9262, 0.8183, 1.0329, 1.0461, 0.6824, 0.7148, 0.7633, 0.6764, 0.71, 0.5332, 0.5111, 0.6765, 0.7907, 0.739, 0.649, 0.6109, 0.2257, 0.2163, 0.5845, 0.4981, -0.829, 0.399, 0.4106, 0.3433, 1.5527, 1.5441, 1.5438, 1.5418, 1.5393, 1.5388, 1.5385, 1.5377, 1.5374, 1.5374, 1.5357, 1.5354, 1.5327, 1.5326, 1.532, 1.5317, 1.5314, 1.5312, 1.5309, 1.5297, 1.5289, 1.5271, 1.5256, 1.5254, 1.525, 1.5222, 1.5217, 1.5214, 1.5211, 1.5209, 1.5095, 1.4937, 1.5053, 1.5033, 1.4823, 1.4291, 1.4934, 1.4489, 1.379, 1.4643, 1.45, 1.4029, 1.3225, 1.3788, 1.37, 1.3035, 1.3167, 1.27, 1.437, 1.4457, 1.3201, 1.2326, 1.0648, 1.4313, 0.9713, 1.2306, 1.3208, 1.0529, 1.1623, 0.9987, 1.0661, 0.928, 0.353, 0.9363, 0.6548, 0.3992, 0.7187, 0.9255, 0.3428, 0.9073, 0.3106, 0.6088, 0.5474, 0.2675, 0.2945, -0.3145, 0.0214, -0.0116, -0.2879, -0.016, 1.7091, 1.7087, 1.708, 1.7074, 1.7068, 1.7061, 1.7061, 1.705, 1.7048, 1.7034, 1.7033, 1.7028, 1.7004, 1.6996, 1.699, 1.6989, 1.6986, 1.6984, 1.6984, 1.6979, 1.6978, 1.6975, 1.6969, 1.6967, 1.6967, 1.696, 1.6949, 1.6948, 1.6945, 1.6944, 1.6906, 1.6811, 1.6853, 1.6769, 1.687, 1.5987, 1.5265, 1.5852, 1.3112, 1.6268, 1.6488, 1.4785, 1.5236, 1.6566, 1.6223, 1.2933, 1.5698, 1.4749, 1.2725, 1.4011, 1.041, 1.4407, 1.3665, 0.7748, 0.6017, 1.2871, -0.4005, 0.9992, 1.0013, 1.2269, -0.4864, 0.5617, 0.2634, 0.154, 0.2814, 0.1844, -1.1974, -0.2597, -0.2568, 0.1973]}, \"token.table\": {\"Topic\": [1, 2, 1, 2, 3, 4, 2, 3, 1, 2, 1, 3, 4, 1, 2, 3, 1, 4, 1, 2, 3, 4, 2, 3, 1, 2, 3, 4, 2, 2, 3, 1, 2, 3, 4, 3, 4, 1, 2, 3, 4, 4, 2, 4, 1, 2, 4, 4, 4, 1, 2, 3, 4, 4, 1, 3, 4, 3, 4, 4, 1, 2, 3, 1, 2, 1, 2, 3, 4, 1, 2, 3, 4, 2, 1, 2, 3, 4, 2, 3, 1, 2, 3, 4, 1, 3, 4, 1, 2, 1, 2, 1, 2, 3, 4, 1, 2, 3, 4, 1, 2, 3, 4, 1, 2, 3, 4, 1, 2, 3, 4, 1, 2, 3, 4, 4, 4, 1, 2, 3, 4, 2, 1, 3, 4, 1, 2, 4, 3, 2, 1, 2, 3, 4, 1, 1, 1, 2, 3, 3, 3, 1, 2, 3, 4, 2, 3, 1, 2, 3, 4, 1, 2, 3, 4, 1, 2, 3, 4, 3, 4, 2, 1, 2, 3, 4, 3, 1, 2, 4, 2, 3, 4, 3, 4, 4, 1, 2, 3, 4, 3, 1, 2, 3, 4, 1, 2, 3, 1, 2, 3, 4, 1, 2, 3, 4, 3, 4, 2, 3, 4, 4, 1, 2, 3, 4, 1, 2, 3, 4, 1, 2, 1, 2, 3, 4, 1, 2, 3, 4, 3, 4, 1, 1, 1, 2, 4, 1, 3, 1, 2, 3, 4, 1, 2, 3, 4, 3, 3, 1, 1, 2, 3, 4, 1, 1, 3, 4, 3, 4, 4, 1, 2, 3, 1, 2, 3, 4, 2, 2, 2, 2, 4, 3, 4, 1, 2, 3, 4, 3, 1, 2, 3, 4, 2, 3, 4, 2, 3, 4, 1, 2, 3, 4, 3, 4, 3, 1, 2, 3, 4, 1, 2, 1, 2, 3, 4, 1, 2, 3, 4, 1, 2, 1, 2, 3, 4, 4, 1, 2, 3, 4, 1, 2, 1, 2, 3, 4, 2, 3, 4, 1, 2, 3, 4, 1, 3, 4, 1, 2, 3, 4, 1, 3, 1, 2, 3, 4, 1, 2, 3, 4, 1, 2, 1, 2, 3, 4, 1, 2, 3, 1, 2, 4, 1, 2, 2, 1, 2, 3, 4, 4, 1, 2, 3, 4, 1, 2, 3, 4, 1, 2, 3, 4, 3, 1, 2, 3, 4, 1, 2, 1, 2, 3, 4, 2, 2, 3, 4, 4, 1, 2, 3, 4, 1, 2, 3, 4, 1, 2, 3, 4, 3, 1, 2, 3, 4, 1, 2, 3, 1, 1, 3, 3, 3, 4, 2, 1, 3, 1, 3, 4, 1, 2, 3, 4, 2, 1, 2, 3, 4, 3, 4, 1, 3, 4, 1, 2, 3, 4, 1, 2, 3, 4, 1, 3, 4, 1, 2, 3, 4, 1, 2, 3, 4, 1, 2, 3, 4, 1, 1, 1, 1, 2, 3, 4, 1, 3, 3, 1, 3, 4, 1, 1, 2, 3, 4, 1, 3, 1, 2, 3, 4, 2, 3, 4, 1, 2, 3, 4, 1, 2, 3, 4, 3, 4, 1, 2, 3, 4, 1, 3, 3, 1, 2, 3, 1, 2, 3, 3, 4, 4, 1, 3, 4, 1, 3, 4, 4, 1, 2, 1, 2, 3, 4, 1, 3, 3, 1, 2, 3, 4, 1, 1, 2, 3, 4, 3, 4, 1, 2, 1, 1, 3, 4, 1, 2, 2, 1, 2, 3, 4, 1, 2, 3, 4, 1, 2, 3, 4, 1, 2, 3, 4, 1, 2, 3, 4, 1, 4, 1, 2, 3, 1, 2, 3, 3, 4, 1, 2, 4, 2, 1, 2, 3, 4, 1, 2, 4, 1, 2, 2, 3, 4, 1, 1, 2, 3, 4, 3, 4, 1, 2, 3, 4, 1, 4, 1, 2, 3, 4, 1, 2, 3, 4, 3, 4, 4], \"Freq\": [0.00447244361333213, 0.992882482159733, 0.017274480163056008, 0.034548960326112016, 0.1612284815218561, 0.7888679274462245, 0.974468511296339, 0.9757508437851985, 0.02064678415884647, 0.976297936654026, 0.978983318369959, 0.015061281821076291, 0.9749697233325655, 0.9200332567952761, 0.055201995407716566, 0.026286664479865034, 0.004647153286575805, 0.9898436500406464, 0.32195193187889726, 0.5410015057838432, 0.11512838070352972, 0.022414375004227025, 0.989963336617719, 0.975458766955237, 0.6843214699343313, 0.12643352793243995, 0.16436358631217193, 0.02528670558648799, 0.9877105149984468, 0.9813942481300457, 0.9755429182713364, 0.02268907477327462, 0.0583433351312776, 0.4310924206922178, 0.4894357558234954, 0.9658778358444466, 0.9784246294904534, 0.17598646292124812, 0.3190782598759078, 0.43256485746063794, 0.07401299842482398, 0.9918258740193031, 0.011047449197826428, 0.9832229786065522, 0.9969700023730571, 0.992038920796654, 0.9790645970824364, 0.9737399560562665, 0.9853346283816079, 0.35368685198820854, 0.32421294765585784, 0.21515950162616018, 0.10708851907420759, 0.9809205865742421, 0.9957843878369478, 0.9378401314625314, 0.05954540517222422, 0.11715198848437762, 0.8786399136328322, 0.9806120372915532, 0.9015121108308087, 0.08021929799765672, 0.019099832856584932, 0.9679603498694999, 0.03024876093342187, 0.19490710571882328, 0.12951891541315352, 0.00838310132123971, 0.667294865170681, 0.22359474344359742, 0.39230714076922096, 0.06911110251893011, 0.3150653203068873, 0.9856577116073524, 0.21783836956567185, 0.6658277121942058, 0.10418356805314741, 0.012312603497190149, 0.9814080736420874, 0.014869819297607384, 0.8240561338645583, 0.10477468784705384, 0.044352475223599475, 0.026997158831756202, 0.03994692853423864, 0.8274720910663718, 0.12554748967903573, 0.9924460800812485, 0.006572490596564559, 0.9943711124196181, 0.9752290943087183, 0.0320643942421756, 0.2565151539374048, 0.2208880492238764, 0.48809133457533976, 0.6884139807450901, 0.2565906655504427, 0.01251661783172891, 0.04380816241105119, 0.22951049494526818, 0.7017283382951575, 0.05508251878686436, 0.01377062969671609, 0.09330838219568197, 0.027443641822259404, 0.8342867113966859, 0.038421098551163164, 0.17495236418219398, 0.5974179809170772, 0.15802149022907844, 0.0693359599984732, 0.16086426929507, 0.8178245515621624, 0.01996125969354883, 0.0014677396833491787, 0.9935628178779002, 0.9943043887492701, 0.008999121414850852, 0.3629645637323177, 0.6029411347950071, 0.02399765710626894, 0.9919876569733544, 0.2546493702277131, 0.012421920498912834, 0.7328933094358572, 0.9911137058586592, 0.9879875203681114, 0.9810277768722319, 0.9872557727220616, 0.9866093895299596, 0.16634744055833534, 0.8246585882998326, 0.003539307245922028, 0.007078614491844056, 0.9976572421548029, 0.996927221944764, 0.9796772953470609, 0.01993936934400124, 0.0003894408075000242, 0.9862619035136979, 0.9729029031120842, 0.7532216061402361, 0.12208178937441137, 0.06449603966950035, 0.05988917969310746, 0.987666391043995, 0.012662389628769168, 0.042148803632853976, 0.1292563311407522, 0.1854547359845575, 0.6406618152193805, 0.009376517849371725, 0.7423076630752616, 0.24378946408366486, 0.00625101189958115, 0.7232525308787199, 0.12818188436177358, 0.02800332454197394, 0.12051430740385215, 0.03365822759168361, 0.964869190961597, 0.9881820762251001, 0.05262522230814063, 0.9209413903924609, 0.019734458365552734, 0.006578152788517579, 0.9822256543412142, 0.04236541281229635, 0.956247889191832, 0.9886308696978368, 0.9645016418826903, 0.017223243605048042, 0.017223243605048042, 0.015924853754811907, 0.9714160790435262, 0.9865146789424178, 0.3373251073410552, 0.5781323371481091, 0.05752075529804121, 0.027297985565172097, 0.9836572355604241, 0.2951500144273898, 0.6483880636091064, 0.015699468852520736, 0.04081861901655391, 0.15544137699887148, 0.8417297207297381, 0.002932856169790028, 0.8278382601718258, 0.1510412777781098, 0.01320579477841397, 0.008253621736508732, 0.048421581156034676, 0.02152070273601541, 0.2797691355682003, 0.6510012577644662, 0.9559580872469445, 0.04345264032940657, 0.04171068284428134, 0.02780712189618756, 0.9315385835222832, 0.986362440073911, 0.7886266012960215, 0.15137145664686666, 0.05419471904640905, 0.007475133661573663, 0.43180429415198357, 0.5005435881198895, 0.04823143830897266, 0.018988755239753016, 0.991735012444944, 0.9819806548833566, 0.8443756112664755, 0.04636744686145386, 0.0780925420824486, 0.029284703280918225, 0.049668834238323765, 0.3973506739065901, 0.4049920330201784, 0.14773294286270658, 0.017417732240829716, 0.9753930054864641, 0.9862044829809513, 0.9891896015402601, 0.9905299247706657, 0.003869257518635413, 0.003869257518635413, 0.02463462542707211, 0.9607503916558123, 0.05469402737837098, 0.05791132310651045, 0.836496889316262, 0.04825943592209204, 0.9457140340902426, 0.0376403595657808, 0.0094100898914452, 0.0047050449457226, 0.9708934890096713, 0.9744804242358599, 0.9909211607763234, 0.9931905017698301, 0.022525266277675357, 0.946061183662365, 0.022525266277675357, 0.9847825395188515, 0.012909866417902498, 0.28401706119385495, 0.7035877197756861, 0.04809350194595794, 0.9458388716038395, 0.9916181237272461, 0.9768577939343901, 0.022841800829926522, 0.00029664676402501976, 0.5077578487716037, 0.4896733226509712, 0.0004637057979649348, 0.0018548231918597393, 0.996806491458432, 0.9963984104302275, 0.9773847345834662, 0.17168459632686242, 0.8251937049258872, 0.015794977088429172, 0.9832373237547161, 0.997452396356118, 0.03444369797448487, 0.8955361473366067, 0.05740616329080812, 0.9772722988716368, 0.2721759279149035, 0.12613030805812603, 0.3634544403253895, 0.23898374158381772, 0.9716357602073826, 0.02445704862648707, 0.9782819450594828, 0.9877294609362849, 0.004257454573001228, 0.008514909146002456, 0.16217320615221056, 0.8304386590897679, 0.005592179522490019, 0.0027960897612450096, 0.9862395404287299, 0.9747901447630642, 0.9708193641266051, 0.0692693841047773, 0.6003346622414032, 0.2964431706849609, 0.03351744392166643, 0.07534444946925005, 0.9182604779064849, 0.07399436232096868, 0.6299256897587728, 0.28721495900902316, 0.008762490274851554, 0.02531755012402513, 0.3468504366991443, 0.5367320626293327, 0.08861142543408795, 0.017263593606688, 0.984024835581216, 0.11751356009996178, 0.1250144256382572, 0.5725660694232181, 0.18752163845738581, 0.9876463266380071, 0.966961893570134, 0.03399475407082502, 0.9213712135936785, 0.06488529673194919, 0.9908804282480219, 0.9881875874822319, 0.15330186907729376, 0.1120916892178062, 0.08077195252459564, 0.6560660633630422, 0.11147742714371399, 0.6735094556599387, 0.2136650686921185, 0.0853437135205922, 0.0906776956156292, 0.21335928380148048, 0.6134079409292564, 0.014329541005685656, 0.8884315423525108, 0.08597724603411394, 0.21450487787108963, 0.43776505687977474, 0.20793840201789301, 0.13899040555932848, 0.9931521493005391, 0.9710898631854777, 0.08656909152908109, 0.034627636611632436, 0.8795419699354639, 0.0034627636611632433, 0.025138123249978328, 0.969613325356307, 0.0035911604642826184, 0.0035911604642826184, 0.7396716303751234, 0.2600057852227707, 0.05191399284344095, 0.33023067669855494, 0.22784474636843527, 0.39079700168256937, 0.2972065173670351, 0.7024194692537297, 0.0003776448759428654, 0.007521780173163948, 0.9853532026844772, 0.007521780173163948, 0.7535140461926023, 0.2458434716365763, 0.993850895659254, 0.30074726184322, 0.48301832962698965, 0.20733333960403802, 0.009113553389188483, 0.9819887242783634, 0.13281831836282815, 0.06154995241204231, 0.612260052940842, 0.19436827077487046, 0.07556829079432242, 0.5777964889052617, 0.31431059002948264, 0.032768550875414144, 0.0222547988069716, 0.1279650931400867, 0.0222547988069716, 0.8289912555596921, 0.9870445338919637, 0.18944958147888155, 0.20638362228146315, 0.27517816304195086, 0.3280970405500183, 0.23357634047641004, 0.765120336911916, 0.7404596184089074, 0.22728393692474183, 0.03144809190153661, 0.0014294587227971184, 0.9949455655445087, 0.0382112804806673, 0.20634091459560341, 0.7565833535172125, 0.9756457768766083, 0.8717940390257237, 0.07388085076489184, 0.007388085076489184, 0.048022552997179696, 0.09307861314104837, 0.30113668957398004, 0.3869150193314168, 0.21900850150834913, 0.03322477241059683, 0.006644954482119366, 0.8571991281933983, 0.10631927171390985, 0.9797736958057573, 0.03720136547080979, 0.06908825016007532, 0.10363237524011297, 0.7892003960593219, 0.00391300383023292, 0.2739102681163044, 0.7239057085930902, 0.9991528561774186, 0.9975154441888142, 0.9949922723565543, 0.9801168646071724, 0.909911446197223, 0.0838076332023758, 0.9841202497214143, 0.014494116552434717, 0.9855999255655608, 0.031390044191975, 0.721971016415425, 0.24588867950380416, 0.22153708780702655, 0.3680500909134466, 0.2997035425474491, 0.11037574764853628, 0.9965370875889064, 0.056113799330782865, 0.02493946636923683, 0.7855931906309601, 0.13093219843849335, 0.9757013488799404, 0.01711756752420948, 0.012573115647231636, 0.07543869388338982, 0.9052643266006778, 0.32188323914234696, 0.4483875689362824, 0.019678451301278852, 0.20943494599218207, 0.042066175678685994, 0.0883389689252406, 0.7866374851914282, 0.07992573378950339, 0.021938067651203503, 0.08775227060481401, 0.8884917398737419, 0.6556594881308275, 0.25396430806080156, 0.0879745642302123, 0.003319794876611785, 0.10091553742576774, 0.058867396831697845, 0.7905050431685139, 0.058867396831697845, 0.18807482829155728, 0.41351551650858953, 0.28273500676942714, 0.11458863710478986, 0.991963400515863, 0.997766234931375, 0.9940924462050831, 0.036850507631955375, 0.12634459759527555, 0.7896537349704723, 0.04474704498166009, 0.9951620243905057, 0.9544687661014947, 0.9413908521195072, 0.02257597900520493, 0.8955138338731289, 0.0752532633506831, 0.9914646566341231, 0.8551858857049526, 0.014019440749261518, 0.12033353309782803, 0.009346293832841012, 0.019501869239828273, 0.9750934619914138, 0.07169097535663801, 0.855990245758258, 0.010036736549929324, 0.06022041929957594, 0.09392968927978398, 0.8856227846379633, 0.013418527039969142, 0.2057396346372921, 0.5625693134613456, 0.09322577194502299, 0.13823131702193064, 0.06897998015571496, 0.45658177341163714, 0.2578537353439821, 0.21679422334653273, 0.9306231881471676, 0.051701288230398205, 0.11390681484600607, 0.09966846299025531, 0.27663083605458616, 0.5085125662768127, 0.026243065570386817, 0.9709934261043122, 0.9847686935284136, 0.06207208068847924, 0.9310812103271886, 0.0062072080688479235, 0.38120866621548016, 0.44289291641215983, 0.17641695556250378, 0.13065050553740817, 0.8678926439270687, 0.9952233766043392, 0.02653798982502449, 0.8757536642258082, 0.09288296438758571, 0.8515071714128251, 0.0901595828554756, 0.056767144760855, 0.983240967601442, 0.010514268846926494, 0.9883412716110904, 0.5227015526919976, 0.3646845531440072, 0.05799146042524768, 0.054488620533789764, 0.011903776316942326, 0.9761096579892707, 0.9944721649036161, 0.9071800424224585, 0.034649237731413346, 0.04724896054283638, 0.009449792108567277, 0.9856003816744862, 0.024139605067607324, 0.3814057600681957, 0.5334852719941219, 0.060349012669018307, 0.9740864315918935, 0.02466041598966819, 0.9975308173332788, 0.0031270558537093377, 0.9971302749727118, 0.024948784348788163, 0.7769764268622599, 0.1995902747903053, 0.9065355537028811, 0.09369876524060786, 0.9957083179579147, 0.13242335174400016, 0.615700326149939, 0.15699675722226825, 0.09419805433336094, 0.24069335782453868, 0.5812298863022194, 0.15392488809026056, 0.02436648807606441, 0.006867530395190492, 0.9339841337459069, 0.03433765197595246, 0.020602591185571475, 0.41587898726578965, 0.5266970407587696, 0.0037354400053813443, 0.05229616007533882, 0.06432180518216193, 0.08975135606813293, 0.610309221263304, 0.23335352577714563, 0.9903832933670462, 0.9911291092902194, 0.009624771678988224, 0.028874315036964672, 0.9624771678988224, 0.13588121269058903, 0.853334015696899, 0.010870497015247121, 0.015189595833785272, 0.9721341333622574, 0.004992143785329407, 0.9784601819245636, 0.014976431355988218, 0.9839912733640314, 0.03906724428680623, 0.20705639472007303, 0.7500910903066796, 0.9831699970497018, 0.03083348703766753, 0.8363583358967317, 0.131042319910087, 0.9918664692059741, 0.0074204474005434475, 0.011007944157014298, 0.07705560909910009, 0.9136593650321867, 0.9919753371136676, 0.25007651784276963, 0.7408983401759667, 0.00559872801140529, 0.0037324853409368597, 0.007736276846353397, 0.9902434363332349, 0.1314915775690707, 0.1400671152366188, 0.5316833353879816, 0.19723736635360606, 0.9976503920578614, 0.9922457603312983, 0.04627309917775393, 0.17583777687546492, 0.5213435840693609, 0.25295960883838814, 0.04473066283967658, 0.31915932404525993, 0.5561109434121954, 0.07978983101131498, 0.030241748610419172, 0.9677359555334135, 0.9900895227302327], \"Term\": [\"actual\", \"actual\", \"address\", \"address\", \"address\", \"address\", \"agency\", \"agenda\", \"aimee\", \"aimee\", \"albrecht\", \"albrecht\", \"amazon\", \"ami\", \"ami\", \"ami\", \"aol\", \"aol\", \"attached\", \"attached\", \"attached\", \"attached\", \"avila\", \"backout\", \"bob\", \"bob\", \"bob\", \"bob\", \"booked\", \"brazos\", \"budget\", \"business\", \"business\", \"business\", \"business\", \"bussell\", \"california\", \"call\", \"call\", \"call\", \"call\", \"card\", \"cdnow\", \"cdnow\", \"cec\", \"centana\", \"ceo\", \"certificate\", \"chairman\", \"change\", \"change\", \"change\", \"change\", \"chief\", \"chokshi\", \"class\", \"class\", \"click\", \"click\", \"clickathome\", \"clynes\", \"clynes\", \"clynes\", \"coastal\", \"coastal\", \"com\", \"com\", \"com\", \"com\", \"company\", \"company\", \"company\", \"company\", \"connor\", \"contract\", \"contract\", \"contract\", \"contract\", \"cornhusker\", \"cornhusker\", \"corp\", \"corp\", \"corp\", \"corp\", \"cost\", \"cost\", \"cost\", \"cotten\", \"cotten\", \"cotton\", \"cowboy\", \"customer\", \"customer\", \"customer\", \"customer\", \"daily\", \"daily\", \"daily\", \"daily\", \"daren\", \"daren\", \"daren\", \"daren\", \"data\", \"data\", \"data\", \"data\", \"day\", \"day\", \"day\", \"day\", \"deal\", \"deal\", \"deal\", \"deal\", \"dell\", \"delta\", \"desk\", \"desk\", \"desk\", \"desk\", \"discrepancy\", \"doc\", \"doc\", \"doc\", \"donald\", \"dow\", \"download\", \"driver\", \"dth\", \"duke\", \"duke\", \"duke\", \"duke\", \"eastrans\", \"easttexas\", \"ect\", \"ect\", \"ect\", \"edi\", \"eel\", \"effective\", \"effective\", \"effective\", \"effective\", \"eileen\", \"eileen\", \"email\", \"email\", \"email\", \"email\", \"ena\", \"ena\", \"ena\", \"ena\", \"enron\", \"enron\", \"enron\", \"enron\", \"enrononline\", \"enrononline\", \"enserch\", \"entex\", \"entex\", \"entex\", \"entex\", \"enw\", \"equistar\", \"equistar\", \"expedia\", \"extend\", \"extend\", \"extend\", \"family\", \"family\", \"fare\", \"farmer\", \"farmer\", \"farmer\", \"farmer\", \"ferc\", \"file\", \"file\", \"file\", \"file\", \"flow\", \"flow\", \"flow\", \"forwarded\", \"forwarded\", \"forwarded\", \"forwarded\", \"free\", \"free\", \"free\", \"free\", \"fri\", \"fri\", \"friend\", \"friend\", \"friend\", \"fwd\", \"gary\", \"gary\", \"gary\", \"gary\", \"gas\", \"gas\", \"gas\", \"gas\", \"gco\", \"gdp\", \"george\", \"george\", \"george\", \"george\", \"get\", \"get\", \"get\", \"get\", \"god\", \"god\", \"goliad\", \"gpgfin\", \"graf\", \"graf\", \"graf\", \"greif\", \"greif\", \"group\", \"group\", \"group\", \"group\", \"hank\", \"hank\", \"hank\", \"hank\", \"heal\", \"hector\", \"hesco\", \"hesse\", \"holiday\", \"holiday\", \"holiday\", \"holmes\", \"home\", \"home\", \"home\", \"hotel\", \"hotel\", \"hotmail\", \"hou\", \"hou\", \"hou\", \"hpl\", \"hpl\", \"hpl\", \"hpl\", \"hplnl\", \"hplno\", \"hplnol\", \"hplo\", \"hplo\", \"http\", \"http\", \"iferc\", \"impact\", \"impact\", \"impact\", \"impacted\", \"information\", \"information\", \"information\", \"information\", \"intercompany\", \"internet\", \"internet\", \"invoice\", \"invoice\", \"invoice\", \"jackie\", \"jackie\", \"jackie\", \"jackie\", \"jaquet\", \"juno\", \"killing\", \"know\", \"know\", \"know\", \"know\", \"lannou\", \"lannou\", \"let\", \"let\", \"let\", \"let\", \"like\", \"like\", \"like\", \"like\", \"lindley\", \"lindley\", \"list\", \"list\", \"list\", \"list\", \"listbot\", \"lloyd\", \"lloyd\", \"london\", \"london\", \"lsk\", \"lsp\", \"mail\", \"mail\", \"mail\", \"mail\", \"manager\", \"manager\", \"manager\", \"market\", \"market\", \"market\", \"market\", \"matt\", \"matt\", \"matt\", \"may\", \"may\", \"may\", \"may\", \"mckay\", \"mcloughlin\", \"meeting\", \"meeting\", \"meeting\", \"meeting\", \"megan\", \"megan\", \"megan\", \"megan\", \"melissa\", \"melissa\", \"message\", \"message\", \"message\", \"message\", \"meter\", \"meter\", \"meter\", \"midcon\", \"midcon\", \"midcon\", \"mmbtu\", \"mmbtu\", \"mmbtus\", \"month\", \"month\", \"month\", \"month\", \"msn\", \"name\", \"name\", \"name\", \"name\", \"need\", \"need\", \"need\", \"need\", \"net\", \"net\", \"net\", \"net\", \"netco\", \"new\", \"new\", \"new\", \"new\", \"nom\", \"nom\", \"nomination\", \"nomination\", \"nomination\", \"nomination\", \"oasis\", \"offer\", \"offer\", \"offer\", \"officer\", \"oil\", \"oil\", \"oil\", \"oil\", \"one\", \"one\", \"one\", \"one\", \"operation\", \"operation\", \"operation\", \"operation\", \"opm\", \"order\", \"order\", \"order\", \"order\", \"path\", \"path\", \"path\", \"pec\", \"pefs\", \"pena\", \"pep\", \"performance\", \"performance\", \"pgev\", \"pinion\", \"pinion\", \"plan\", \"plan\", \"plan\", \"please\", \"please\", \"please\", \"please\", \"ponton\", \"position\", \"position\", \"position\", \"position\", \"prc\", \"prc\", \"president\", \"president\", \"president\", \"price\", \"price\", \"price\", \"price\", \"process\", \"process\", \"process\", \"process\", \"product\", \"product\", \"product\", \"production\", \"production\", \"production\", \"production\", \"project\", \"project\", \"project\", \"project\", \"question\", \"question\", \"question\", \"question\", \"redeliveries\", \"reinhardt\", \"reliantenergy\", \"report\", \"report\", \"report\", \"report\", \"reveffo\", \"reviewer\", \"rewrite\", \"richard\", \"richard\", \"richard\", \"riley\", \"robert\", \"robert\", \"robert\", \"robert\", \"rus\", \"rus\", \"sale\", \"sale\", \"sale\", \"sale\", \"sat\", \"sat\", \"sat\", \"see\", \"see\", \"see\", \"see\", \"sent\", \"sent\", \"sent\", \"sent\", \"server\", \"server\", \"service\", \"service\", \"service\", \"service\", \"severson\", \"severson\", \"shari\", \"sherlyn\", \"sherlyn\", \"sherlyn\", \"sitara\", \"sitara\", \"sitara\", \"site\", \"site\", \"stack\", \"staff\", \"staff\", \"staff\", \"steve\", \"steve\", \"steve\", \"stock\", \"stranger\", \"stranger\", \"subject\", \"subject\", \"subject\", \"subject\", \"superty\", \"superty\", \"survey\", \"susan\", \"susan\", \"susan\", \"susan\", \"svcs\", \"system\", \"system\", \"system\", \"system\", \"tammy\", \"tammy\", \"tap\", \"tap\", \"taylor\", \"team\", \"team\", \"team\", \"teco\", \"teco\", \"tenaska\", \"texas\", \"texas\", \"texas\", \"texas\", \"thanks\", \"thanks\", \"thanks\", \"thanks\", \"thu\", \"thu\", \"thu\", \"thu\", \"ticket\", \"ticket\", \"ticket\", \"ticket\", \"time\", \"time\", \"time\", \"time\", \"tisdale\", \"topica\", \"training\", \"training\", \"training\", \"transport\", \"transport\", \"transport\", \"travel\", \"travel\", \"txu\", \"txu\", \"txu\", \"unaccounted\", \"unify\", \"unify\", \"unify\", \"unsubscribe\", \"utility\", \"utility\", \"utility\", \"vance\", \"vance\", \"visit\", \"visit\", \"visit\", \"vlt\", \"volume\", \"volume\", \"volume\", \"volume\", \"web\", \"web\", \"week\", \"week\", \"week\", \"week\", \"weissman\", \"wholesale\", \"work\", \"work\", \"work\", \"work\", \"would\", \"would\", \"would\", \"would\", \"www\", \"www\", \"yahoo\"]}, \"R\": 30, \"lambda.step\": 0.01, \"plot.opts\": {\"xlab\": \"PC1\", \"ylab\": \"PC2\"}, \"topic.order\": [1, 2, 4, 3]};\n",
              "\n",
              "function LDAvis_load_lib(url, callback){\n",
              "  var s = document.createElement('script');\n",
              "  s.src = url;\n",
              "  s.async = true;\n",
              "  s.onreadystatechange = s.onload = callback;\n",
              "  s.onerror = function(){console.warn(\"failed to load library \" + url);};\n",
              "  document.getElementsByTagName(\"head\")[0].appendChild(s);\n",
              "}\n",
              "\n",
              "if(typeof(LDAvis) !== \"undefined\"){\n",
              "   // already loaded: just create the visualization\n",
              "   !function(LDAvis){\n",
              "       new LDAvis(\"#\" + \"ldavis_el1761394357192441765693541018\", ldavis_el1761394357192441765693541018_data);\n",
              "   }(LDAvis);\n",
              "}else if(typeof define === \"function\" && define.amd){\n",
              "   // require.js is available: use it to load d3/LDAvis\n",
              "   require.config({paths: {d3: \"https://d3js.org/d3.v5\"}});\n",
              "   require([\"d3\"], function(d3){\n",
              "      window.d3 = d3;\n",
              "      LDAvis_load_lib(\"https://cdn.jsdelivr.net/gh/bmabey/pyLDAvis@3.4.0/pyLDAvis/js/ldavis.v3.0.0.js\", function(){\n",
              "        new LDAvis(\"#\" + \"ldavis_el1761394357192441765693541018\", ldavis_el1761394357192441765693541018_data);\n",
              "      });\n",
              "    });\n",
              "}else{\n",
              "    // require.js not available: dynamically load d3 & LDAvis\n",
              "    LDAvis_load_lib(\"https://d3js.org/d3.v5.js\", function(){\n",
              "         LDAvis_load_lib(\"https://cdn.jsdelivr.net/gh/bmabey/pyLDAvis@3.4.0/pyLDAvis/js/ldavis.v3.0.0.js\", function(){\n",
              "                 new LDAvis(\"#\" + \"ldavis_el1761394357192441765693541018\", ldavis_el1761394357192441765693541018_data);\n",
              "            })\n",
              "         });\n",
              "}\n",
              "</script>"
            ],
            "text/plain": [
              "PreparedData(topic_coordinates=              x         y  topics  cluster       Freq\n",
              "topic                                                \n",
              "0     -0.229890 -0.101686       1        1  31.573051\n",
              "1     -0.087050  0.141536       2        1  29.377523\n",
              "3      0.131477  0.067887       3        1  21.065535\n",
              "2      0.185464 -0.107738       4        1  17.983891, topic_info=        Term          Freq         Total Category  logprob  loglift\n",
              "389      ect  12838.000000  12838.000000  Default  30.0000  30.0000\n",
              "411      hou   6742.000000   6742.000000  Default  29.0000  29.0000\n",
              "182     deal   3406.000000   3406.000000  Default  28.0000  28.0000\n",
              "55       com   2385.000000   2385.000000  Default  27.0000  27.0000\n",
              "8      enron   5999.000000   5999.000000  Default  26.0000  26.0000\n",
              "..       ...           ...           ...      ...      ...      ...\n",
              "598     sent    131.675358    608.872312   Topic4  -5.9915   0.1844\n",
              "335  subject    139.529179   2569.343812   Topic4  -5.9335  -1.1974\n",
              "35       see    129.445573    933.218339   Topic4  -6.0085  -0.2597\n",
              "477      may    127.107626    913.732135   Topic4  -6.0268  -0.2568\n",
              "120      one    120.024524    547.923935   Topic4  -6.0841   0.1973\n",
              "\n",
              "[321 rows x 6 columns], token_table=      Topic      Freq     Term\n",
              "term                          \n",
              "316       1  0.004472   actual\n",
              "316       2  0.992882   actual\n",
              "197       1  0.017274  address\n",
              "197       2  0.034549  address\n",
              "197       3  0.161228  address\n",
              "...     ...       ...      ...\n",
              "172       3  0.556111    would\n",
              "172       4  0.079790    would\n",
              "173       3  0.030242      www\n",
              "173       4  0.967736      www\n",
              "1389      4  0.990090    yahoo\n",
              "\n",
              "[618 rows x 3 columns], R=30, lambda_step=0.01, plot_opts={'xlab': 'PC1', 'ylab': 'PC2'}, topic_order=[1, 2, 4, 3])"
            ]
          },
          "execution_count": 132,
          "metadata": {},
          "output_type": "execute_result"
        }
      ],
      "source": [
        "vis"
      ]
    },
    {
      "cell_type": "markdown",
      "metadata": {
        "id": "LQ29uC1GfxvZ"
      },
      "source": [
        "#### Doing Name Entity Recognition on HAM EMAILS"
      ]
    },
    {
      "cell_type": "code",
      "execution_count": null,
      "metadata": {
        "colab": {
          "base_uri": "https://localhost:8080/"
        },
        "id": "gJDooZathZ8M",
        "outputId": "4ecb8680-1db2-46f2-9aa6-b24080bff9bd"
      },
      "outputs": [
        {
          "name": "stderr",
          "output_type": "stream",
          "text": [
            "100%|██████████| 3531/3531 [02:46<00:00, 21.15it/s]\n"
          ]
        }
      ],
      "source": [
        "# Function to perform NER on a given text\n",
        "def perform_ner(text):\n",
        "    doc = nlp(text)\n",
        "    entities = [(ent.text, ent.label_) for ent in doc.ents]\n",
        "    return entities\n",
        "\n",
        "# Create an empty DataFrame to store results\n",
        "ner_results = pd.DataFrame(columns=['Text', 'Entities'])\n",
        "\n",
        "# Iterate through each row in the original DataFrame\n",
        "for index, row in tqdm(ham.iterrows(), total=len(ham)):\n",
        "    text = row['text']\n",
        "\n",
        "    # Perform NER on the email text\n",
        "    entities = perform_ner(text)\n",
        "\n",
        "    # Concatenate the results to the new DataFrame\n",
        "    ner_results = pd.concat([ner_results, pd.DataFrame({'Text': [text], 'Entities': [entities]})])"
      ]
    },
    {
      "cell_type": "code",
      "execution_count": null,
      "metadata": {
        "colab": {
          "base_uri": "https://localhost:8080/",
          "height": 206
        },
        "id": "YGPhxKL2sEL_",
        "outputId": "9c4827e3-5c5f-418a-90d1-ae5b1d23a6d8"
      },
      "outputs": [
        {
          "data": {
            "text/html": [
              "\n",
              "  <div id=\"df-eb3f9d5a-8ddf-40f0-9d71-8895b7a25d4f\" class=\"colab-df-container\">\n",
              "    <div>\n",
              "<style scoped>\n",
              "    .dataframe tbody tr th:only-of-type {\n",
              "        vertical-align: middle;\n",
              "    }\n",
              "\n",
              "    .dataframe tbody tr th {\n",
              "        vertical-align: top;\n",
              "    }\n",
              "\n",
              "    .dataframe thead th {\n",
              "        text-align: right;\n",
              "    }\n",
              "</style>\n",
              "<table border=\"1\" class=\"dataframe\">\n",
              "  <thead>\n",
              "    <tr style=\"text-align: right;\">\n",
              "      <th></th>\n",
              "      <th>Text</th>\n",
              "      <th>Entities</th>\n",
              "    </tr>\n",
              "  </thead>\n",
              "  <tbody>\n",
              "    <tr>\n",
              "      <th>0</th>\n",
              "      <td>Subject: enron methanol ; meter # : 988291\\nth...</td>\n",
              "      <td>[(enron, ORG), (#, CARDINAL), (988291, CARDINA...</td>\n",
              "    </tr>\n",
              "    <tr>\n",
              "      <th>0</th>\n",
              "      <td>Subject: hpl nom for january 9 , 2001\\n( see a...</td>\n",
              "      <td>[(january 9 , 2001, DATE), (09, CARDINAL), (09...</td>\n",
              "    </tr>\n",
              "    <tr>\n",
              "      <th>0</th>\n",
              "      <td>Subject: neon retreat\\nho ho ho , we ' re arou...</td>\n",
              "      <td>[(ho ho ho, PERSON), (this time of year, DATE)...</td>\n",
              "    </tr>\n",
              "    <tr>\n",
              "      <th>0</th>\n",
              "      <td>Subject: re : indian springs\\nthis deal is to ...</td>\n",
              "      <td>[(indian, NORP)]</td>\n",
              "    </tr>\n",
              "    <tr>\n",
              "      <th>0</th>\n",
              "      <td>Subject: ehronline web address change\\nthis me...</td>\n",
              "      <td>[(https, PERSON)]</td>\n",
              "    </tr>\n",
              "  </tbody>\n",
              "</table>\n",
              "</div>\n",
              "    <div class=\"colab-df-buttons\">\n",
              "\n",
              "  <div class=\"colab-df-container\">\n",
              "    <button class=\"colab-df-convert\" onclick=\"convertToInteractive('df-eb3f9d5a-8ddf-40f0-9d71-8895b7a25d4f')\"\n",
              "            title=\"Convert this dataframe to an interactive table.\"\n",
              "            style=\"display:none;\">\n",
              "\n",
              "  <svg xmlns=\"http://www.w3.org/2000/svg\" height=\"24px\" viewBox=\"0 -960 960 960\">\n",
              "    <path d=\"M120-120v-720h720v720H120Zm60-500h600v-160H180v160Zm220 220h160v-160H400v160Zm0 220h160v-160H400v160ZM180-400h160v-160H180v160Zm440 0h160v-160H620v160ZM180-180h160v-160H180v160Zm440 0h160v-160H620v160Z\"/>\n",
              "  </svg>\n",
              "    </button>\n",
              "\n",
              "  <style>\n",
              "    .colab-df-container {\n",
              "      display:flex;\n",
              "      gap: 12px;\n",
              "    }\n",
              "\n",
              "    .colab-df-convert {\n",
              "      background-color: #E8F0FE;\n",
              "      border: none;\n",
              "      border-radius: 50%;\n",
              "      cursor: pointer;\n",
              "      display: none;\n",
              "      fill: #1967D2;\n",
              "      height: 32px;\n",
              "      padding: 0 0 0 0;\n",
              "      width: 32px;\n",
              "    }\n",
              "\n",
              "    .colab-df-convert:hover {\n",
              "      background-color: #E2EBFA;\n",
              "      box-shadow: 0px 1px 2px rgba(60, 64, 67, 0.3), 0px 1px 3px 1px rgba(60, 64, 67, 0.15);\n",
              "      fill: #174EA6;\n",
              "    }\n",
              "\n",
              "    .colab-df-buttons div {\n",
              "      margin-bottom: 4px;\n",
              "    }\n",
              "\n",
              "    [theme=dark] .colab-df-convert {\n",
              "      background-color: #3B4455;\n",
              "      fill: #D2E3FC;\n",
              "    }\n",
              "\n",
              "    [theme=dark] .colab-df-convert:hover {\n",
              "      background-color: #434B5C;\n",
              "      box-shadow: 0px 1px 3px 1px rgba(0, 0, 0, 0.15);\n",
              "      filter: drop-shadow(0px 1px 2px rgba(0, 0, 0, 0.3));\n",
              "      fill: #FFFFFF;\n",
              "    }\n",
              "  </style>\n",
              "\n",
              "    <script>\n",
              "      const buttonEl =\n",
              "        document.querySelector('#df-eb3f9d5a-8ddf-40f0-9d71-8895b7a25d4f button.colab-df-convert');\n",
              "      buttonEl.style.display =\n",
              "        google.colab.kernel.accessAllowed ? 'block' : 'none';\n",
              "\n",
              "      async function convertToInteractive(key) {\n",
              "        const element = document.querySelector('#df-eb3f9d5a-8ddf-40f0-9d71-8895b7a25d4f');\n",
              "        const dataTable =\n",
              "          await google.colab.kernel.invokeFunction('convertToInteractive',\n",
              "                                                    [key], {});\n",
              "        if (!dataTable) return;\n",
              "\n",
              "        const docLinkHtml = 'Like what you see? Visit the ' +\n",
              "          '<a target=\"_blank\" href=https://colab.research.google.com/notebooks/data_table.ipynb>data table notebook</a>'\n",
              "          + ' to learn more about interactive tables.';\n",
              "        element.innerHTML = '';\n",
              "        dataTable['output_type'] = 'display_data';\n",
              "        await google.colab.output.renderOutput(dataTable, element);\n",
              "        const docLink = document.createElement('div');\n",
              "        docLink.innerHTML = docLinkHtml;\n",
              "        element.appendChild(docLink);\n",
              "      }\n",
              "    </script>\n",
              "  </div>\n",
              "\n",
              "\n",
              "<div id=\"df-d3d71749-c9f4-4dca-bc29-f894b4db60d8\">\n",
              "  <button class=\"colab-df-quickchart\" onclick=\"quickchart('df-d3d71749-c9f4-4dca-bc29-f894b4db60d8')\"\n",
              "            title=\"Suggest charts\"\n",
              "            style=\"display:none;\">\n",
              "\n",
              "<svg xmlns=\"http://www.w3.org/2000/svg\" height=\"24px\"viewBox=\"0 0 24 24\"\n",
              "     width=\"24px\">\n",
              "    <g>\n",
              "        <path d=\"M19 3H5c-1.1 0-2 .9-2 2v14c0 1.1.9 2 2 2h14c1.1 0 2-.9 2-2V5c0-1.1-.9-2-2-2zM9 17H7v-7h2v7zm4 0h-2V7h2v10zm4 0h-2v-4h2v4z\"/>\n",
              "    </g>\n",
              "</svg>\n",
              "  </button>\n",
              "\n",
              "<style>\n",
              "  .colab-df-quickchart {\n",
              "      --bg-color: #E8F0FE;\n",
              "      --fill-color: #1967D2;\n",
              "      --hover-bg-color: #E2EBFA;\n",
              "      --hover-fill-color: #174EA6;\n",
              "      --disabled-fill-color: #AAA;\n",
              "      --disabled-bg-color: #DDD;\n",
              "  }\n",
              "\n",
              "  [theme=dark] .colab-df-quickchart {\n",
              "      --bg-color: #3B4455;\n",
              "      --fill-color: #D2E3FC;\n",
              "      --hover-bg-color: #434B5C;\n",
              "      --hover-fill-color: #FFFFFF;\n",
              "      --disabled-bg-color: #3B4455;\n",
              "      --disabled-fill-color: #666;\n",
              "  }\n",
              "\n",
              "  .colab-df-quickchart {\n",
              "    background-color: var(--bg-color);\n",
              "    border: none;\n",
              "    border-radius: 50%;\n",
              "    cursor: pointer;\n",
              "    display: none;\n",
              "    fill: var(--fill-color);\n",
              "    height: 32px;\n",
              "    padding: 0;\n",
              "    width: 32px;\n",
              "  }\n",
              "\n",
              "  .colab-df-quickchart:hover {\n",
              "    background-color: var(--hover-bg-color);\n",
              "    box-shadow: 0 1px 2px rgba(60, 64, 67, 0.3), 0 1px 3px 1px rgba(60, 64, 67, 0.15);\n",
              "    fill: var(--button-hover-fill-color);\n",
              "  }\n",
              "\n",
              "  .colab-df-quickchart-complete:disabled,\n",
              "  .colab-df-quickchart-complete:disabled:hover {\n",
              "    background-color: var(--disabled-bg-color);\n",
              "    fill: var(--disabled-fill-color);\n",
              "    box-shadow: none;\n",
              "  }\n",
              "\n",
              "  .colab-df-spinner {\n",
              "    border: 2px solid var(--fill-color);\n",
              "    border-color: transparent;\n",
              "    border-bottom-color: var(--fill-color);\n",
              "    animation:\n",
              "      spin 1s steps(1) infinite;\n",
              "  }\n",
              "\n",
              "  @keyframes spin {\n",
              "    0% {\n",
              "      border-color: transparent;\n",
              "      border-bottom-color: var(--fill-color);\n",
              "      border-left-color: var(--fill-color);\n",
              "    }\n",
              "    20% {\n",
              "      border-color: transparent;\n",
              "      border-left-color: var(--fill-color);\n",
              "      border-top-color: var(--fill-color);\n",
              "    }\n",
              "    30% {\n",
              "      border-color: transparent;\n",
              "      border-left-color: var(--fill-color);\n",
              "      border-top-color: var(--fill-color);\n",
              "      border-right-color: var(--fill-color);\n",
              "    }\n",
              "    40% {\n",
              "      border-color: transparent;\n",
              "      border-right-color: var(--fill-color);\n",
              "      border-top-color: var(--fill-color);\n",
              "    }\n",
              "    60% {\n",
              "      border-color: transparent;\n",
              "      border-right-color: var(--fill-color);\n",
              "    }\n",
              "    80% {\n",
              "      border-color: transparent;\n",
              "      border-right-color: var(--fill-color);\n",
              "      border-bottom-color: var(--fill-color);\n",
              "    }\n",
              "    90% {\n",
              "      border-color: transparent;\n",
              "      border-bottom-color: var(--fill-color);\n",
              "    }\n",
              "  }\n",
              "</style>\n",
              "\n",
              "  <script>\n",
              "    async function quickchart(key) {\n",
              "      const quickchartButtonEl =\n",
              "        document.querySelector('#' + key + ' button');\n",
              "      quickchartButtonEl.disabled = true;  // To prevent multiple clicks.\n",
              "      quickchartButtonEl.classList.add('colab-df-spinner');\n",
              "      try {\n",
              "        const charts = await google.colab.kernel.invokeFunction(\n",
              "            'suggestCharts', [key], {});\n",
              "      } catch (error) {\n",
              "        console.error('Error during call to suggestCharts:', error);\n",
              "      }\n",
              "      quickchartButtonEl.classList.remove('colab-df-spinner');\n",
              "      quickchartButtonEl.classList.add('colab-df-quickchart-complete');\n",
              "    }\n",
              "    (() => {\n",
              "      let quickchartButtonEl =\n",
              "        document.querySelector('#df-d3d71749-c9f4-4dca-bc29-f894b4db60d8 button');\n",
              "      quickchartButtonEl.style.display =\n",
              "        google.colab.kernel.accessAllowed ? 'block' : 'none';\n",
              "    })();\n",
              "  </script>\n",
              "</div>\n",
              "    </div>\n",
              "  </div>\n"
            ],
            "text/plain": [
              "                                                Text  \\\n",
              "0  Subject: enron methanol ; meter # : 988291\\nth...   \n",
              "0  Subject: hpl nom for january 9 , 2001\\n( see a...   \n",
              "0  Subject: neon retreat\\nho ho ho , we ' re arou...   \n",
              "0  Subject: re : indian springs\\nthis deal is to ...   \n",
              "0  Subject: ehronline web address change\\nthis me...   \n",
              "\n",
              "                                            Entities  \n",
              "0  [(enron, ORG), (#, CARDINAL), (988291, CARDINA...  \n",
              "0  [(january 9 , 2001, DATE), (09, CARDINAL), (09...  \n",
              "0  [(ho ho ho, PERSON), (this time of year, DATE)...  \n",
              "0                                   [(indian, NORP)]  \n",
              "0                                  [(https, PERSON)]  "
            ]
          },
          "execution_count": 134,
          "metadata": {},
          "output_type": "execute_result"
        }
      ],
      "source": [
        "ner_results.head()"
      ]
    },
    {
      "cell_type": "code",
      "execution_count": null,
      "metadata": {
        "id": "qmZ3eY34skUm"
      },
      "outputs": [],
      "source": [
        "# format text column\n",
        "\n",
        "def format_text(text):\n",
        "    return text.replace('\\n', ' ')\n",
        "\n",
        "ner_results['Text'] = ner_results['Text'].apply(format_text)\n"
      ]
    },
    {
      "cell_type": "code",
      "execution_count": null,
      "metadata": {
        "id": "I3ZKLaids5f0"
      },
      "outputs": [],
      "source": [
        "# Create a column with organization name if any, else -\n",
        "\n",
        "def extract_org_name(entities):\n",
        "    for entity in entities:\n",
        "        if entity[1] == 'ORG':\n",
        "            return entity[0]\n",
        "    return '-'\n",
        "\n",
        "companies_name = ner_results['Entities'].apply(extract_org_name)"
      ]
    },
    {
      "cell_type": "code",
      "execution_count": null,
      "metadata": {
        "colab": {
          "base_uri": "https://localhost:8080/"
        },
        "id": "P7_modISGocS",
        "outputId": "79a6ec3c-7965-4354-a63d-54536fde3d6f"
      },
      "outputs": [
        {
          "data": {
            "text/plain": [
              "3531"
            ]
          },
          "execution_count": 137,
          "metadata": {},
          "output_type": "execute_result"
        }
      ],
      "source": [
        "len(companies_name)"
      ]
    },
    {
      "cell_type": "code",
      "execution_count": null,
      "metadata": {
        "id": "gLf_-T11F9NW"
      },
      "outputs": [],
      "source": [
        "ner_results['Companies'] = companies_name"
      ]
    },
    {
      "cell_type": "code",
      "execution_count": null,
      "metadata": {
        "colab": {
          "base_uri": "https://localhost:8080/"
        },
        "id": "QJ38g5onEArK",
        "outputId": "6e658024-6f72-4407-d9b3-45b6f81ffe6d"
      },
      "outputs": [
        {
          "data": {
            "text/plain": [
              "-                                   1937\n",
              "ami chokshi / corp /                 123\n",
              "enron                                 95\n",
              "tenaska                               90\n",
              "north america corp .                  80\n",
              "                                    ... \n",
              "donna & george                         1\n",
              "united oil & mineral\\nsee              1\n",
              "falcon                                 1\n",
              "texas energy reliability council       1\n",
              "hpl d / p to transco\\ndaren -          1\n",
              "Name: Companies, Length: 541, dtype: int64"
            ]
          },
          "execution_count": 139,
          "metadata": {},
          "output_type": "execute_result"
        }
      ],
      "source": [
        "ner_results['Companies'].value_counts()"
      ]
    },
    {
      "cell_type": "code",
      "execution_count": null,
      "metadata": {
        "id": "bJmVi0g_ISZM"
      },
      "outputs": [],
      "source": [
        "# format Companies \\n symbol\n",
        "\n",
        "def format_companies(companies):\n",
        "    formatted_companies = companies.replace('\\n', ' ')\n",
        "    formatted_companies = formatted_companies.replace('/', '')\n",
        "    return formatted_companies\n",
        "\n",
        "ner_results['Companies'] = ner_results['Companies'].apply(format_companies)"
      ]
    },
    {
      "cell_type": "code",
      "execution_count": null,
      "metadata": {
        "colab": {
          "base_uri": "https://localhost:8080/",
          "height": 363
        },
        "id": "8vHB6hQgH1sv",
        "outputId": "da924047-2997-43ee-d1ff-abae4a0bd1c8"
      },
      "outputs": [
        {
          "data": {
            "text/html": [
              "\n",
              "  <div id=\"df-328fb80b-5c15-4b2b-8875-5a970433b711\" class=\"colab-df-container\">\n",
              "    <div>\n",
              "<style scoped>\n",
              "    .dataframe tbody tr th:only-of-type {\n",
              "        vertical-align: middle;\n",
              "    }\n",
              "\n",
              "    .dataframe tbody tr th {\n",
              "        vertical-align: top;\n",
              "    }\n",
              "\n",
              "    .dataframe thead th {\n",
              "        text-align: right;\n",
              "    }\n",
              "</style>\n",
              "<table border=\"1\" class=\"dataframe\">\n",
              "  <thead>\n",
              "    <tr style=\"text-align: right;\">\n",
              "      <th></th>\n",
              "      <th>Text</th>\n",
              "      <th>Entities</th>\n",
              "      <th>Companies</th>\n",
              "    </tr>\n",
              "  </thead>\n",
              "  <tbody>\n",
              "    <tr>\n",
              "      <th>0</th>\n",
              "      <td>Subject: re : sitara positions , end of month ...</td>\n",
              "      <td>[(robert superty, PERSON), (11 / 16 / 2000 09,...</td>\n",
              "      <td>pat clynes  corp  enron @ enron</td>\n",
              "    </tr>\n",
              "    <tr>\n",
              "      <th>0</th>\n",
              "      <td>Subject: josey ranch est . - - apr . 2000 - - ...</td>\n",
              "      <td>[(2000, CARDINAL), (susan d trevino / hou, PER...</td>\n",
              "      <td>texaco</td>\n",
              "    </tr>\n",
              "    <tr>\n",
              "      <th>0</th>\n",
              "      <td>Subject: westex documents per butch cheatham '...</td>\n",
              "      <td>[]</td>\n",
              "      <td>-</td>\n",
              "    </tr>\n",
              "    <tr>\n",
              "      <th>0</th>\n",
              "      <td>Subject: hpl meter # 986631 texoma - tejas hpl...</td>\n",
              "      <td>[(986631, MONEY), (1 / 1 / 2000, DATE), (the f...</td>\n",
              "      <td>-</td>\n",
              "    </tr>\n",
              "    <tr>\n",
              "      <th>0</th>\n",
              "      <td>Subject: hpl nom for june 17 , 2000 ( see atta...</td>\n",
              "      <td>[(june 17 , 2000, DATE), (617, CARDINAL), (617...</td>\n",
              "      <td>-</td>\n",
              "    </tr>\n",
              "    <tr>\n",
              "      <th>0</th>\n",
              "      <td>Subject: fw : chevron phillips chemical co . ,...</td>\n",
              "      <td>[(chevron, ORG), (hplc 04 / 01, ORG), (monday,...</td>\n",
              "      <td>chevron</td>\n",
              "    </tr>\n",
              "    <tr>\n",
              "      <th>0</th>\n",
              "      <td>Subject: dave n out until july 5 th i will be ...</td>\n",
              "      <td>[(dave n, PERSON), (july 5, DATE), (july 5, DA...</td>\n",
              "      <td>-</td>\n",
              "    </tr>\n",
              "    <tr>\n",
              "      <th>0</th>\n",
              "      <td>Subject: out of the office please note that i ...</td>\n",
              "      <td>[(tuesday , july 11, DATE), (friday, DATE), (j...</td>\n",
              "      <td>janzen</td>\n",
              "    </tr>\n",
              "    <tr>\n",
              "      <th>0</th>\n",
              "      <td>Subject: eastrans nomination change effective ...</td>\n",
              "      <td>[(2 / 3 / 01, DATE), (60, CARDINAL), (50, CARD...</td>\n",
              "      <td>-</td>\n",
              "    </tr>\n",
              "    <tr>\n",
              "      <th>0</th>\n",
              "      <td>Subject: defs may 2001 daren : please enter a ...</td>\n",
              "      <td>[(defs, GPE), (may 2001, DATE), (may 2001, DAT...</td>\n",
              "      <td>-</td>\n",
              "    </tr>\n",
              "  </tbody>\n",
              "</table>\n",
              "</div>\n",
              "    <div class=\"colab-df-buttons\">\n",
              "\n",
              "  <div class=\"colab-df-container\">\n",
              "    <button class=\"colab-df-convert\" onclick=\"convertToInteractive('df-328fb80b-5c15-4b2b-8875-5a970433b711')\"\n",
              "            title=\"Convert this dataframe to an interactive table.\"\n",
              "            style=\"display:none;\">\n",
              "\n",
              "  <svg xmlns=\"http://www.w3.org/2000/svg\" height=\"24px\" viewBox=\"0 -960 960 960\">\n",
              "    <path d=\"M120-120v-720h720v720H120Zm60-500h600v-160H180v160Zm220 220h160v-160H400v160Zm0 220h160v-160H400v160ZM180-400h160v-160H180v160Zm440 0h160v-160H620v160ZM180-180h160v-160H180v160Zm440 0h160v-160H620v160Z\"/>\n",
              "  </svg>\n",
              "    </button>\n",
              "\n",
              "  <style>\n",
              "    .colab-df-container {\n",
              "      display:flex;\n",
              "      gap: 12px;\n",
              "    }\n",
              "\n",
              "    .colab-df-convert {\n",
              "      background-color: #E8F0FE;\n",
              "      border: none;\n",
              "      border-radius: 50%;\n",
              "      cursor: pointer;\n",
              "      display: none;\n",
              "      fill: #1967D2;\n",
              "      height: 32px;\n",
              "      padding: 0 0 0 0;\n",
              "      width: 32px;\n",
              "    }\n",
              "\n",
              "    .colab-df-convert:hover {\n",
              "      background-color: #E2EBFA;\n",
              "      box-shadow: 0px 1px 2px rgba(60, 64, 67, 0.3), 0px 1px 3px 1px rgba(60, 64, 67, 0.15);\n",
              "      fill: #174EA6;\n",
              "    }\n",
              "\n",
              "    .colab-df-buttons div {\n",
              "      margin-bottom: 4px;\n",
              "    }\n",
              "\n",
              "    [theme=dark] .colab-df-convert {\n",
              "      background-color: #3B4455;\n",
              "      fill: #D2E3FC;\n",
              "    }\n",
              "\n",
              "    [theme=dark] .colab-df-convert:hover {\n",
              "      background-color: #434B5C;\n",
              "      box-shadow: 0px 1px 3px 1px rgba(0, 0, 0, 0.15);\n",
              "      filter: drop-shadow(0px 1px 2px rgba(0, 0, 0, 0.3));\n",
              "      fill: #FFFFFF;\n",
              "    }\n",
              "  </style>\n",
              "\n",
              "    <script>\n",
              "      const buttonEl =\n",
              "        document.querySelector('#df-328fb80b-5c15-4b2b-8875-5a970433b711 button.colab-df-convert');\n",
              "      buttonEl.style.display =\n",
              "        google.colab.kernel.accessAllowed ? 'block' : 'none';\n",
              "\n",
              "      async function convertToInteractive(key) {\n",
              "        const element = document.querySelector('#df-328fb80b-5c15-4b2b-8875-5a970433b711');\n",
              "        const dataTable =\n",
              "          await google.colab.kernel.invokeFunction('convertToInteractive',\n",
              "                                                    [key], {});\n",
              "        if (!dataTable) return;\n",
              "\n",
              "        const docLinkHtml = 'Like what you see? Visit the ' +\n",
              "          '<a target=\"_blank\" href=https://colab.research.google.com/notebooks/data_table.ipynb>data table notebook</a>'\n",
              "          + ' to learn more about interactive tables.';\n",
              "        element.innerHTML = '';\n",
              "        dataTable['output_type'] = 'display_data';\n",
              "        await google.colab.output.renderOutput(dataTable, element);\n",
              "        const docLink = document.createElement('div');\n",
              "        docLink.innerHTML = docLinkHtml;\n",
              "        element.appendChild(docLink);\n",
              "      }\n",
              "    </script>\n",
              "  </div>\n",
              "\n",
              "\n",
              "<div id=\"df-a0808041-ff74-44be-bcb7-7cef411e60f9\">\n",
              "  <button class=\"colab-df-quickchart\" onclick=\"quickchart('df-a0808041-ff74-44be-bcb7-7cef411e60f9')\"\n",
              "            title=\"Suggest charts\"\n",
              "            style=\"display:none;\">\n",
              "\n",
              "<svg xmlns=\"http://www.w3.org/2000/svg\" height=\"24px\"viewBox=\"0 0 24 24\"\n",
              "     width=\"24px\">\n",
              "    <g>\n",
              "        <path d=\"M19 3H5c-1.1 0-2 .9-2 2v14c0 1.1.9 2 2 2h14c1.1 0 2-.9 2-2V5c0-1.1-.9-2-2-2zM9 17H7v-7h2v7zm4 0h-2V7h2v10zm4 0h-2v-4h2v4z\"/>\n",
              "    </g>\n",
              "</svg>\n",
              "  </button>\n",
              "\n",
              "<style>\n",
              "  .colab-df-quickchart {\n",
              "      --bg-color: #E8F0FE;\n",
              "      --fill-color: #1967D2;\n",
              "      --hover-bg-color: #E2EBFA;\n",
              "      --hover-fill-color: #174EA6;\n",
              "      --disabled-fill-color: #AAA;\n",
              "      --disabled-bg-color: #DDD;\n",
              "  }\n",
              "\n",
              "  [theme=dark] .colab-df-quickchart {\n",
              "      --bg-color: #3B4455;\n",
              "      --fill-color: #D2E3FC;\n",
              "      --hover-bg-color: #434B5C;\n",
              "      --hover-fill-color: #FFFFFF;\n",
              "      --disabled-bg-color: #3B4455;\n",
              "      --disabled-fill-color: #666;\n",
              "  }\n",
              "\n",
              "  .colab-df-quickchart {\n",
              "    background-color: var(--bg-color);\n",
              "    border: none;\n",
              "    border-radius: 50%;\n",
              "    cursor: pointer;\n",
              "    display: none;\n",
              "    fill: var(--fill-color);\n",
              "    height: 32px;\n",
              "    padding: 0;\n",
              "    width: 32px;\n",
              "  }\n",
              "\n",
              "  .colab-df-quickchart:hover {\n",
              "    background-color: var(--hover-bg-color);\n",
              "    box-shadow: 0 1px 2px rgba(60, 64, 67, 0.3), 0 1px 3px 1px rgba(60, 64, 67, 0.15);\n",
              "    fill: var(--button-hover-fill-color);\n",
              "  }\n",
              "\n",
              "  .colab-df-quickchart-complete:disabled,\n",
              "  .colab-df-quickchart-complete:disabled:hover {\n",
              "    background-color: var(--disabled-bg-color);\n",
              "    fill: var(--disabled-fill-color);\n",
              "    box-shadow: none;\n",
              "  }\n",
              "\n",
              "  .colab-df-spinner {\n",
              "    border: 2px solid var(--fill-color);\n",
              "    border-color: transparent;\n",
              "    border-bottom-color: var(--fill-color);\n",
              "    animation:\n",
              "      spin 1s steps(1) infinite;\n",
              "  }\n",
              "\n",
              "  @keyframes spin {\n",
              "    0% {\n",
              "      border-color: transparent;\n",
              "      border-bottom-color: var(--fill-color);\n",
              "      border-left-color: var(--fill-color);\n",
              "    }\n",
              "    20% {\n",
              "      border-color: transparent;\n",
              "      border-left-color: var(--fill-color);\n",
              "      border-top-color: var(--fill-color);\n",
              "    }\n",
              "    30% {\n",
              "      border-color: transparent;\n",
              "      border-left-color: var(--fill-color);\n",
              "      border-top-color: var(--fill-color);\n",
              "      border-right-color: var(--fill-color);\n",
              "    }\n",
              "    40% {\n",
              "      border-color: transparent;\n",
              "      border-right-color: var(--fill-color);\n",
              "      border-top-color: var(--fill-color);\n",
              "    }\n",
              "    60% {\n",
              "      border-color: transparent;\n",
              "      border-right-color: var(--fill-color);\n",
              "    }\n",
              "    80% {\n",
              "      border-color: transparent;\n",
              "      border-right-color: var(--fill-color);\n",
              "      border-bottom-color: var(--fill-color);\n",
              "    }\n",
              "    90% {\n",
              "      border-color: transparent;\n",
              "      border-bottom-color: var(--fill-color);\n",
              "    }\n",
              "  }\n",
              "</style>\n",
              "\n",
              "  <script>\n",
              "    async function quickchart(key) {\n",
              "      const quickchartButtonEl =\n",
              "        document.querySelector('#' + key + ' button');\n",
              "      quickchartButtonEl.disabled = true;  // To prevent multiple clicks.\n",
              "      quickchartButtonEl.classList.add('colab-df-spinner');\n",
              "      try {\n",
              "        const charts = await google.colab.kernel.invokeFunction(\n",
              "            'suggestCharts', [key], {});\n",
              "      } catch (error) {\n",
              "        console.error('Error during call to suggestCharts:', error);\n",
              "      }\n",
              "      quickchartButtonEl.classList.remove('colab-df-spinner');\n",
              "      quickchartButtonEl.classList.add('colab-df-quickchart-complete');\n",
              "    }\n",
              "    (() => {\n",
              "      let quickchartButtonEl =\n",
              "        document.querySelector('#df-a0808041-ff74-44be-bcb7-7cef411e60f9 button');\n",
              "      quickchartButtonEl.style.display =\n",
              "        google.colab.kernel.accessAllowed ? 'block' : 'none';\n",
              "    })();\n",
              "  </script>\n",
              "</div>\n",
              "    </div>\n",
              "  </div>\n"
            ],
            "text/plain": [
              "                                                Text  \\\n",
              "0  Subject: re : sitara positions , end of month ...   \n",
              "0  Subject: josey ranch est . - - apr . 2000 - - ...   \n",
              "0  Subject: westex documents per butch cheatham '...   \n",
              "0  Subject: hpl meter # 986631 texoma - tejas hpl...   \n",
              "0  Subject: hpl nom for june 17 , 2000 ( see atta...   \n",
              "0  Subject: fw : chevron phillips chemical co . ,...   \n",
              "0  Subject: dave n out until july 5 th i will be ...   \n",
              "0  Subject: out of the office please note that i ...   \n",
              "0  Subject: eastrans nomination change effective ...   \n",
              "0  Subject: defs may 2001 daren : please enter a ...   \n",
              "\n",
              "                                            Entities  \\\n",
              "0  [(robert superty, PERSON), (11 / 16 / 2000 09,...   \n",
              "0  [(2000, CARDINAL), (susan d trevino / hou, PER...   \n",
              "0                                                 []   \n",
              "0  [(986631, MONEY), (1 / 1 / 2000, DATE), (the f...   \n",
              "0  [(june 17 , 2000, DATE), (617, CARDINAL), (617...   \n",
              "0  [(chevron, ORG), (hplc 04 / 01, ORG), (monday,...   \n",
              "0  [(dave n, PERSON), (july 5, DATE), (july 5, DA...   \n",
              "0  [(tuesday , july 11, DATE), (friday, DATE), (j...   \n",
              "0  [(2 / 3 / 01, DATE), (60, CARDINAL), (50, CARD...   \n",
              "0  [(defs, GPE), (may 2001, DATE), (may 2001, DAT...   \n",
              "\n",
              "                         Companies  \n",
              "0  pat clynes  corp  enron @ enron  \n",
              "0                           texaco  \n",
              "0                                -  \n",
              "0                                -  \n",
              "0                                -  \n",
              "0                          chevron  \n",
              "0                                -  \n",
              "0                           janzen  \n",
              "0                                -  \n",
              "0                                -  "
            ]
          },
          "execution_count": 143,
          "metadata": {},
          "output_type": "execute_result"
        }
      ],
      "source": [
        "ner_results.sample(10)"
      ]
    },
    {
      "cell_type": "markdown",
      "metadata": {
        "id": "ldyrAar-4iZR"
      },
      "source": [
        "### Report on Topic modeling and Name Entity Recognition on HAM EMAILS\n",
        "\n",
        "- All of the topics seem to have the same common thread, we are talking about companies operating in the energy field such as enron,el paso energy corporation, texaco,chevron, all companies operating in the energy field.\n",
        "- the name of the companies could be obtained through the use of Name Entity Recognition (NER)."
      ]
    },
    {
      "cell_type": "markdown",
      "metadata": {
        "id": "r6Ft-C_IJcx9"
      },
      "source": [
        "# Build a Classifier"
      ]
    },
    {
      "cell_type": "code",
      "execution_count": 631,
      "metadata": {
        "id": "FbY0hqL9RRyG"
      },
      "outputs": [],
      "source": [
        "labels = {'ham': 0, 'spam': 1}\n",
        "\n",
        "X = df['text'].values\n",
        "y = df['label'].map(labels).values"
      ]
    },
    {
      "cell_type": "code",
      "execution_count": 641,
      "metadata": {
        "id": "m63rA47ETi4r"
      },
      "outputs": [],
      "source": [
        "def preprocessor(text):\n",
        "    # Lowercase the text\n",
        "    text = text.lower()\n",
        "    # Remove punctuation using regex\n",
        "    text = re.sub(r'[^\\w\\s]', '', text)\n",
        "    # Remove numbers using regex\n",
        "    text = re.sub(r'\\d+', '', text)\n",
        "    # Tokenize the text\n",
        "    tokens = text.split()\n",
        "    # Remove stopwords\n",
        "    stop = set(stopwords.words('english'))\n",
        "    tokens = [token for token in tokens if token not in stop]\n",
        "    # Lemmatize tokens\n",
        "    tokens = [lemmatizer.lemmatize(token) for token in tokens if token not in stopwords_set]\n",
        "    # Join tokens back into text\n",
        "    processed_text = ' '.join(tokens)\n",
        "    return processed_text"
      ]
    },
    {
      "cell_type": "code",
      "execution_count": 642,
      "metadata": {
        "id": "edyXTvgcRv2T"
      },
      "outputs": [],
      "source": [
        "# Split the data into training and testing sets\n",
        "X_train, X_temp, y_train, y_temp = train_test_split(X, y, test_size=0.5, random_state=42)\n",
        "X_test, X_val, y_test, y_val = train_test_split(X_temp, y_temp, test_size=0.6, random_state=42)"
      ]
    },
    {
      "cell_type": "code",
      "execution_count": 643,
      "metadata": {
        "colab": {
          "base_uri": "https://localhost:8080/"
        },
        "id": "pOu6vBGWRwQb",
        "outputId": "3745a344-5353-453f-de60-fc3a6003761e"
      },
      "outputs": [
        {
          "data": {
            "text/plain": [
              "(2496, 2496, 998, 998, 1499, 1499)"
            ]
          },
          "execution_count": 643,
          "metadata": {},
          "output_type": "execute_result"
        }
      ],
      "source": [
        "len(X_train),len(y_train),len(X_test),len(y_test),len(X_val),len(y_val)"
      ]
    },
    {
      "cell_type": "code",
      "execution_count": 644,
      "metadata": {
        "id": "-IdY5wPESBG6"
      },
      "outputs": [],
      "source": [
        "vectorizer = CountVectorizer(preprocessor=preprocessor)\n",
        "lemmatizer = WordNetLemmatizer()"
      ]
    },
    {
      "cell_type": "code",
      "execution_count": 645,
      "metadata": {
        "id": "5V9wTykJUGWJ"
      },
      "outputs": [],
      "source": [
        "naive_pipeline = Pipeline([\n",
        "    ('vect', vectorizer),\n",
        "    ('clf', MultinomialNB())\n",
        "])"
      ]
    },
    {
      "cell_type": "code",
      "execution_count": 646,
      "metadata": {
        "colab": {
          "base_uri": "https://localhost:8080/",
          "height": 126
        },
        "id": "hHTpoTRhUXqO",
        "outputId": "19455885-140c-4665-9ed3-f092b1fd241a"
      },
      "outputs": [
        {
          "data": {
            "text/html": [
              "<style>#sk-container-id-6 {color: black;background-color: white;}#sk-container-id-6 pre{padding: 0;}#sk-container-id-6 div.sk-toggleable {background-color: white;}#sk-container-id-6 label.sk-toggleable__label {cursor: pointer;display: block;width: 100%;margin-bottom: 0;padding: 0.3em;box-sizing: border-box;text-align: center;}#sk-container-id-6 label.sk-toggleable__label-arrow:before {content: \"▸\";float: left;margin-right: 0.25em;color: #696969;}#sk-container-id-6 label.sk-toggleable__label-arrow:hover:before {color: black;}#sk-container-id-6 div.sk-estimator:hover label.sk-toggleable__label-arrow:before {color: black;}#sk-container-id-6 div.sk-toggleable__content {max-height: 0;max-width: 0;overflow: hidden;text-align: left;background-color: #f0f8ff;}#sk-container-id-6 div.sk-toggleable__content pre {margin: 0.2em;color: black;border-radius: 0.25em;background-color: #f0f8ff;}#sk-container-id-6 input.sk-toggleable__control:checked~div.sk-toggleable__content {max-height: 200px;max-width: 100%;overflow: auto;}#sk-container-id-6 input.sk-toggleable__control:checked~label.sk-toggleable__label-arrow:before {content: \"▾\";}#sk-container-id-6 div.sk-estimator input.sk-toggleable__control:checked~label.sk-toggleable__label {background-color: #d4ebff;}#sk-container-id-6 div.sk-label input.sk-toggleable__control:checked~label.sk-toggleable__label {background-color: #d4ebff;}#sk-container-id-6 input.sk-hidden--visually {border: 0;clip: rect(1px 1px 1px 1px);clip: rect(1px, 1px, 1px, 1px);height: 1px;margin: -1px;overflow: hidden;padding: 0;position: absolute;width: 1px;}#sk-container-id-6 div.sk-estimator {font-family: monospace;background-color: #f0f8ff;border: 1px dotted black;border-radius: 0.25em;box-sizing: border-box;margin-bottom: 0.5em;}#sk-container-id-6 div.sk-estimator:hover {background-color: #d4ebff;}#sk-container-id-6 div.sk-parallel-item::after {content: \"\";width: 100%;border-bottom: 1px solid gray;flex-grow: 1;}#sk-container-id-6 div.sk-label:hover label.sk-toggleable__label {background-color: #d4ebff;}#sk-container-id-6 div.sk-serial::before {content: \"\";position: absolute;border-left: 1px solid gray;box-sizing: border-box;top: 0;bottom: 0;left: 50%;z-index: 0;}#sk-container-id-6 div.sk-serial {display: flex;flex-direction: column;align-items: center;background-color: white;padding-right: 0.2em;padding-left: 0.2em;position: relative;}#sk-container-id-6 div.sk-item {position: relative;z-index: 1;}#sk-container-id-6 div.sk-parallel {display: flex;align-items: stretch;justify-content: center;background-color: white;position: relative;}#sk-container-id-6 div.sk-item::before, #sk-container-id-6 div.sk-parallel-item::before {content: \"\";position: absolute;border-left: 1px solid gray;box-sizing: border-box;top: 0;bottom: 0;left: 50%;z-index: -1;}#sk-container-id-6 div.sk-parallel-item {display: flex;flex-direction: column;z-index: 1;position: relative;background-color: white;}#sk-container-id-6 div.sk-parallel-item:first-child::after {align-self: flex-end;width: 50%;}#sk-container-id-6 div.sk-parallel-item:last-child::after {align-self: flex-start;width: 50%;}#sk-container-id-6 div.sk-parallel-item:only-child::after {width: 0;}#sk-container-id-6 div.sk-dashed-wrapped {border: 1px dashed gray;margin: 0 0.4em 0.5em 0.4em;box-sizing: border-box;padding-bottom: 0.4em;background-color: white;}#sk-container-id-6 div.sk-label label {font-family: monospace;font-weight: bold;display: inline-block;line-height: 1.2em;}#sk-container-id-6 div.sk-label-container {text-align: center;}#sk-container-id-6 div.sk-container {/* jupyter's `normalize.less` sets `[hidden] { display: none; }` but bootstrap.min.css set `[hidden] { display: none !important; }` so we also need the `!important` here to be able to override the default hidden behavior on the sphinx rendered scikit-learn.org. See: https://github.com/scikit-learn/scikit-learn/issues/21755 */display: inline-block !important;position: relative;}#sk-container-id-6 div.sk-text-repr-fallback {display: none;}</style><div id=\"sk-container-id-6\" class=\"sk-top-container\"><div class=\"sk-text-repr-fallback\"><pre>Pipeline(steps=[(&#x27;vect&#x27;,\n",
              "                 CountVectorizer(preprocessor=&lt;function preprocessor at 0x7ed0e17a4d30&gt;)),\n",
              "                (&#x27;clf&#x27;, MultinomialNB())])</pre><b>In a Jupyter environment, please rerun this cell to show the HTML representation or trust the notebook. <br />On GitHub, the HTML representation is unable to render, please try loading this page with nbviewer.org.</b></div><div class=\"sk-container\" hidden><div class=\"sk-item sk-dashed-wrapped\"><div class=\"sk-label-container\"><div class=\"sk-label sk-toggleable\"><input class=\"sk-toggleable__control sk-hidden--visually\" id=\"sk-estimator-id-17\" type=\"checkbox\" ><label for=\"sk-estimator-id-17\" class=\"sk-toggleable__label sk-toggleable__label-arrow\">Pipeline</label><div class=\"sk-toggleable__content\"><pre>Pipeline(steps=[(&#x27;vect&#x27;,\n",
              "                 CountVectorizer(preprocessor=&lt;function preprocessor at 0x7ed0e17a4d30&gt;)),\n",
              "                (&#x27;clf&#x27;, MultinomialNB())])</pre></div></div></div><div class=\"sk-serial\"><div class=\"sk-item\"><div class=\"sk-estimator sk-toggleable\"><input class=\"sk-toggleable__control sk-hidden--visually\" id=\"sk-estimator-id-18\" type=\"checkbox\" ><label for=\"sk-estimator-id-18\" class=\"sk-toggleable__label sk-toggleable__label-arrow\">CountVectorizer</label><div class=\"sk-toggleable__content\"><pre>CountVectorizer(preprocessor=&lt;function preprocessor at 0x7ed0e17a4d30&gt;)</pre></div></div></div><div class=\"sk-item\"><div class=\"sk-estimator sk-toggleable\"><input class=\"sk-toggleable__control sk-hidden--visually\" id=\"sk-estimator-id-19\" type=\"checkbox\" ><label for=\"sk-estimator-id-19\" class=\"sk-toggleable__label sk-toggleable__label-arrow\">MultinomialNB</label><div class=\"sk-toggleable__content\"><pre>MultinomialNB()</pre></div></div></div></div></div></div></div>"
            ],
            "text/plain": [
              "Pipeline(steps=[('vect',\n",
              "                 CountVectorizer(preprocessor=<function preprocessor at 0x7ed0e17a4d30>)),\n",
              "                ('clf', MultinomialNB())])"
            ]
          },
          "execution_count": 646,
          "metadata": {},
          "output_type": "execute_result"
        }
      ],
      "source": [
        "# Fit the pipeline\n",
        "naive_pipeline.fit(X_train, y_train)"
      ]
    },
    {
      "cell_type": "code",
      "execution_count": 647,
      "metadata": {
        "id": "0zth0z2RUost"
      },
      "outputs": [],
      "source": [
        "naive_preds = naive_pipeline.predict(X_val)\n",
        "test_preds = naive_pipeline.predict(X_test)"
      ]
    },
    {
      "cell_type": "code",
      "execution_count": 648,
      "metadata": {
        "colab": {
          "base_uri": "https://localhost:8080/"
        },
        "id": "8bDIoMz5Vx-1",
        "outputId": "0f69d97f-a012-4d3a-fe40-688ce27efe55"
      },
      "outputs": [
        {
          "name": "stdout",
          "output_type": "stream",
          "text": [
            "              precision    recall  f1-score   support\n",
            "\n",
            "           0       0.98      0.99      0.98      1027\n",
            "           1       0.97      0.96      0.96       472\n",
            "\n",
            "    accuracy                           0.98      1499\n",
            "   macro avg       0.97      0.97      0.97      1499\n",
            "weighted avg       0.98      0.98      0.98      1499\n",
            "\n"
          ]
        }
      ],
      "source": [
        "print(classification_report(y_val, naive_preds))"
      ]
    },
    {
      "cell_type": "code",
      "execution_count": 649,
      "metadata": {
        "colab": {
          "base_uri": "https://localhost:8080/"
        },
        "id": "HEgfn37Odida",
        "outputId": "c1a607fd-8409-45c9-9b4c-fd8744a97677"
      },
      "outputs": [
        {
          "name": "stdout",
          "output_type": "stream",
          "text": [
            "              precision    recall  f1-score   support\n",
            "\n",
            "           0       0.99      0.98      0.98       688\n",
            "           1       0.95      0.97      0.96       310\n",
            "\n",
            "    accuracy                           0.97       998\n",
            "   macro avg       0.97      0.97      0.97       998\n",
            "weighted avg       0.97      0.97      0.97       998\n",
            "\n"
          ]
        }
      ],
      "source": [
        "print(classification_report(y_test, test_preds))"
      ]
    },
    {
      "cell_type": "code",
      "execution_count": 650,
      "metadata": {
        "colab": {
          "base_uri": "https://localhost:8080/",
          "height": 152
        },
        "id": "lMv6vEzNZwkf",
        "outputId": "737b4fbd-2c34-432a-cf19-02f72dae33ff"
      },
      "outputs": [
        {
          "data": {
            "text/html": [
              "<style>#sk-container-id-7 {color: black;background-color: white;}#sk-container-id-7 pre{padding: 0;}#sk-container-id-7 div.sk-toggleable {background-color: white;}#sk-container-id-7 label.sk-toggleable__label {cursor: pointer;display: block;width: 100%;margin-bottom: 0;padding: 0.3em;box-sizing: border-box;text-align: center;}#sk-container-id-7 label.sk-toggleable__label-arrow:before {content: \"▸\";float: left;margin-right: 0.25em;color: #696969;}#sk-container-id-7 label.sk-toggleable__label-arrow:hover:before {color: black;}#sk-container-id-7 div.sk-estimator:hover label.sk-toggleable__label-arrow:before {color: black;}#sk-container-id-7 div.sk-toggleable__content {max-height: 0;max-width: 0;overflow: hidden;text-align: left;background-color: #f0f8ff;}#sk-container-id-7 div.sk-toggleable__content pre {margin: 0.2em;color: black;border-radius: 0.25em;background-color: #f0f8ff;}#sk-container-id-7 input.sk-toggleable__control:checked~div.sk-toggleable__content {max-height: 200px;max-width: 100%;overflow: auto;}#sk-container-id-7 input.sk-toggleable__control:checked~label.sk-toggleable__label-arrow:before {content: \"▾\";}#sk-container-id-7 div.sk-estimator input.sk-toggleable__control:checked~label.sk-toggleable__label {background-color: #d4ebff;}#sk-container-id-7 div.sk-label input.sk-toggleable__control:checked~label.sk-toggleable__label {background-color: #d4ebff;}#sk-container-id-7 input.sk-hidden--visually {border: 0;clip: rect(1px 1px 1px 1px);clip: rect(1px, 1px, 1px, 1px);height: 1px;margin: -1px;overflow: hidden;padding: 0;position: absolute;width: 1px;}#sk-container-id-7 div.sk-estimator {font-family: monospace;background-color: #f0f8ff;border: 1px dotted black;border-radius: 0.25em;box-sizing: border-box;margin-bottom: 0.5em;}#sk-container-id-7 div.sk-estimator:hover {background-color: #d4ebff;}#sk-container-id-7 div.sk-parallel-item::after {content: \"\";width: 100%;border-bottom: 1px solid gray;flex-grow: 1;}#sk-container-id-7 div.sk-label:hover label.sk-toggleable__label {background-color: #d4ebff;}#sk-container-id-7 div.sk-serial::before {content: \"\";position: absolute;border-left: 1px solid gray;box-sizing: border-box;top: 0;bottom: 0;left: 50%;z-index: 0;}#sk-container-id-7 div.sk-serial {display: flex;flex-direction: column;align-items: center;background-color: white;padding-right: 0.2em;padding-left: 0.2em;position: relative;}#sk-container-id-7 div.sk-item {position: relative;z-index: 1;}#sk-container-id-7 div.sk-parallel {display: flex;align-items: stretch;justify-content: center;background-color: white;position: relative;}#sk-container-id-7 div.sk-item::before, #sk-container-id-7 div.sk-parallel-item::before {content: \"\";position: absolute;border-left: 1px solid gray;box-sizing: border-box;top: 0;bottom: 0;left: 50%;z-index: -1;}#sk-container-id-7 div.sk-parallel-item {display: flex;flex-direction: column;z-index: 1;position: relative;background-color: white;}#sk-container-id-7 div.sk-parallel-item:first-child::after {align-self: flex-end;width: 50%;}#sk-container-id-7 div.sk-parallel-item:last-child::after {align-self: flex-start;width: 50%;}#sk-container-id-7 div.sk-parallel-item:only-child::after {width: 0;}#sk-container-id-7 div.sk-dashed-wrapped {border: 1px dashed gray;margin: 0 0.4em 0.5em 0.4em;box-sizing: border-box;padding-bottom: 0.4em;background-color: white;}#sk-container-id-7 div.sk-label label {font-family: monospace;font-weight: bold;display: inline-block;line-height: 1.2em;}#sk-container-id-7 div.sk-label-container {text-align: center;}#sk-container-id-7 div.sk-container {/* jupyter's `normalize.less` sets `[hidden] { display: none; }` but bootstrap.min.css set `[hidden] { display: none !important; }` so we also need the `!important` here to be able to override the default hidden behavior on the sphinx rendered scikit-learn.org. See: https://github.com/scikit-learn/scikit-learn/issues/21755 */display: inline-block !important;position: relative;}#sk-container-id-7 div.sk-text-repr-fallback {display: none;}</style><div id=\"sk-container-id-7\" class=\"sk-top-container\"><div class=\"sk-text-repr-fallback\"><pre>RandomizedSearchCV(cv=5,\n",
              "                   estimator=Pipeline(steps=[(&#x27;vect&#x27;,\n",
              "                                              CountVectorizer(preprocessor=&lt;function preprocessor at 0x7ed0e17a4d30&gt;)),\n",
              "                                             (&#x27;clf&#x27;, MultinomialNB())]),\n",
              "                   param_distributions={&#x27;clf__alpha&#x27;: [0.1, 0.5, 1.0],\n",
              "                                        &#x27;clf__fit_prior&#x27;: [True, False],\n",
              "                                        &#x27;vect__ngram_range&#x27;: [(1, 1), (1, 2),\n",
              "                                                              (1, 3)]},\n",
              "                   random_state=42)</pre><b>In a Jupyter environment, please rerun this cell to show the HTML representation or trust the notebook. <br />On GitHub, the HTML representation is unable to render, please try loading this page with nbviewer.org.</b></div><div class=\"sk-container\" hidden><div class=\"sk-item sk-dashed-wrapped\"><div class=\"sk-label-container\"><div class=\"sk-label sk-toggleable\"><input class=\"sk-toggleable__control sk-hidden--visually\" id=\"sk-estimator-id-20\" type=\"checkbox\" ><label for=\"sk-estimator-id-20\" class=\"sk-toggleable__label sk-toggleable__label-arrow\">RandomizedSearchCV</label><div class=\"sk-toggleable__content\"><pre>RandomizedSearchCV(cv=5,\n",
              "                   estimator=Pipeline(steps=[(&#x27;vect&#x27;,\n",
              "                                              CountVectorizer(preprocessor=&lt;function preprocessor at 0x7ed0e17a4d30&gt;)),\n",
              "                                             (&#x27;clf&#x27;, MultinomialNB())]),\n",
              "                   param_distributions={&#x27;clf__alpha&#x27;: [0.1, 0.5, 1.0],\n",
              "                                        &#x27;clf__fit_prior&#x27;: [True, False],\n",
              "                                        &#x27;vect__ngram_range&#x27;: [(1, 1), (1, 2),\n",
              "                                                              (1, 3)]},\n",
              "                   random_state=42)</pre></div></div></div><div class=\"sk-parallel\"><div class=\"sk-parallel-item\"><div class=\"sk-item\"><div class=\"sk-label-container\"><div class=\"sk-label sk-toggleable\"><input class=\"sk-toggleable__control sk-hidden--visually\" id=\"sk-estimator-id-21\" type=\"checkbox\" ><label for=\"sk-estimator-id-21\" class=\"sk-toggleable__label sk-toggleable__label-arrow\">estimator: Pipeline</label><div class=\"sk-toggleable__content\"><pre>Pipeline(steps=[(&#x27;vect&#x27;,\n",
              "                 CountVectorizer(preprocessor=&lt;function preprocessor at 0x7ed0e17a4d30&gt;)),\n",
              "                (&#x27;clf&#x27;, MultinomialNB())])</pre></div></div></div><div class=\"sk-serial\"><div class=\"sk-item\"><div class=\"sk-serial\"><div class=\"sk-item\"><div class=\"sk-estimator sk-toggleable\"><input class=\"sk-toggleable__control sk-hidden--visually\" id=\"sk-estimator-id-22\" type=\"checkbox\" ><label for=\"sk-estimator-id-22\" class=\"sk-toggleable__label sk-toggleable__label-arrow\">CountVectorizer</label><div class=\"sk-toggleable__content\"><pre>CountVectorizer(preprocessor=&lt;function preprocessor at 0x7ed0e17a4d30&gt;)</pre></div></div></div><div class=\"sk-item\"><div class=\"sk-estimator sk-toggleable\"><input class=\"sk-toggleable__control sk-hidden--visually\" id=\"sk-estimator-id-23\" type=\"checkbox\" ><label for=\"sk-estimator-id-23\" class=\"sk-toggleable__label sk-toggleable__label-arrow\">MultinomialNB</label><div class=\"sk-toggleable__content\"><pre>MultinomialNB()</pre></div></div></div></div></div></div></div></div></div></div></div></div>"
            ],
            "text/plain": [
              "RandomizedSearchCV(cv=5,\n",
              "                   estimator=Pipeline(steps=[('vect',\n",
              "                                              CountVectorizer(preprocessor=<function preprocessor at 0x7ed0e17a4d30>)),\n",
              "                                             ('clf', MultinomialNB())]),\n",
              "                   param_distributions={'clf__alpha': [0.1, 0.5, 1.0],\n",
              "                                        'clf__fit_prior': [True, False],\n",
              "                                        'vect__ngram_range': [(1, 1), (1, 2),\n",
              "                                                              (1, 3)]},\n",
              "                   random_state=42)"
            ]
          },
          "execution_count": 650,
          "metadata": {},
          "output_type": "execute_result"
        }
      ],
      "source": [
        "# use random search\n",
        "from sklearn.model_selection import RandomizedSearchCV\n",
        "from scipy.stats import randint\n",
        "\n",
        "param_dist = {\n",
        "    'vect__ngram_range': [(1, 1), (1, 2), (1, 3)],\n",
        "    'clf__alpha': [0.1, 0.5, 1.0],\n",
        "    'clf__fit_prior': [True, False]\n",
        "}\n",
        "\n",
        "naive_random_search = RandomizedSearchCV(naive_pipeline, param_dist, cv=5, n_iter=10, random_state=42)\n",
        "naive_random_search.fit(X_train, y_train)"
      ]
    },
    {
      "cell_type": "code",
      "execution_count": 651,
      "metadata": {
        "colab": {
          "base_uri": "https://localhost:8080/"
        },
        "id": "EXXRHO_4ar0s",
        "outputId": "29ca8c76-0719-40c4-de33-f824c5fed90f"
      },
      "outputs": [
        {
          "name": "stdout",
          "output_type": "stream",
          "text": [
            "0.9839711422845692\n",
            "{'vect__ngram_range': (1, 3), 'clf__fit_prior': False, 'clf__alpha': 0.1}\n"
          ]
        }
      ],
      "source": [
        "# find the best model\n",
        "print(naive_random_search.best_score_)\n",
        "print(naive_random_search.best_params_)"
      ]
    },
    {
      "cell_type": "code",
      "execution_count": 652,
      "metadata": {
        "id": "pieIAZKDbcAI"
      },
      "outputs": [],
      "source": [
        "\n",
        "def plot_confusion_matrix(cm, classes,\n",
        "                          normalize=False,\n",
        "                          title='Confusion Matrix',\n",
        "                          cmap=plt.cm.Blues):\n",
        "    \"\"\"\n",
        "    Plot a confusion matrix.\n",
        "\n",
        "    Parameters:\n",
        "    - cm (array): Confusion matrix array.\n",
        "    - classes (list): List of class labels.\n",
        "    - normalize (bool): Whether to normalize the confusion matrix.\n",
        "    - title (str): Title of the plot.\n",
        "    - cmap (matplotlib.colors.Colormap): Colormap for the plot.\n",
        "\n",
        "    Returns:\n",
        "    - fig (matplotlib.figure.Figure): The generated figure.\n",
        "    \"\"\"\n",
        "\n",
        "    if normalize:\n",
        "        cm = cm.astype('float') / cm.sum(axis=1)[:, np.newaxis]\n",
        "        print(\"Normalized Confusion Matrix\")\n",
        "    else:\n",
        "        print('Confusion Matrix (without normalization)')\n",
        "\n",
        "    # Create heatmap\n",
        "    sns.set(font_scale=1.2)  # Adjust font size\n",
        "    plt.figure(figsize=(8, 6))\n",
        "    sns.heatmap(cm, annot=True, fmt='.2f', cmap=cmap, xticklabels=classes, yticklabels=classes)\n",
        "\n",
        "    # Plot settings\n",
        "    plt.title(title)\n",
        "    plt.xlabel('Predicted Label')\n",
        "    plt.ylabel('True Label')\n",
        "    plt.xticks(rotation=45)\n",
        "    plt.yticks(rotation=0)\n",
        "    plt.tight_layout()  # Adjust layout to prevent labels from being clipped\n",
        "\n",
        "    return plt.gcf()  # Returning the plot object"
      ]
    },
    {
      "cell_type": "code",
      "execution_count": 653,
      "metadata": {
        "colab": {
          "base_uri": "https://localhost:8080/",
          "height": 610
        },
        "id": "DxZ2vFfsbgph",
        "outputId": "0e46144c-c06d-4ad4-b78e-f3facffb8117"
      },
      "outputs": [
        {
          "name": "stdout",
          "output_type": "stream",
          "text": [
            "Normalized Confusion Matrix\n"
          ]
        },
        {
          "data": {
            "image/png": "[encoded data removed]",
            "text/plain": [
              "<Figure size 800x600 with 2 Axes>"
            ]
          },
          "metadata": {},
          "output_type": "display_data"
        }
      ],
      "source": [
        "cm = confusion_matrix(y_val, naive_preds)\n",
        "plot_confusion_matrix(cm, classes=['ham', 'spam'], normalize=True)\n",
        "plt.show()"
      ]
    },
    {
      "cell_type": "code",
      "execution_count": 654,
      "metadata": {
        "colab": {
          "base_uri": "https://localhost:8080/",
          "height": 610
        },
        "id": "451QwX7Lcxvs",
        "outputId": "2e6a1694-89ac-4ed4-8e49-d2261347349a"
      },
      "outputs": [
        {
          "name": "stdout",
          "output_type": "stream",
          "text": [
            "Normalized Confusion Matrix\n"
          ]
        },
        {
          "data": {
            "image/png": "[encoded data removed]",
            "text/plain": [
              "<Figure size 800x600 with 2 Axes>"
            ]
          },
          "metadata": {},
          "output_type": "display_data"
        }
      ],
      "source": [
        "cm = confusion_matrix(y_test, test_preds)\n",
        "plot_confusion_matrix(cm, classes=['ham', 'spam'], normalize=True)\n",
        "plt.show()"
      ]
    },
    {
      "cell_type": "markdown",
      "metadata": {
        "id": "Wb9wxlySW5hJ"
      },
      "source": [
        "### Classification report:\n",
        "\n",
        "The model despite its simplicity has achieved truly excellent performance.\n",
        "\n",
        "Even using randomized search to improve performance, the result remain the same."
      ]
    },
    {
      "cell_type": "code",
      "execution_count": null,
      "metadata": {
        "id": "TObk8eg_WRMh"
      },
      "outputs": [],
      "source": []
    }
  ],
  "metadata": {
    "colab": {
      "provenance": []
    },
    "kernelspec": {
      "display_name": "Python 3",
      "name": "python3"
    },
    "language_info": {
      "name": "python",
      "version": "3.9.6"
    }
  },
  "nbformat": 4,
  "nbformat_minor": 0
}
